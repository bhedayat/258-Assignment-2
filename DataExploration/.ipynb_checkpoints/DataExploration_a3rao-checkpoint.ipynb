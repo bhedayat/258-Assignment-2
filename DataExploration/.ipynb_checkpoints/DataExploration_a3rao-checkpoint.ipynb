{
 "cells": [
  {
   "cell_type": "markdown",
   "metadata": {},
   "source": [
    "<br/>\n",
    "## Data Exploration\n",
    "Exploratory analysis on Airbnb dataset to identify interesting phenomena "
   ]
  },
  {
   "cell_type": "markdown",
   "metadata": {},
   "source": [
    "#### Imports and Read in data"
   ]
  },
  {
   "cell_type": "code",
   "execution_count": 73,
   "metadata": {
    "collapsed": false
   },
   "outputs": [],
   "source": [
    "import numpy as np\n",
    "import pandas as pd\n",
    "import seaborn as sns\n",
    "from collections import Counter, defaultdict, OrderedDict\n",
    "import math\n",
    "import matplotlib.pyplot as plt\n",
    "%matplotlib inline"
   ]
  },
  {
   "cell_type": "code",
   "execution_count": 3,
   "metadata": {
    "collapsed": false
   },
   "outputs": [
    {
     "data": {
      "text/html": [
       "<div>\n",
       "<table border=\"1\" class=\"dataframe\">\n",
       "  <thead>\n",
       "    <tr style=\"text-align: right;\">\n",
       "      <th></th>\n",
       "      <th>id</th>\n",
       "      <th>date_account_created</th>\n",
       "      <th>timestamp_first_active</th>\n",
       "      <th>date_first_booking</th>\n",
       "      <th>gender</th>\n",
       "      <th>age</th>\n",
       "      <th>signup_method</th>\n",
       "      <th>signup_flow</th>\n",
       "      <th>language</th>\n",
       "      <th>affiliate_channel</th>\n",
       "      <th>affiliate_provider</th>\n",
       "      <th>first_affiliate_tracked</th>\n",
       "      <th>signup_app</th>\n",
       "      <th>first_device_type</th>\n",
       "      <th>first_browser</th>\n",
       "      <th>country_destination</th>\n",
       "    </tr>\n",
       "  </thead>\n",
       "  <tbody>\n",
       "    <tr>\n",
       "      <th>0</th>\n",
       "      <td>gxn3p5htnn</td>\n",
       "      <td>2010-06-28</td>\n",
       "      <td>20090319043255</td>\n",
       "      <td>NaN</td>\n",
       "      <td>-unknown-</td>\n",
       "      <td>NaN</td>\n",
       "      <td>facebook</td>\n",
       "      <td>0</td>\n",
       "      <td>en</td>\n",
       "      <td>direct</td>\n",
       "      <td>direct</td>\n",
       "      <td>untracked</td>\n",
       "      <td>Web</td>\n",
       "      <td>Mac Desktop</td>\n",
       "      <td>Chrome</td>\n",
       "      <td>NDF</td>\n",
       "    </tr>\n",
       "    <tr>\n",
       "      <th>1</th>\n",
       "      <td>820tgsjxq7</td>\n",
       "      <td>2011-05-25</td>\n",
       "      <td>20090523174809</td>\n",
       "      <td>NaN</td>\n",
       "      <td>MALE</td>\n",
       "      <td>38.0</td>\n",
       "      <td>facebook</td>\n",
       "      <td>0</td>\n",
       "      <td>en</td>\n",
       "      <td>seo</td>\n",
       "      <td>google</td>\n",
       "      <td>untracked</td>\n",
       "      <td>Web</td>\n",
       "      <td>Mac Desktop</td>\n",
       "      <td>Chrome</td>\n",
       "      <td>NDF</td>\n",
       "    </tr>\n",
       "    <tr>\n",
       "      <th>2</th>\n",
       "      <td>4ft3gnwmtx</td>\n",
       "      <td>2010-09-28</td>\n",
       "      <td>20090609231247</td>\n",
       "      <td>2010-08-02</td>\n",
       "      <td>FEMALE</td>\n",
       "      <td>56.0</td>\n",
       "      <td>basic</td>\n",
       "      <td>3</td>\n",
       "      <td>en</td>\n",
       "      <td>direct</td>\n",
       "      <td>direct</td>\n",
       "      <td>untracked</td>\n",
       "      <td>Web</td>\n",
       "      <td>Windows Desktop</td>\n",
       "      <td>IE</td>\n",
       "      <td>US</td>\n",
       "    </tr>\n",
       "    <tr>\n",
       "      <th>3</th>\n",
       "      <td>bjjt8pjhuk</td>\n",
       "      <td>2011-12-05</td>\n",
       "      <td>20091031060129</td>\n",
       "      <td>2012-09-08</td>\n",
       "      <td>FEMALE</td>\n",
       "      <td>42.0</td>\n",
       "      <td>facebook</td>\n",
       "      <td>0</td>\n",
       "      <td>en</td>\n",
       "      <td>direct</td>\n",
       "      <td>direct</td>\n",
       "      <td>untracked</td>\n",
       "      <td>Web</td>\n",
       "      <td>Mac Desktop</td>\n",
       "      <td>Firefox</td>\n",
       "      <td>other</td>\n",
       "    </tr>\n",
       "    <tr>\n",
       "      <th>4</th>\n",
       "      <td>87mebub9p4</td>\n",
       "      <td>2010-09-14</td>\n",
       "      <td>20091208061105</td>\n",
       "      <td>2010-02-18</td>\n",
       "      <td>-unknown-</td>\n",
       "      <td>41.0</td>\n",
       "      <td>basic</td>\n",
       "      <td>0</td>\n",
       "      <td>en</td>\n",
       "      <td>direct</td>\n",
       "      <td>direct</td>\n",
       "      <td>untracked</td>\n",
       "      <td>Web</td>\n",
       "      <td>Mac Desktop</td>\n",
       "      <td>Chrome</td>\n",
       "      <td>US</td>\n",
       "    </tr>\n",
       "  </tbody>\n",
       "</table>\n",
       "</div>"
      ],
      "text/plain": [
       "           id date_account_created  timestamp_first_active date_first_booking  \\\n",
       "0  gxn3p5htnn           2010-06-28          20090319043255                NaN   \n",
       "1  820tgsjxq7           2011-05-25          20090523174809                NaN   \n",
       "2  4ft3gnwmtx           2010-09-28          20090609231247         2010-08-02   \n",
       "3  bjjt8pjhuk           2011-12-05          20091031060129         2012-09-08   \n",
       "4  87mebub9p4           2010-09-14          20091208061105         2010-02-18   \n",
       "\n",
       "      gender   age signup_method  signup_flow language affiliate_channel  \\\n",
       "0  -unknown-   NaN      facebook            0       en            direct   \n",
       "1       MALE  38.0      facebook            0       en               seo   \n",
       "2     FEMALE  56.0         basic            3       en            direct   \n",
       "3     FEMALE  42.0      facebook            0       en            direct   \n",
       "4  -unknown-  41.0         basic            0       en            direct   \n",
       "\n",
       "  affiliate_provider first_affiliate_tracked signup_app first_device_type  \\\n",
       "0             direct               untracked        Web       Mac Desktop   \n",
       "1             google               untracked        Web       Mac Desktop   \n",
       "2             direct               untracked        Web   Windows Desktop   \n",
       "3             direct               untracked        Web       Mac Desktop   \n",
       "4             direct               untracked        Web       Mac Desktop   \n",
       "\n",
       "  first_browser country_destination  \n",
       "0        Chrome                 NDF  \n",
       "1        Chrome                 NDF  \n",
       "2            IE                  US  \n",
       "3       Firefox               other  \n",
       "4        Chrome                  US  "
      ]
     },
     "execution_count": 3,
     "metadata": {},
     "output_type": "execute_result"
    }
   ],
   "source": [
    "train_users_path = '../../Data/train_users_2.csv'\n",
    "train_users = pd.read_csv(train_users_path)\n",
    "train_users.head()"
   ]
  },
  {
   "cell_type": "code",
   "execution_count": 22,
   "metadata": {
    "collapsed": false
   },
   "outputs": [
    {
     "data": {
      "text/html": [
       "<div>\n",
       "<table border=\"1\" class=\"dataframe\">\n",
       "  <thead>\n",
       "    <tr style=\"text-align: right;\">\n",
       "      <th></th>\n",
       "      <th>user_id</th>\n",
       "      <th>action</th>\n",
       "      <th>action_type</th>\n",
       "      <th>action_detail</th>\n",
       "      <th>device_type</th>\n",
       "      <th>secs_elapsed</th>\n",
       "    </tr>\n",
       "  </thead>\n",
       "  <tbody>\n",
       "    <tr>\n",
       "      <th>0</th>\n",
       "      <td>d1mm9tcy42</td>\n",
       "      <td>lookup</td>\n",
       "      <td>NaN</td>\n",
       "      <td>NaN</td>\n",
       "      <td>Windows Desktop</td>\n",
       "      <td>319.0</td>\n",
       "    </tr>\n",
       "    <tr>\n",
       "      <th>1</th>\n",
       "      <td>d1mm9tcy42</td>\n",
       "      <td>search_results</td>\n",
       "      <td>click</td>\n",
       "      <td>view_search_results</td>\n",
       "      <td>Windows Desktop</td>\n",
       "      <td>67753.0</td>\n",
       "    </tr>\n",
       "    <tr>\n",
       "      <th>2</th>\n",
       "      <td>d1mm9tcy42</td>\n",
       "      <td>lookup</td>\n",
       "      <td>NaN</td>\n",
       "      <td>NaN</td>\n",
       "      <td>Windows Desktop</td>\n",
       "      <td>301.0</td>\n",
       "    </tr>\n",
       "    <tr>\n",
       "      <th>3</th>\n",
       "      <td>d1mm9tcy42</td>\n",
       "      <td>search_results</td>\n",
       "      <td>click</td>\n",
       "      <td>view_search_results</td>\n",
       "      <td>Windows Desktop</td>\n",
       "      <td>22141.0</td>\n",
       "    </tr>\n",
       "    <tr>\n",
       "      <th>4</th>\n",
       "      <td>d1mm9tcy42</td>\n",
       "      <td>lookup</td>\n",
       "      <td>NaN</td>\n",
       "      <td>NaN</td>\n",
       "      <td>Windows Desktop</td>\n",
       "      <td>435.0</td>\n",
       "    </tr>\n",
       "  </tbody>\n",
       "</table>\n",
       "</div>"
      ],
      "text/plain": [
       "      user_id          action action_type        action_detail  \\\n",
       "0  d1mm9tcy42          lookup         NaN                  NaN   \n",
       "1  d1mm9tcy42  search_results       click  view_search_results   \n",
       "2  d1mm9tcy42          lookup         NaN                  NaN   \n",
       "3  d1mm9tcy42  search_results       click  view_search_results   \n",
       "4  d1mm9tcy42          lookup         NaN                  NaN   \n",
       "\n",
       "       device_type  secs_elapsed  \n",
       "0  Windows Desktop         319.0  \n",
       "1  Windows Desktop       67753.0  \n",
       "2  Windows Desktop         301.0  \n",
       "3  Windows Desktop       22141.0  \n",
       "4  Windows Desktop         435.0  "
      ]
     },
     "execution_count": 22,
     "metadata": {},
     "output_type": "execute_result"
    }
   ],
   "source": [
    "sessions_csv_path = '../../Data/sessions.csv'\n",
    "sessions = pd.read_csv(sessions_csv_path)\n",
    "sessions.head()"
   ]
  },
  {
   "cell_type": "markdown",
   "metadata": {},
   "source": [
    "<br/>\n",
    "### Bookings over Months, per Destination"
   ]
  },
  {
   "cell_type": "code",
   "execution_count": 16,
   "metadata": {
    "collapsed": false
   },
   "outputs": [],
   "source": [
    "from operator import itemgetter\n",
    "import datetime\n",
    "import dateutil.parser\n",
    "from matplotlib.dates import MonthLocator, DateFormatter\n",
    "\n",
    "def plotBookingsPerTime(train_booked):\n",
    "    countries = set(train_booked['country_destination'])\n",
    "    \n",
    "    fig, ax = plt.subplots(figsize = (10,5))\n",
    "\n",
    "    # Loop through each country \n",
    "    for country in countries:\n",
    "        train_country = train_booked[train_booked['country_destination'] == country]\n",
    "        \n",
    "        c = Counter(train_country['date_first_booking'])\n",
    "        dateList = sorted (c.items(), key = itemgetter(0))\n",
    "        \n",
    "        yearMonthDict = defaultdict(int)\n",
    "        for (iso, val) in dateList:\n",
    "            yearMonth = iso[:7]\n",
    "            yearMonthDict[yearMonth] += val \n",
    "        yearMonthList = sorted (yearMonthDict.items(), key = itemgetter(0))\n",
    "        \n",
    "        dateList = []\n",
    "        valList = []\n",
    "        for (mon, val) in yearMonthList:\n",
    "            dateList.append(dateutil.parser.parse(mon))\n",
    "            valList.append(val)\n",
    "            \n",
    "        ax.plot_date(dateList, valList, '-')\n",
    "           \n",
    "    ax.xaxis.set_major_locator(MonthLocator(interval = 3))\n",
    "    ax.xaxis.set_major_formatter(DateFormatter('%Y-%m'))\n",
    "\n",
    "    ax.fmt_xdata = DateFormatter('%Y-%m')\n",
    "    fig.autofmt_xdate()\n",
    "    plt.title('Airbnb bookings over Time, per Destination')\n",
    "    plt.ylabel('Number of bookings')\n",
    "    plt.xlabel('Date')\n",
    "    plt.legend(list(countries))\n",
    "    return plt"
   ]
  },
  {
   "cell_type": "code",
   "execution_count": 18,
   "metadata": {
    "collapsed": false
   },
   "outputs": [
    {
     "data": {
      "image/png": "[encoded data removed]",
      "text/plain": [
       "<matplotlib.figure.Figure at 0x10eacfcd0>"
      ]
     },
     "metadata": {},
     "output_type": "display_data"
    }
   ],
   "source": [
    "train_booked = train_users[train_users['country_destination'] != 'NDF']\n",
    "bookingsPlot = plotBookingsPerTime(train_booked)\n",
    "bookingsPlot.show()"
   ]
  },
  {
   "cell_type": "markdown",
   "metadata": {},
   "source": [
    "#### Observations\n",
    "\n",
    "- The number of US headed bookings dominate the rest of the countries (probably domestic travel, also supported by language data below).\n",
    "- Usage increases over the years, but there also seems to be seasonal trends.\n",
    "- A large drop happens around June/July 2014 - not clear why (perhaps a legal issue? https://en.wikipedia.org/wiki/Timeline_of_Airbnb)\n",
    "- Booking patterns seem to be similar across different countries."
   ]
  },
  {
   "cell_type": "code",
   "execution_count": 20,
   "metadata": {
    "collapsed": false
   },
   "outputs": [
    {
     "data": {
      "image/png": "[encoded data removed]",
      "text/plain": [
       "<matplotlib.figure.Figure at 0x10eae0c10>"
      ]
     },
     "metadata": {},
     "output_type": "display_data"
    }
   ],
   "source": [
    "# Try again, but US is not included this time\n",
    "train_booked = train_users[train_users['country_destination'] != 'NDF']\n",
    "train_booked = train_booked[train_booked['country_destination'] != 'US']\n",
    "bookingsPlot = plotBookingsPerTime(train_booked)\n",
    "bookingsPlot.show()"
   ]
  },
  {
   "cell_type": "markdown",
   "metadata": {},
   "source": [
    "#### Language Preferences"
   ]
  },
  {
   "cell_type": "code",
   "execution_count": 90,
   "metadata": {
    "collapsed": false
   },
   "outputs": [
    {
     "data": {
      "image/png": "[encoded data removed]",
      "text/plain": [
       "<matplotlib.figure.Figure at 0x118e7d650>"
      ]
     },
     "metadata": {},
     "output_type": "display_data"
    }
   ],
   "source": [
    "# Plot Languages\n",
    "userLangs = OrderedDict(Counter(train_users['language']).most_common())\n",
    "sns.barplot(x=userLangs.keys(), y=userLangs.values())\n",
    "plt.title('Preferred language across Users')\n",
    "plt.xlabel('Language')\n",
    "plt.ylabel('Number of Users')\n",
    "sns.despine()"
   ]
  },
  {
   "cell_type": "code",
   "execution_count": 91,
   "metadata": {
    "collapsed": false
   },
   "outputs": [
    {
     "data": {
      "image/png": "[encoded data removed]",
      "text/plain": [
       "<matplotlib.figure.Figure at 0x10df9fdd0>"
      ]
     },
     "metadata": {},
     "output_type": "display_data"
    }
   ],
   "source": [
    "# Plot Languages WITHOUT en\n",
    "userLangs = OrderedDict(Counter(train_users['language']).most_common())\n",
    "del userLangs['en']\n",
    "sns.barplot(x=userLangs.keys(), y=userLangs.values())\n",
    "plt.title('Preferred language across Users - without english')\n",
    "plt.xlabel('Language')\n",
    "plt.ylabel('Number of Users')\n",
    "sns.despine()"
   ]
  },
  {
   "cell_type": "markdown",
   "metadata": {},
   "source": [
    "Most users have English as the preferred language - the user base seems to be mostly US. This partially explains the abundance of bookings with US as the destination. While we don't have the country of origin of these first-time users, it is likely that many of these are domestic travel."
   ]
  },
  {
   "cell_type": "markdown",
   "metadata": {},
   "source": [
    "<br/>\n",
    "### Destination per Sign-up Method"
   ]
  },
  {
   "cell_type": "code",
   "execution_count": 109,
   "metadata": {
    "collapsed": false
   },
   "outputs": [
    {
     "name": "stderr",
     "output_type": "stream",
     "text": [
      "/Users/arvind/anaconda/envs/python2/lib/python2.7/site-packages/ipykernel/__main__.py:16: UserWarning: Boolean Series key will be reindexed to match DataFrame index.\n",
      "/Users/arvind/anaconda/envs/python2/lib/python2.7/site-packages/ipykernel/__main__.py:17: UserWarning: Boolean Series key will be reindexed to match DataFrame index.\n"
     ]
    },
    {
     "data": {
      "image/png": "[encoded data removed]",
      "text/plain": [
       "<matplotlib.figure.Figure at 0x118fef450>"
      ]
     },
     "metadata": {},
     "output_type": "display_data"
    },
    {
     "data": {
      "image/png": "[encoded data removed]",
      "text/plain": [
       "<matplotlib.figure.Figure at 0x10f8d5ad0>"
      ]
     },
     "metadata": {},
     "output_type": "display_data"
    }
   ],
   "source": [
    "# append ones for counting ....\n",
    "train_users['unit'] = np.ones(len(train_users))\n",
    "\n",
    "# group by country, remove NDF\n",
    "train_booked = train_users[train_users['country_destination'] != 'NDF']\n",
    "signupDest = pd.DataFrame({'count' : train_booked.groupby(['signup_method','country_destination'])['unit'].count()}).reset_index()\n",
    "sns.barplot(x=signupDest['signup_method'], y=signupDest['count'], hue=signupDest[\"country_destination\"])\n",
    "plt.title('Airbnb bookings by Signup Method, per Destination')\n",
    "plt.xlabel('Signup Methods')\n",
    "plt.ylabel('Number of Bookings')\n",
    "plt.legend(loc='center left', bbox_to_anchor=(1, 0.5))\n",
    "sns.despine()\n",
    "\n",
    "# without US and other\n",
    "plt.figure()\n",
    "train_booked = train_booked[train_users['country_destination'] != 'US']\n",
    "train_booked = train_booked[train_users['country_destination'] != 'other']\n",
    "signupDest = pd.DataFrame({'count' : train_booked.groupby(['signup_method','country_destination'])['unit'].count()}).reset_index()\n",
    "sns.barplot(x=signupDest['signup_method'], y=signupDest['count'], hue=signupDest[\"country_destination\"])\n",
    "plt.title('Airbnb bookings by Signup Method, per Destination')\n",
    "plt.xlabel('Signup Methods')\n",
    "plt.ylabel('Number of Bookings')\n",
    "plt.legend(loc='center left', bbox_to_anchor=(1, 0.5))\n",
    "sns.despine()"
   ]
  },
  {
   "cell_type": "code",
   "execution_count": 112,
   "metadata": {
    "collapsed": false
   },
   "outputs": [
    {
     "data": {
      "image/png": "[encoded data removed]",
      "text/plain": [
       "<matplotlib.figure.Figure at 0x10de8bed0>"
      ]
     },
     "metadata": {},
     "output_type": "display_data"
    }
   ],
   "source": [
    "# Trying the opposite, for fun\n",
    "train_booked = train_users[train_users['country_destination'] != 'NDF']\n",
    "signupDest = pd.DataFrame({'count' : train_booked.groupby(['signup_method','country_destination'])['unit'].count()}).reset_index()\n",
    "sns.barplot(x=signupDest['country_destination'], y=signupDest['count'], hue=signupDest[\"signup_method\"])\n",
    "plt.title('Airbnb bookings by Destination, per Sign-up Method')\n",
    "plt.xlabel('Signup Methods')\n",
    "plt.ylabel('Number of Bookings')\n",
    "plt.legend(loc='center left', bbox_to_anchor=(1, 0.5))\n",
    "sns.despine()"
   ]
  },
  {
   "cell_type": "markdown",
   "metadata": {},
   "source": [
    "Again, all of this only seems to re-emphasize the popularity of US as a destination. It seems the difficult task here may be how accurately we can predict the destination for the 'outliers' (i.e - non US destination bookings), especially in light of the NDCG evaluation metric suggested by the competition (https://www.kaggle.com/c/airbnb-recruiting-new-user-bookings#evaluation), which will take into account the ordering of the given recommendations. Looking for features that may indicate higher chances of the other countries may be good."
   ]
  },
  {
   "cell_type": "markdown",
   "metadata": {},
   "source": [
    "<br/>\n",
    "### Looking into Session Activities"
   ]
  },
  {
   "cell_type": "code",
   "execution_count": 21,
   "metadata": {
    "collapsed": false
   },
   "outputs": [
    {
     "data": {
      "text/html": [
       "<div>\n",
       "<table border=\"1\" class=\"dataframe\">\n",
       "  <thead>\n",
       "    <tr style=\"text-align: right;\">\n",
       "      <th></th>\n",
       "      <th>id</th>\n",
       "      <th>date_account_created</th>\n",
       "      <th>timestamp_first_active</th>\n",
       "      <th>date_first_booking</th>\n",
       "      <th>gender</th>\n",
       "      <th>age</th>\n",
       "      <th>signup_method</th>\n",
       "      <th>signup_flow</th>\n",
       "      <th>language</th>\n",
       "      <th>affiliate_channel</th>\n",
       "      <th>affiliate_provider</th>\n",
       "      <th>first_affiliate_tracked</th>\n",
       "      <th>signup_app</th>\n",
       "      <th>first_device_type</th>\n",
       "      <th>first_browser</th>\n",
       "      <th>country_destination</th>\n",
       "    </tr>\n",
       "  </thead>\n",
       "  <tbody>\n",
       "    <tr>\n",
       "      <th>137021</th>\n",
       "      <td>d1mm9tcy42</td>\n",
       "      <td>2014-01-01</td>\n",
       "      <td>20140101000936</td>\n",
       "      <td>2014-01-04</td>\n",
       "      <td>MALE</td>\n",
       "      <td>62.0</td>\n",
       "      <td>basic</td>\n",
       "      <td>0</td>\n",
       "      <td>en</td>\n",
       "      <td>sem-non-brand</td>\n",
       "      <td>google</td>\n",
       "      <td>omg</td>\n",
       "      <td>Web</td>\n",
       "      <td>Windows Desktop</td>\n",
       "      <td>Chrome</td>\n",
       "      <td>other</td>\n",
       "    </tr>\n",
       "  </tbody>\n",
       "</table>\n",
       "</div>"
      ],
      "text/plain": [
       "                id date_account_created  timestamp_first_active  \\\n",
       "137021  d1mm9tcy42           2014-01-01          20140101000936   \n",
       "\n",
       "       date_first_booking gender   age signup_method  signup_flow language  \\\n",
       "137021         2014-01-04   MALE  62.0         basic            0       en   \n",
       "\n",
       "       affiliate_channel affiliate_provider first_affiliate_tracked  \\\n",
       "137021     sem-non-brand             google                     omg   \n",
       "\n",
       "       signup_app first_device_type first_browser country_destination  \n",
       "137021        Web   Windows Desktop        Chrome               other  "
      ]
     },
     "execution_count": 21,
     "metadata": {},
     "output_type": "execute_result"
    }
   ],
   "source": [
    "train_users[train_users['id']=='d1mm9tcy42']"
   ]
  },
  {
   "cell_type": "code",
   "execution_count": 40,
   "metadata": {
    "collapsed": true
   },
   "outputs": [],
   "source": [
    "# Get users who did purchase vs not purchased\n",
    "train_noPurchase = train_users[train_users['country_destination']=='NDF']\n",
    "noPurchase_users = set(train_noPurchase['id'])\n",
    "\n",
    "train_yesPurchase = train_users[train_users['country_destination']!='NDF']\n",
    "yesPurchase_users = set(train_yesPurchase['id'])"
   ]
  },
  {
   "cell_type": "code",
   "execution_count": 48,
   "metadata": {
    "collapsed": false
   },
   "outputs": [],
   "source": [
    "# Look at total time spent for now\n",
    "sessions_noPurchase = sessions[sessions['user_id'].isin(noPurchase_users)]\n",
    "sessions_yesPurchase = sessions[sessions['user_id'].isin(yesPurchase_users)]"
   ]
  },
  {
   "cell_type": "code",
   "execution_count": 55,
   "metadata": {
    "collapsed": false
   },
   "outputs": [
    {
     "data": {
      "text/html": [
       "<div>\n",
       "<table border=\"1\" class=\"dataframe\">\n",
       "  <thead>\n",
       "    <tr style=\"text-align: right;\">\n",
       "      <th></th>\n",
       "      <th>user_id</th>\n",
       "      <th>action</th>\n",
       "      <th>action_type</th>\n",
       "      <th>action_detail</th>\n",
       "      <th>device_type</th>\n",
       "      <th>secs_elapsed</th>\n",
       "    </tr>\n",
       "  </thead>\n",
       "  <tbody>\n",
       "    <tr>\n",
       "      <th>127</th>\n",
       "      <td>yo8nz8bqcq</td>\n",
       "      <td>dashboard</td>\n",
       "      <td>view</td>\n",
       "      <td>dashboard</td>\n",
       "      <td>Mac Desktop</td>\n",
       "      <td>2739.0</td>\n",
       "    </tr>\n",
       "    <tr>\n",
       "      <th>128</th>\n",
       "      <td>yo8nz8bqcq</td>\n",
       "      <td>create</td>\n",
       "      <td>submit</td>\n",
       "      <td>create_user</td>\n",
       "      <td>Mac Desktop</td>\n",
       "      <td>NaN</td>\n",
       "    </tr>\n",
       "    <tr>\n",
       "      <th>129</th>\n",
       "      <td>yo8nz8bqcq</td>\n",
       "      <td>confirm_email</td>\n",
       "      <td>click</td>\n",
       "      <td>confirm_email_link</td>\n",
       "      <td>Mac Desktop</td>\n",
       "      <td>115983.0</td>\n",
       "    </tr>\n",
       "    <tr>\n",
       "      <th>130</th>\n",
       "      <td>yo8nz8bqcq</td>\n",
       "      <td>show</td>\n",
       "      <td>view</td>\n",
       "      <td>p3</td>\n",
       "      <td>Mac Desktop</td>\n",
       "      <td>20285.0</td>\n",
       "    </tr>\n",
       "    <tr>\n",
       "      <th>131</th>\n",
       "      <td>yo8nz8bqcq</td>\n",
       "      <td>show_personalize</td>\n",
       "      <td>data</td>\n",
       "      <td>user_profile_content_update</td>\n",
       "      <td>Mac Desktop</td>\n",
       "      <td>3255.0</td>\n",
       "    </tr>\n",
       "  </tbody>\n",
       "</table>\n",
       "</div>"
      ],
      "text/plain": [
       "        user_id            action action_type                action_detail  \\\n",
       "127  yo8nz8bqcq         dashboard        view                    dashboard   \n",
       "128  yo8nz8bqcq            create      submit                  create_user   \n",
       "129  yo8nz8bqcq     confirm_email       click           confirm_email_link   \n",
       "130  yo8nz8bqcq              show        view                           p3   \n",
       "131  yo8nz8bqcq  show_personalize        data  user_profile_content_update   \n",
       "\n",
       "     device_type  secs_elapsed  \n",
       "127  Mac Desktop        2739.0  \n",
       "128  Mac Desktop           NaN  \n",
       "129  Mac Desktop      115983.0  \n",
       "130  Mac Desktop       20285.0  \n",
       "131  Mac Desktop        3255.0  "
      ]
     },
     "execution_count": 55,
     "metadata": {},
     "output_type": "execute_result"
    }
   ],
   "source": [
    "sessions_noPurchase.head()"
   ]
  },
  {
   "cell_type": "code",
   "execution_count": null,
   "metadata": {
    "collapsed": true
   },
   "outputs": [],
   "source": [
    "### WIP here ###"
   ]
  },
  {
   "cell_type": "code",
   "execution_count": null,
   "metadata": {
    "collapsed": true
   },
   "outputs": [],
   "source": []
  },
  {
   "cell_type": "markdown",
   "metadata": {},
   "source": [
    "### Counting"
   ]
  },
  {
   "cell_type": "code",
   "execution_count": 24,
   "metadata": {
    "collapsed": false
   },
   "outputs": [
    {
     "data": {
      "text/plain": [
       "[('basic', 152897), ('facebook', 60008), ('google', 546)]"
      ]
     },
     "execution_count": 24,
     "metadata": {},
     "output_type": "execute_result"
    }
   ],
   "source": [
    "Counter(train_users['signup_method']).most_common()"
   ]
  },
  {
   "cell_type": "code",
   "execution_count": 23,
   "metadata": {
    "collapsed": false
   },
   "outputs": [
    {
     "data": {
      "text/plain": [
       "[('Mac Desktop', 89600),\n",
       " ('Windows Desktop', 72716),\n",
       " ('iPhone', 20759),\n",
       " ('iPad', 14339),\n",
       " ('Other/Unknown', 10667),\n",
       " ('Android Phone', 2803),\n",
       " ('Android Tablet', 1292),\n",
       " ('Desktop (Other)', 1199),\n",
       " ('SmartPhone (Other)', 76)]"
      ]
     },
     "execution_count": 23,
     "metadata": {},
     "output_type": "execute_result"
    }
   ],
   "source": [
    "Counter(train_users['first_device_type']).most_common()"
   ]
  },
  {
   "cell_type": "code",
   "execution_count": 19,
   "metadata": {
    "collapsed": false
   },
   "outputs": [
    {
     "data": {
      "text/plain": [
       "[('Chrome', 63845),\n",
       " ('Safari', 45169),\n",
       " ('Firefox', 33655),\n",
       " ('-unknown-', 27266),\n",
       " ('IE', 21068),\n",
       " ('Mobile Safari', 19274),\n",
       " ('Chrome Mobile', 1270),\n",
       " ('Android Browser', 851),\n",
       " ('AOL Explorer', 245),\n",
       " ('Opera', 188),\n",
       " ('Silk', 124),\n",
       " ('Chromium', 73),\n",
       " ('BlackBerry Browser', 53),\n",
       " ('Maxthon', 46),\n",
       " ('Apple Mail', 36),\n",
       " ('IE Mobile', 36),\n",
       " ('Sogou Explorer', 33),\n",
       " ('Mobile Firefox', 30),\n",
       " ('SiteKiosk', 24),\n",
       " ('RockMelt', 24),\n",
       " ('Iron', 17),\n",
       " ('IceWeasel', 13),\n",
       " ('Pale Moon', 12),\n",
       " ('CometBird', 11),\n",
       " ('SeaMonkey', 11),\n",
       " ('Yandex.Browser', 11),\n",
       " ('Camino', 9),\n",
       " ('TenFourFox', 8),\n",
       " ('wOSBrowser', 6),\n",
       " ('CoolNovo', 6),\n",
       " ('Avant Browser', 4),\n",
       " ('Opera Mini', 4),\n",
       " ('Mozilla', 3),\n",
       " ('TheWorld Browser', 2),\n",
       " ('Comodo Dragon', 2),\n",
       " ('OmniWeb', 2),\n",
       " ('SlimBrowser', 2),\n",
       " ('Opera Mobile', 2),\n",
       " ('Flock', 2),\n",
       " ('Crazy Browser', 2),\n",
       " ('Stainless', 1),\n",
       " ('Outlook 2007', 1),\n",
       " ('Epic', 1),\n",
       " ('PS Vita browser', 1),\n",
       " ('Kindle Browser', 1),\n",
       " ('Palm Pre web browser', 1),\n",
       " ('Conkeror', 1),\n",
       " ('IceDragon', 1),\n",
       " ('Googlebot', 1),\n",
       " ('NetNewsWire', 1),\n",
       " ('Arora', 1),\n",
       " ('Google Earth', 1)]"
      ]
     },
     "execution_count": 19,
     "metadata": {},
     "output_type": "execute_result"
    }
   ],
   "source": [
    "Counter(train_users['first_browser']).most_common()"
   ]
  },
  {
   "cell_type": "code",
   "execution_count": 20,
   "metadata": {
    "collapsed": false
   },
   "outputs": [
    {
     "data": {
      "text/plain": [
       "[('NDF', 124543),\n",
       " ('US', 62376),\n",
       " ('other', 10094),\n",
       " ('FR', 5023),\n",
       " ('IT', 2835),\n",
       " ('GB', 2324),\n",
       " ('ES', 2249),\n",
       " ('CA', 1428),\n",
       " ('DE', 1061),\n",
       " ('NL', 762),\n",
       " ('AU', 539),\n",
       " ('PT', 217)]"
      ]
     },
     "execution_count": 20,
     "metadata": {},
     "output_type": "execute_result"
    }
   ],
   "source": [
    "Counter(train_users['country_destination']).most_common()"
   ]
  },
  {
   "cell_type": "code",
   "execution_count": 21,
   "metadata": {
    "collapsed": false
   },
   "outputs": [
    {
     "data": {
      "text/plain": [
       "[('basic', 152897), ('facebook', 60008), ('google', 546)]"
      ]
     },
     "execution_count": 21,
     "metadata": {},
     "output_type": "execute_result"
    }
   ],
   "source": [
    "Counter(train_users['signup_method']).most_common()"
   ]
  },
  {
   "cell_type": "code",
   "execution_count": 26,
   "metadata": {
    "collapsed": false
   },
   "outputs": [
    {
     "data": {
      "text/plain": [
       "[('untracked', 109232),\n",
       " ('linked', 46287),\n",
       " ('omg', 43982),\n",
       " ('tracked-other', 6156),\n",
       " (nan, 6065),\n",
       " ('product', 1556),\n",
       " ('marketing', 139),\n",
       " ('local ops', 34)]"
      ]
     },
     "execution_count": 26,
     "metadata": {},
     "output_type": "execute_result"
    }
   ],
   "source": [
    "Counter(train_users['first_affiliate_tracked']).most_common()"
   ]
  },
  {
   "cell_type": "code",
   "execution_count": 36,
   "metadata": {
    "collapsed": false
   },
   "outputs": [
    {
     "data": {
      "text/plain": [
       "[('Web', 182717), ('iOS', 19019), ('Moweb', 6261), ('Android', 5454)]"
      ]
     },
     "execution_count": 36,
     "metadata": {},
     "output_type": "execute_result"
    }
   ],
   "source": [
    "Counter(train_users['signup_app']).most_common()"
   ]
  },
  {
   "cell_type": "code",
   "execution_count": 37,
   "metadata": {
    "collapsed": false
   },
   "outputs": [
    {
     "data": {
      "text/plain": [
       "[(0, 164739),\n",
       " (25, 14659),\n",
       " (12, 9329),\n",
       " (3, 8822),\n",
       " (2, 6881),\n",
       " (24, 4328),\n",
       " (23, 2835),\n",
       " (1, 1047),\n",
       " (6, 301),\n",
       " (8, 240),\n",
       " (21, 196),\n",
       " (5, 36),\n",
       " (20, 14),\n",
       " (16, 11),\n",
       " (15, 10),\n",
       " (10, 2),\n",
       " (4, 1)]"
      ]
     },
     "execution_count": 37,
     "metadata": {},
     "output_type": "execute_result"
    }
   ],
   "source": [
    "Counter(train_users['signup_flow']).most_common()"
   ]
  },
  {
   "cell_type": "markdown",
   "metadata": {},
   "source": [
    "#### Gender / Age"
   ]
  },
  {
   "cell_type": "code",
   "execution_count": 43,
   "metadata": {
    "collapsed": true
   },
   "outputs": [],
   "source": [
    "age_gender_bkts_path = '../../Data/age_gender_bkts.csv'"
   ]
  },
  {
   "cell_type": "code",
   "execution_count": 57,
   "metadata": {
    "collapsed": false
   },
   "outputs": [],
   "source": [
    "countries = set(train_users['country_destination'])\n",
    "ageBuckets = set(age_gender_pd['age_bucket'])"
   ]
  },
  {
   "cell_type": "code",
   "execution_count": 52,
   "metadata": {
    "collapsed": false
   },
   "outputs": [
    {
     "data": {
      "text/html": [
       "<div>\n",
       "<table border=\"1\" class=\"dataframe\">\n",
       "  <thead>\n",
       "    <tr style=\"text-align: right;\">\n",
       "      <th></th>\n",
       "      <th>age_bucket</th>\n",
       "      <th>country_destination</th>\n",
       "      <th>gender</th>\n",
       "      <th>population_in_thousands</th>\n",
       "      <th>year</th>\n",
       "    </tr>\n",
       "  </thead>\n",
       "  <tbody>\n",
       "    <tr>\n",
       "      <th>0</th>\n",
       "      <td>100+</td>\n",
       "      <td>AU</td>\n",
       "      <td>male</td>\n",
       "      <td>1.0</td>\n",
       "      <td>2015.0</td>\n",
       "    </tr>\n",
       "    <tr>\n",
       "      <th>1</th>\n",
       "      <td>95-99</td>\n",
       "      <td>AU</td>\n",
       "      <td>male</td>\n",
       "      <td>9.0</td>\n",
       "      <td>2015.0</td>\n",
       "    </tr>\n",
       "    <tr>\n",
       "      <th>2</th>\n",
       "      <td>90-94</td>\n",
       "      <td>AU</td>\n",
       "      <td>male</td>\n",
       "      <td>47.0</td>\n",
       "      <td>2015.0</td>\n",
       "    </tr>\n",
       "    <tr>\n",
       "      <th>3</th>\n",
       "      <td>85-89</td>\n",
       "      <td>AU</td>\n",
       "      <td>male</td>\n",
       "      <td>118.0</td>\n",
       "      <td>2015.0</td>\n",
       "    </tr>\n",
       "    <tr>\n",
       "      <th>4</th>\n",
       "      <td>80-84</td>\n",
       "      <td>AU</td>\n",
       "      <td>male</td>\n",
       "      <td>199.0</td>\n",
       "      <td>2015.0</td>\n",
       "    </tr>\n",
       "    <tr>\n",
       "      <th>5</th>\n",
       "      <td>75-79</td>\n",
       "      <td>AU</td>\n",
       "      <td>male</td>\n",
       "      <td>298.0</td>\n",
       "      <td>2015.0</td>\n",
       "    </tr>\n",
       "    <tr>\n",
       "      <th>6</th>\n",
       "      <td>70-74</td>\n",
       "      <td>AU</td>\n",
       "      <td>male</td>\n",
       "      <td>415.0</td>\n",
       "      <td>2015.0</td>\n",
       "    </tr>\n",
       "    <tr>\n",
       "      <th>7</th>\n",
       "      <td>65-69</td>\n",
       "      <td>AU</td>\n",
       "      <td>male</td>\n",
       "      <td>574.0</td>\n",
       "      <td>2015.0</td>\n",
       "    </tr>\n",
       "    <tr>\n",
       "      <th>8</th>\n",
       "      <td>60-64</td>\n",
       "      <td>AU</td>\n",
       "      <td>male</td>\n",
       "      <td>636.0</td>\n",
       "      <td>2015.0</td>\n",
       "    </tr>\n",
       "    <tr>\n",
       "      <th>9</th>\n",
       "      <td>55-59</td>\n",
       "      <td>AU</td>\n",
       "      <td>male</td>\n",
       "      <td>714.0</td>\n",
       "      <td>2015.0</td>\n",
       "    </tr>\n",
       "    <tr>\n",
       "      <th>10</th>\n",
       "      <td>50-54</td>\n",
       "      <td>AU</td>\n",
       "      <td>male</td>\n",
       "      <td>778.0</td>\n",
       "      <td>2015.0</td>\n",
       "    </tr>\n",
       "    <tr>\n",
       "      <th>11</th>\n",
       "      <td>45-49</td>\n",
       "      <td>AU</td>\n",
       "      <td>male</td>\n",
       "      <td>778.0</td>\n",
       "      <td>2015.0</td>\n",
       "    </tr>\n",
       "    <tr>\n",
       "      <th>12</th>\n",
       "      <td>40-44</td>\n",
       "      <td>AU</td>\n",
       "      <td>male</td>\n",
       "      <td>820.0</td>\n",
       "      <td>2015.0</td>\n",
       "    </tr>\n",
       "    <tr>\n",
       "      <th>13</th>\n",
       "      <td>35-39</td>\n",
       "      <td>AU</td>\n",
       "      <td>male</td>\n",
       "      <td>797.0</td>\n",
       "      <td>2015.0</td>\n",
       "    </tr>\n",
       "    <tr>\n",
       "      <th>14</th>\n",
       "      <td>30-34</td>\n",
       "      <td>AU</td>\n",
       "      <td>male</td>\n",
       "      <td>881.0</td>\n",
       "      <td>2015.0</td>\n",
       "    </tr>\n",
       "    <tr>\n",
       "      <th>15</th>\n",
       "      <td>25-29</td>\n",
       "      <td>AU</td>\n",
       "      <td>male</td>\n",
       "      <td>895.0</td>\n",
       "      <td>2015.0</td>\n",
       "    </tr>\n",
       "    <tr>\n",
       "      <th>16</th>\n",
       "      <td>20-24</td>\n",
       "      <td>AU</td>\n",
       "      <td>male</td>\n",
       "      <td>820.0</td>\n",
       "      <td>2015.0</td>\n",
       "    </tr>\n",
       "    <tr>\n",
       "      <th>17</th>\n",
       "      <td>15-19</td>\n",
       "      <td>AU</td>\n",
       "      <td>male</td>\n",
       "      <td>768.0</td>\n",
       "      <td>2015.0</td>\n",
       "    </tr>\n",
       "    <tr>\n",
       "      <th>18</th>\n",
       "      <td>10-14</td>\n",
       "      <td>AU</td>\n",
       "      <td>male</td>\n",
       "      <td>743.0</td>\n",
       "      <td>2015.0</td>\n",
       "    </tr>\n",
       "    <tr>\n",
       "      <th>19</th>\n",
       "      <td>5-9</td>\n",
       "      <td>AU</td>\n",
       "      <td>male</td>\n",
       "      <td>784.0</td>\n",
       "      <td>2015.0</td>\n",
       "    </tr>\n",
       "    <tr>\n",
       "      <th>20</th>\n",
       "      <td>0-4</td>\n",
       "      <td>AU</td>\n",
       "      <td>male</td>\n",
       "      <td>824.0</td>\n",
       "      <td>2015.0</td>\n",
       "    </tr>\n",
       "    <tr>\n",
       "      <th>21</th>\n",
       "      <td>100+</td>\n",
       "      <td>AU</td>\n",
       "      <td>female</td>\n",
       "      <td>4.0</td>\n",
       "      <td>2015.0</td>\n",
       "    </tr>\n",
       "    <tr>\n",
       "      <th>22</th>\n",
       "      <td>95-99</td>\n",
       "      <td>AU</td>\n",
       "      <td>female</td>\n",
       "      <td>25.0</td>\n",
       "      <td>2015.0</td>\n",
       "    </tr>\n",
       "    <tr>\n",
       "      <th>23</th>\n",
       "      <td>90-94</td>\n",
       "      <td>AU</td>\n",
       "      <td>female</td>\n",
       "      <td>94.0</td>\n",
       "      <td>2015.0</td>\n",
       "    </tr>\n",
       "    <tr>\n",
       "      <th>24</th>\n",
       "      <td>85-89</td>\n",
       "      <td>AU</td>\n",
       "      <td>female</td>\n",
       "      <td>179.0</td>\n",
       "      <td>2015.0</td>\n",
       "    </tr>\n",
       "    <tr>\n",
       "      <th>25</th>\n",
       "      <td>80-84</td>\n",
       "      <td>AU</td>\n",
       "      <td>female</td>\n",
       "      <td>252.0</td>\n",
       "      <td>2015.0</td>\n",
       "    </tr>\n",
       "    <tr>\n",
       "      <th>26</th>\n",
       "      <td>75-79</td>\n",
       "      <td>AU</td>\n",
       "      <td>female</td>\n",
       "      <td>338.0</td>\n",
       "      <td>2015.0</td>\n",
       "    </tr>\n",
       "    <tr>\n",
       "      <th>27</th>\n",
       "      <td>70-74</td>\n",
       "      <td>AU</td>\n",
       "      <td>female</td>\n",
       "      <td>438.0</td>\n",
       "      <td>2015.0</td>\n",
       "    </tr>\n",
       "    <tr>\n",
       "      <th>28</th>\n",
       "      <td>65-69</td>\n",
       "      <td>AU</td>\n",
       "      <td>female</td>\n",
       "      <td>592.0</td>\n",
       "      <td>2015.0</td>\n",
       "    </tr>\n",
       "    <tr>\n",
       "      <th>29</th>\n",
       "      <td>60-64</td>\n",
       "      <td>AU</td>\n",
       "      <td>female</td>\n",
       "      <td>660.0</td>\n",
       "      <td>2015.0</td>\n",
       "    </tr>\n",
       "    <tr>\n",
       "      <th>30</th>\n",
       "      <td>55-59</td>\n",
       "      <td>AU</td>\n",
       "      <td>female</td>\n",
       "      <td>739.0</td>\n",
       "      <td>2015.0</td>\n",
       "    </tr>\n",
       "    <tr>\n",
       "      <th>31</th>\n",
       "      <td>50-54</td>\n",
       "      <td>AU</td>\n",
       "      <td>female</td>\n",
       "      <td>798.0</td>\n",
       "      <td>2015.0</td>\n",
       "    </tr>\n",
       "    <tr>\n",
       "      <th>32</th>\n",
       "      <td>45-49</td>\n",
       "      <td>AU</td>\n",
       "      <td>female</td>\n",
       "      <td>793.0</td>\n",
       "      <td>2015.0</td>\n",
       "    </tr>\n",
       "    <tr>\n",
       "      <th>33</th>\n",
       "      <td>40-44</td>\n",
       "      <td>AU</td>\n",
       "      <td>female</td>\n",
       "      <td>838.0</td>\n",
       "      <td>2015.0</td>\n",
       "    </tr>\n",
       "    <tr>\n",
       "      <th>34</th>\n",
       "      <td>35-39</td>\n",
       "      <td>AU</td>\n",
       "      <td>female</td>\n",
       "      <td>801.0</td>\n",
       "      <td>2015.0</td>\n",
       "    </tr>\n",
       "    <tr>\n",
       "      <th>35</th>\n",
       "      <td>30-34</td>\n",
       "      <td>AU</td>\n",
       "      <td>female</td>\n",
       "      <td>865.0</td>\n",
       "      <td>2015.0</td>\n",
       "    </tr>\n",
       "    <tr>\n",
       "      <th>36</th>\n",
       "      <td>25-29</td>\n",
       "      <td>AU</td>\n",
       "      <td>female</td>\n",
       "      <td>851.0</td>\n",
       "      <td>2015.0</td>\n",
       "    </tr>\n",
       "    <tr>\n",
       "      <th>37</th>\n",
       "      <td>20-24</td>\n",
       "      <td>AU</td>\n",
       "      <td>female</td>\n",
       "      <td>787.0</td>\n",
       "      <td>2015.0</td>\n",
       "    </tr>\n",
       "    <tr>\n",
       "      <th>38</th>\n",
       "      <td>15-19</td>\n",
       "      <td>AU</td>\n",
       "      <td>female</td>\n",
       "      <td>737.0</td>\n",
       "      <td>2015.0</td>\n",
       "    </tr>\n",
       "    <tr>\n",
       "      <th>39</th>\n",
       "      <td>10-14</td>\n",
       "      <td>AU</td>\n",
       "      <td>female</td>\n",
       "      <td>707.0</td>\n",
       "      <td>2015.0</td>\n",
       "    </tr>\n",
       "    <tr>\n",
       "      <th>40</th>\n",
       "      <td>5-9</td>\n",
       "      <td>AU</td>\n",
       "      <td>female</td>\n",
       "      <td>745.0</td>\n",
       "      <td>2015.0</td>\n",
       "    </tr>\n",
       "    <tr>\n",
       "      <th>41</th>\n",
       "      <td>0-4</td>\n",
       "      <td>AU</td>\n",
       "      <td>female</td>\n",
       "      <td>781.0</td>\n",
       "      <td>2015.0</td>\n",
       "    </tr>\n",
       "  </tbody>\n",
       "</table>\n",
       "</div>"
      ],
      "text/plain": [
       "   age_bucket country_destination  gender  population_in_thousands    year\n",
       "0        100+                  AU    male                      1.0  2015.0\n",
       "1       95-99                  AU    male                      9.0  2015.0\n",
       "2       90-94                  AU    male                     47.0  2015.0\n",
       "3       85-89                  AU    male                    118.0  2015.0\n",
       "4       80-84                  AU    male                    199.0  2015.0\n",
       "5       75-79                  AU    male                    298.0  2015.0\n",
       "6       70-74                  AU    male                    415.0  2015.0\n",
       "7       65-69                  AU    male                    574.0  2015.0\n",
       "8       60-64                  AU    male                    636.0  2015.0\n",
       "9       55-59                  AU    male                    714.0  2015.0\n",
       "10      50-54                  AU    male                    778.0  2015.0\n",
       "11      45-49                  AU    male                    778.0  2015.0\n",
       "12      40-44                  AU    male                    820.0  2015.0\n",
       "13      35-39                  AU    male                    797.0  2015.0\n",
       "14      30-34                  AU    male                    881.0  2015.0\n",
       "15      25-29                  AU    male                    895.0  2015.0\n",
       "16      20-24                  AU    male                    820.0  2015.0\n",
       "17      15-19                  AU    male                    768.0  2015.0\n",
       "18      10-14                  AU    male                    743.0  2015.0\n",
       "19        5-9                  AU    male                    784.0  2015.0\n",
       "20        0-4                  AU    male                    824.0  2015.0\n",
       "21       100+                  AU  female                      4.0  2015.0\n",
       "22      95-99                  AU  female                     25.0  2015.0\n",
       "23      90-94                  AU  female                     94.0  2015.0\n",
       "24      85-89                  AU  female                    179.0  2015.0\n",
       "25      80-84                  AU  female                    252.0  2015.0\n",
       "26      75-79                  AU  female                    338.0  2015.0\n",
       "27      70-74                  AU  female                    438.0  2015.0\n",
       "28      65-69                  AU  female                    592.0  2015.0\n",
       "29      60-64                  AU  female                    660.0  2015.0\n",
       "30      55-59                  AU  female                    739.0  2015.0\n",
       "31      50-54                  AU  female                    798.0  2015.0\n",
       "32      45-49                  AU  female                    793.0  2015.0\n",
       "33      40-44                  AU  female                    838.0  2015.0\n",
       "34      35-39                  AU  female                    801.0  2015.0\n",
       "35      30-34                  AU  female                    865.0  2015.0\n",
       "36      25-29                  AU  female                    851.0  2015.0\n",
       "37      20-24                  AU  female                    787.0  2015.0\n",
       "38      15-19                  AU  female                    737.0  2015.0\n",
       "39      10-14                  AU  female                    707.0  2015.0\n",
       "40        5-9                  AU  female                    745.0  2015.0\n",
       "41        0-4                  AU  female                    781.0  2015.0"
      ]
     },
     "execution_count": 52,
     "metadata": {},
     "output_type": "execute_result"
    }
   ],
   "source": [
    "age_gender_pd = pd.read_csv(age_gender_bkts_path)\n",
    "age_gender_pd[age_gender_pd['country_destination'] == 'AU']"
   ]
  },
  {
   "cell_type": "markdown",
   "metadata": {
    "collapsed": true
   },
   "source": [
    "#### Actions List"
   ]
  },
  {
   "cell_type": "code",
   "execution_count": 89,
   "metadata": {
    "collapsed": false
   },
   "outputs": [
    {
     "data": {
      "text/plain": [
       "{nan,\n",
       " '10',\n",
       " '11',\n",
       " '12',\n",
       " '15',\n",
       " 'about_us',\n",
       " 'accept_decline',\n",
       " 'account',\n",
       " 'acculynk_bin_check_failed',\n",
       " 'acculynk_bin_check_success',\n",
       " 'acculynk_load_pin_pad',\n",
       " 'acculynk_pin_pad_error',\n",
       " 'acculynk_pin_pad_inactive',\n",
       " 'acculynk_pin_pad_success',\n",
       " 'acculynk_session_obtained',\n",
       " 'active',\n",
       " 'add_business_address_colorbox',\n",
       " 'add_guest_colorbox',\n",
       " 'add_guests',\n",
       " 'add_note',\n",
       " 'agree_terms_check',\n",
       " 'agree_terms_uncheck',\n",
       " 'airbnb_picks',\n",
       " 'airbrb',\n",
       " 'ajax_check_dates',\n",
       " 'ajax_get_referrals_amt',\n",
       " 'ajax_get_results',\n",
       " 'ajax_google_translate',\n",
       " 'ajax_google_translate_description',\n",
       " 'ajax_google_translate_reviews',\n",
       " 'ajax_image_upload',\n",
       " 'ajax_ldp',\n",
       " 'ajax_lwlb_contact',\n",
       " 'ajax_payout_edit',\n",
       " 'ajax_payout_options_by_country',\n",
       " 'ajax_payout_split_edit',\n",
       " 'ajax_photo_widget',\n",
       " 'ajax_photo_widget_form_iframe',\n",
       " 'ajax_price_and_availability',\n",
       " 'ajax_referral_banner_experiment_type',\n",
       " 'ajax_referral_banner_type',\n",
       " 'ajax_refresh_subtotal',\n",
       " 'ajax_send_message',\n",
       " 'ajax_special_offer_dates_available',\n",
       " 'ajax_statsd',\n",
       " 'ajax_worth',\n",
       " 'apply',\n",
       " 'apply_code',\n",
       " 'apply_coupon_click',\n",
       " 'apply_coupon_click_success',\n",
       " 'apply_coupon_error',\n",
       " 'apply_coupon_error_type',\n",
       " 'apply_reservation',\n",
       " 'approve',\n",
       " 'ask_question',\n",
       " 'at_checkpoint',\n",
       " 'authenticate',\n",
       " 'authorize',\n",
       " 'available',\n",
       " 'badge',\n",
       " 'become_user',\n",
       " 'book',\n",
       " 'booking',\n",
       " 'braintree_client_token',\n",
       " 'business_travel',\n",
       " 'calendar_tab_inner2',\n",
       " 'callback',\n",
       " 'campaigns',\n",
       " 'cancel',\n",
       " 'cancellation_policies',\n",
       " 'cancellation_policy_click',\n",
       " 'change',\n",
       " 'change_availability',\n",
       " 'change_currency',\n",
       " 'change_default_payout',\n",
       " 'change_password',\n",
       " 'check',\n",
       " 'city_count',\n",
       " 'clear_reservation',\n",
       " 'click',\n",
       " 'clickthrough',\n",
       " 'collections',\n",
       " 'complete',\n",
       " 'complete_redirect',\n",
       " 'complete_status',\n",
       " 'concierge',\n",
       " 'confirm_email',\n",
       " 'confirmation',\n",
       " 'connect',\n",
       " 'contact_new',\n",
       " 'countries',\n",
       " 'country_options',\n",
       " 'coupon_code_click',\n",
       " 'coupon_field_focus',\n",
       " 'create',\n",
       " 'create_ach',\n",
       " 'create_airbnb',\n",
       " 'create_multiple',\n",
       " 'create_paypal',\n",
       " 'currencies',\n",
       " 'custom_recommended_destinations',\n",
       " 'dashboard',\n",
       " 'deactivate',\n",
       " 'deactivated',\n",
       " 'deauthorize',\n",
       " 'decision_tree',\n",
       " 'delete',\n",
       " 'department',\n",
       " 'departments',\n",
       " 'desks',\n",
       " 'destroy',\n",
       " 'detect_fb_session',\n",
       " 'disaster_action',\n",
       " 'domains',\n",
       " 'edit',\n",
       " 'edit_verification',\n",
       " 'email_by_key',\n",
       " 'email_itinerary_colorbox',\n",
       " 'email_share',\n",
       " 'email_wishlist',\n",
       " 'endpoint_error',\n",
       " 'envoy_bank_details_redirect',\n",
       " 'envoy_form',\n",
       " 'events',\n",
       " 'facebook_auto_login',\n",
       " 'faq',\n",
       " 'faq_category',\n",
       " 'faq_experiment_ids',\n",
       " 'feed',\n",
       " 'forgot_password',\n",
       " 'founders',\n",
       " 'friend_listing',\n",
       " 'friends',\n",
       " 'friends_new',\n",
       " 'glob',\n",
       " 'google_importer',\n",
       " 'guarantee',\n",
       " 'guest_billing_receipt',\n",
       " 'guest_booked_elsewhere',\n",
       " 'handle_vanity_url',\n",
       " 'hard_fallback_submit',\n",
       " 'has_profile_pic',\n",
       " 'header_userpic',\n",
       " 'home_safety_landing',\n",
       " 'home_safety_terms',\n",
       " 'hospitality',\n",
       " 'hospitality_standards',\n",
       " 'host_2013',\n",
       " 'host_cancel',\n",
       " 'host_summary',\n",
       " 'hosting_social_proof',\n",
       " 'how_it_works',\n",
       " 'identity',\n",
       " 'image_order',\n",
       " 'impressions',\n",
       " 'index',\n",
       " 'invalid_action',\n",
       " 'issue',\n",
       " 'itinerary',\n",
       " 'jumio',\n",
       " 'jumio_redirect',\n",
       " 'jumio_token',\n",
       " 'kba',\n",
       " 'kba_update',\n",
       " 'languages_multiselect',\n",
       " 'life',\n",
       " 'listing',\n",
       " 'listings',\n",
       " 'load_more',\n",
       " 'locale_from_host',\n",
       " 'localization_settings',\n",
       " 'localized',\n",
       " 'locations',\n",
       " 'login',\n",
       " 'login_modal',\n",
       " 'lookup',\n",
       " 'manage_listing',\n",
       " 'maybe_information',\n",
       " 'media_resources',\n",
       " 'message',\n",
       " 'message_to_host_change',\n",
       " 'message_to_host_focus',\n",
       " 'mobile_landing_page',\n",
       " 'mobile_oauth_callback',\n",
       " 'multi',\n",
       " 'multi_message',\n",
       " 'multi_message_attributes',\n",
       " 'my',\n",
       " 'my_listings',\n",
       " 'my_reservations',\n",
       " 'new',\n",
       " 'new_host',\n",
       " 'new_session',\n",
       " 'notifications',\n",
       " 'nyan',\n",
       " 'office_location',\n",
       " 'onenight',\n",
       " 'open_graph_setting',\n",
       " 'open_hard_fallback_modal',\n",
       " 'other_hosting_reviews',\n",
       " 'other_hosting_reviews_first',\n",
       " 'overview',\n",
       " 'p4_refund_policy_terms',\n",
       " 'p4_terms',\n",
       " 'patch',\n",
       " 'pay',\n",
       " 'payment_instruments',\n",
       " 'payment_methods',\n",
       " 'payoneer_account_redirect',\n",
       " 'payoneer_signup_complete',\n",
       " 'payout_delete',\n",
       " 'payout_preferences',\n",
       " 'payout_update',\n",
       " 'pending',\n",
       " 'pending_tickets',\n",
       " 'personalize',\n",
       " 'phone_number_widget',\n",
       " 'phone_verification',\n",
       " 'phone_verification_call_taking_too_long',\n",
       " 'phone_verification_error',\n",
       " 'phone_verification_modal',\n",
       " 'phone_verification_number_submitted_for_call',\n",
       " 'phone_verification_number_submitted_for_sms',\n",
       " 'phone_verification_number_sucessfully_submitted',\n",
       " 'phone_verification_phone_number_removed',\n",
       " 'phone_verification_success',\n",
       " 'photography',\n",
       " 'photography_update',\n",
       " 'place_worth',\n",
       " 'plaxo_cb',\n",
       " 'popular',\n",
       " 'popular_listing',\n",
       " 'populate_from_facebook',\n",
       " 'populate_help_dropdown',\n",
       " 'position',\n",
       " 'preapproval',\n",
       " 'press_content',\n",
       " 'press_news',\n",
       " 'press_release',\n",
       " 'pricing',\n",
       " 'print_confirmation',\n",
       " 'privacy',\n",
       " 'profile_pic',\n",
       " 'push_notification_callback',\n",
       " 'qt2',\n",
       " 'qt_reply_v2',\n",
       " 'qt_with',\n",
       " 'questions',\n",
       " 'rate',\n",
       " 'reactivate',\n",
       " 'read_policy_click',\n",
       " 'receipt',\n",
       " 'recent_reservations',\n",
       " 'recommend',\n",
       " 'recommendation_page',\n",
       " 'recommendations',\n",
       " 'recommended_listings',\n",
       " 'redirect',\n",
       " 'references',\n",
       " 'referrer_status',\n",
       " 'refund_guest_cancellation',\n",
       " 'relationship',\n",
       " 'remove_dashboard_alert',\n",
       " 'rentals',\n",
       " 'report',\n",
       " 'reputation',\n",
       " 'request_new_confirm_email',\n",
       " 'request_photography',\n",
       " 'requested',\n",
       " 'requirements',\n",
       " 'reservation',\n",
       " 'reset_calendar',\n",
       " 'respond',\n",
       " 'rest-of-world',\n",
       " 'revert_to_admin',\n",
       " 'review_page',\n",
       " 'reviews',\n",
       " 'reviews_new',\n",
       " 'salute',\n",
       " 'sandy',\n",
       " 'satisfy',\n",
       " 'search',\n",
       " 'search_results',\n",
       " 'set_default',\n",
       " 'set_minimum_payout_amount',\n",
       " 'set_password',\n",
       " 'set_user',\n",
       " 'settings',\n",
       " 'show',\n",
       " 'show_code',\n",
       " 'show_personalize',\n",
       " 'signature',\n",
       " 'signed_out_modal',\n",
       " 'signup_login',\n",
       " 'signup_modal',\n",
       " 'signup_weibo',\n",
       " 'signup_weibo_referral',\n",
       " 'similar_listings',\n",
       " 'similar_listings_v2',\n",
       " 'sldf',\n",
       " 'slideshow',\n",
       " 'social',\n",
       " 'social-media',\n",
       " 'social_connections',\n",
       " 'south-america',\n",
       " 'southern-europe',\n",
       " 'special_offer',\n",
       " 'spoken_languages',\n",
       " 'status',\n",
       " 'stpcv',\n",
       " 'sublets',\n",
       " 'submit_contact',\n",
       " 'support_phone_numbers',\n",
       " 'supported',\n",
       " 'sync',\n",
       " 'tell_a_friend',\n",
       " 'terms',\n",
       " 'terms_and_conditions',\n",
       " 'this_hosting_reviews',\n",
       " 'this_hosting_reviews_3000',\n",
       " 'toggle_archived_thread',\n",
       " 'toggle_availability',\n",
       " 'toggle_starred_thread',\n",
       " 'top_destinations',\n",
       " 'tos_2014',\n",
       " 'tos_confirm',\n",
       " 'track_activity',\n",
       " 'track_page_view',\n",
       " 'transaction_history',\n",
       " 'transaction_history_paginated',\n",
       " 'travel',\n",
       " 'travel_plans_current',\n",
       " 'travel_plans_previous',\n",
       " 'trust',\n",
       " 'unavailabilities',\n",
       " 'united-states',\n",
       " 'unread',\n",
       " 'unsubscribe',\n",
       " 'update',\n",
       " 'update_cached',\n",
       " 'update_country_of_residence',\n",
       " 'update_friends_display',\n",
       " 'update_hide_from_search_engines',\n",
       " 'update_message',\n",
       " 'update_notifications',\n",
       " 'update_reservation_requirements',\n",
       " 'upload',\n",
       " 'uptodate',\n",
       " 'use_mobile_site',\n",
       " 'verify',\n",
       " 'view',\n",
       " 'views',\n",
       " 'views_campaign',\n",
       " 'views_campaign_rules',\n",
       " 'webcam_upload',\n",
       " 'weibo_signup_referral_finish',\n",
       " 'why_host',\n",
       " 'widget',\n",
       " 'wishlists',\n",
       " 'zendesk_login_jwt'}"
      ]
     },
     "execution_count": 89,
     "metadata": {},
     "output_type": "execute_result"
    }
   ],
   "source": [
    "set(sessions['action'])"
   ]
  },
  {
   "cell_type": "code",
   "execution_count": 24,
   "metadata": {
    "collapsed": false
   },
   "outputs": [
    {
     "data": {
      "text/plain": [
       "360"
      ]
     },
     "execution_count": 24,
     "metadata": {},
     "output_type": "execute_result"
    }
   ],
   "source": [
    "len(set(sessions['action']))"
   ]
  }
 ],
 "metadata": {
  "anaconda-cloud": {},
  "kernelspec": {
   "display_name": "Python 2",
   "language": "python",
   "name": "python2"
  },
  "language_info": {
   "codemirror_mode": {
    "name": "ipython",
    "version": 2
   },
   "file_extension": ".py",
   "mimetype": "text/x-python",
   "name": "python",
   "nbconvert_exporter": "python",
   "pygments_lexer": "ipython2",
   "version": "2.7.11"
  }
 },
 "nbformat": 4,
 "nbformat_minor": 0
}
