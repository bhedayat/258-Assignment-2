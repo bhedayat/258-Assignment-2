{
 "cells": [
  {
   "cell_type": "markdown",
   "metadata": {},
   "source": [
    "<br/>\n",
    "### Third level model - Predict Among Non-US Countries\n",
    "\n",
    "Planned Model:  (NDF | (US | Not US))\n",
    "\n",
    "First level predicts {'NDF' vs Non-NDF}\n",
    "\n",
    "Second level predicts {'US' vs Not-US}\n",
    "\n",
    "Third level predicts which of the Non-US countries: {'AU', 'CA', 'DE', 'ES', 'FR', 'GB', 'IT', 'NL', 'PT', 'other'}"
   ]
  },
  {
   "cell_type": "markdown",
   "metadata": {},
   "source": [
    "#### Imports and Read in data"
   ]
  },
  {
   "cell_type": "code",
   "execution_count": 1,
   "metadata": {
    "collapsed": false
   },
   "outputs": [],
   "source": [
    "import numpy as np\n",
    "import pandas as pd\n",
    "from sklearn.utils import shuffle\n",
    "import datetime\n",
    "import matplotlib.pyplot as plt\n",
    "from collections import defaultdict\n",
    "%matplotlib inline"
   ]
  },
  {
   "cell_type": "code",
   "execution_count": 2,
   "metadata": {
    "collapsed": false
   },
   "outputs": [
    {
     "name": "stdout",
     "output_type": "stream",
     "text": [
      "213451\n"
     ]
    },
    {
     "data": {
      "text/html": [
       "<div>\n",
       "<table border=\"1\" class=\"dataframe\">\n",
       "  <thead>\n",
       "    <tr style=\"text-align: right;\">\n",
       "      <th></th>\n",
       "      <th>id</th>\n",
       "      <th>date_account_created</th>\n",
       "      <th>timestamp_first_active</th>\n",
       "      <th>date_first_booking</th>\n",
       "      <th>gender</th>\n",
       "      <th>age</th>\n",
       "      <th>signup_method</th>\n",
       "      <th>signup_flow</th>\n",
       "      <th>language</th>\n",
       "      <th>affiliate_channel</th>\n",
       "      <th>affiliate_provider</th>\n",
       "      <th>first_affiliate_tracked</th>\n",
       "      <th>signup_app</th>\n",
       "      <th>first_device_type</th>\n",
       "      <th>first_browser</th>\n",
       "      <th>country_destination</th>\n",
       "    </tr>\n",
       "  </thead>\n",
       "  <tbody>\n",
       "    <tr>\n",
       "      <th>0</th>\n",
       "      <td>gxn3p5htnn</td>\n",
       "      <td>2010-06-28</td>\n",
       "      <td>20090319043255</td>\n",
       "      <td>NaN</td>\n",
       "      <td>-unknown-</td>\n",
       "      <td>NaN</td>\n",
       "      <td>facebook</td>\n",
       "      <td>0</td>\n",
       "      <td>en</td>\n",
       "      <td>direct</td>\n",
       "      <td>direct</td>\n",
       "      <td>untracked</td>\n",
       "      <td>Web</td>\n",
       "      <td>Mac Desktop</td>\n",
       "      <td>Chrome</td>\n",
       "      <td>NDF</td>\n",
       "    </tr>\n",
       "    <tr>\n",
       "      <th>1</th>\n",
       "      <td>820tgsjxq7</td>\n",
       "      <td>2011-05-25</td>\n",
       "      <td>20090523174809</td>\n",
       "      <td>NaN</td>\n",
       "      <td>MALE</td>\n",
       "      <td>38.0</td>\n",
       "      <td>facebook</td>\n",
       "      <td>0</td>\n",
       "      <td>en</td>\n",
       "      <td>seo</td>\n",
       "      <td>google</td>\n",
       "      <td>untracked</td>\n",
       "      <td>Web</td>\n",
       "      <td>Mac Desktop</td>\n",
       "      <td>Chrome</td>\n",
       "      <td>NDF</td>\n",
       "    </tr>\n",
       "    <tr>\n",
       "      <th>2</th>\n",
       "      <td>4ft3gnwmtx</td>\n",
       "      <td>2010-09-28</td>\n",
       "      <td>20090609231247</td>\n",
       "      <td>2010-08-02</td>\n",
       "      <td>FEMALE</td>\n",
       "      <td>56.0</td>\n",
       "      <td>basic</td>\n",
       "      <td>3</td>\n",
       "      <td>en</td>\n",
       "      <td>direct</td>\n",
       "      <td>direct</td>\n",
       "      <td>untracked</td>\n",
       "      <td>Web</td>\n",
       "      <td>Windows Desktop</td>\n",
       "      <td>IE</td>\n",
       "      <td>US</td>\n",
       "    </tr>\n",
       "    <tr>\n",
       "      <th>3</th>\n",
       "      <td>bjjt8pjhuk</td>\n",
       "      <td>2011-12-05</td>\n",
       "      <td>20091031060129</td>\n",
       "      <td>2012-09-08</td>\n",
       "      <td>FEMALE</td>\n",
       "      <td>42.0</td>\n",
       "      <td>facebook</td>\n",
       "      <td>0</td>\n",
       "      <td>en</td>\n",
       "      <td>direct</td>\n",
       "      <td>direct</td>\n",
       "      <td>untracked</td>\n",
       "      <td>Web</td>\n",
       "      <td>Mac Desktop</td>\n",
       "      <td>Firefox</td>\n",
       "      <td>other</td>\n",
       "    </tr>\n",
       "    <tr>\n",
       "      <th>4</th>\n",
       "      <td>87mebub9p4</td>\n",
       "      <td>2010-09-14</td>\n",
       "      <td>20091208061105</td>\n",
       "      <td>2010-02-18</td>\n",
       "      <td>-unknown-</td>\n",
       "      <td>41.0</td>\n",
       "      <td>basic</td>\n",
       "      <td>0</td>\n",
       "      <td>en</td>\n",
       "      <td>direct</td>\n",
       "      <td>direct</td>\n",
       "      <td>untracked</td>\n",
       "      <td>Web</td>\n",
       "      <td>Mac Desktop</td>\n",
       "      <td>Chrome</td>\n",
       "      <td>US</td>\n",
       "    </tr>\n",
       "  </tbody>\n",
       "</table>\n",
       "</div>"
      ],
      "text/plain": [
       "           id date_account_created  timestamp_first_active date_first_booking  \\\n",
       "0  gxn3p5htnn           2010-06-28          20090319043255                NaN   \n",
       "1  820tgsjxq7           2011-05-25          20090523174809                NaN   \n",
       "2  4ft3gnwmtx           2010-09-28          20090609231247         2010-08-02   \n",
       "3  bjjt8pjhuk           2011-12-05          20091031060129         2012-09-08   \n",
       "4  87mebub9p4           2010-09-14          20091208061105         2010-02-18   \n",
       "\n",
       "      gender   age signup_method  signup_flow language affiliate_channel  \\\n",
       "0  -unknown-   NaN      facebook            0       en            direct   \n",
       "1       MALE  38.0      facebook            0       en               seo   \n",
       "2     FEMALE  56.0         basic            3       en            direct   \n",
       "3     FEMALE  42.0      facebook            0       en            direct   \n",
       "4  -unknown-  41.0         basic            0       en            direct   \n",
       "\n",
       "  affiliate_provider first_affiliate_tracked signup_app first_device_type  \\\n",
       "0             direct               untracked        Web       Mac Desktop   \n",
       "1             google               untracked        Web       Mac Desktop   \n",
       "2             direct               untracked        Web   Windows Desktop   \n",
       "3             direct               untracked        Web       Mac Desktop   \n",
       "4             direct               untracked        Web       Mac Desktop   \n",
       "\n",
       "  first_browser country_destination  \n",
       "0        Chrome                 NDF  \n",
       "1        Chrome                 NDF  \n",
       "2            IE                  US  \n",
       "3       Firefox               other  \n",
       "4        Chrome                  US  "
      ]
     },
     "execution_count": 2,
     "metadata": {},
     "output_type": "execute_result"
    }
   ],
   "source": [
    "train_users_path = '../../Data/train_users_2.csv'\n",
    "train_users = pd.read_csv(train_users_path)\n",
    "#train_users.ix[train_users['country_destination'] != 'NDF', 'country_destination'] = 'NonNDF'\n",
    "print(len(train_users))\n",
    "train_users.head()"
   ]
  },
  {
   "cell_type": "code",
   "execution_count": 3,
   "metadata": {
    "collapsed": false
   },
   "outputs": [
    {
     "name": "stdout",
     "output_type": "stream",
     "text": [
      "10567737\n"
     ]
    },
    {
     "data": {
      "text/html": [
       "<div>\n",
       "<table border=\"1\" class=\"dataframe\">\n",
       "  <thead>\n",
       "    <tr style=\"text-align: right;\">\n",
       "      <th></th>\n",
       "      <th>user_id</th>\n",
       "      <th>action</th>\n",
       "      <th>action_type</th>\n",
       "      <th>action_detail</th>\n",
       "      <th>device_type</th>\n",
       "      <th>secs_elapsed</th>\n",
       "    </tr>\n",
       "  </thead>\n",
       "  <tbody>\n",
       "    <tr>\n",
       "      <th>0</th>\n",
       "      <td>d1mm9tcy42</td>\n",
       "      <td>lookup</td>\n",
       "      <td>NaN</td>\n",
       "      <td>NaN</td>\n",
       "      <td>Windows Desktop</td>\n",
       "      <td>319.0</td>\n",
       "    </tr>\n",
       "    <tr>\n",
       "      <th>1</th>\n",
       "      <td>d1mm9tcy42</td>\n",
       "      <td>search_results</td>\n",
       "      <td>click</td>\n",
       "      <td>view_search_results</td>\n",
       "      <td>Windows Desktop</td>\n",
       "      <td>67753.0</td>\n",
       "    </tr>\n",
       "    <tr>\n",
       "      <th>2</th>\n",
       "      <td>d1mm9tcy42</td>\n",
       "      <td>lookup</td>\n",
       "      <td>NaN</td>\n",
       "      <td>NaN</td>\n",
       "      <td>Windows Desktop</td>\n",
       "      <td>301.0</td>\n",
       "    </tr>\n",
       "    <tr>\n",
       "      <th>3</th>\n",
       "      <td>d1mm9tcy42</td>\n",
       "      <td>search_results</td>\n",
       "      <td>click</td>\n",
       "      <td>view_search_results</td>\n",
       "      <td>Windows Desktop</td>\n",
       "      <td>22141.0</td>\n",
       "    </tr>\n",
       "    <tr>\n",
       "      <th>4</th>\n",
       "      <td>d1mm9tcy42</td>\n",
       "      <td>lookup</td>\n",
       "      <td>NaN</td>\n",
       "      <td>NaN</td>\n",
       "      <td>Windows Desktop</td>\n",
       "      <td>435.0</td>\n",
       "    </tr>\n",
       "  </tbody>\n",
       "</table>\n",
       "</div>"
      ],
      "text/plain": [
       "      user_id          action action_type        action_detail  \\\n",
       "0  d1mm9tcy42          lookup         NaN                  NaN   \n",
       "1  d1mm9tcy42  search_results       click  view_search_results   \n",
       "2  d1mm9tcy42          lookup         NaN                  NaN   \n",
       "3  d1mm9tcy42  search_results       click  view_search_results   \n",
       "4  d1mm9tcy42          lookup         NaN                  NaN   \n",
       "\n",
       "       device_type  secs_elapsed  \n",
       "0  Windows Desktop         319.0  \n",
       "1  Windows Desktop       67753.0  \n",
       "2  Windows Desktop         301.0  \n",
       "3  Windows Desktop       22141.0  \n",
       "4  Windows Desktop         435.0  "
      ]
     },
     "execution_count": 3,
     "metadata": {},
     "output_type": "execute_result"
    }
   ],
   "source": [
    "sessions_path = '../../Data/sessions.csv'\n",
    "sessions = pd.read_csv(sessions_path)\n",
    "print(len(sessions))\n",
    "sessions.head()"
   ]
  },
  {
   "cell_type": "code",
   "execution_count": 4,
   "metadata": {
    "collapsed": false
   },
   "outputs": [
    {
     "name": "stdout",
     "output_type": "stream",
     "text": [
      "62096\n"
     ]
    },
    {
     "data": {
      "text/html": [
       "<div>\n",
       "<table border=\"1\" class=\"dataframe\">\n",
       "  <thead>\n",
       "    <tr style=\"text-align: right;\">\n",
       "      <th></th>\n",
       "      <th>id</th>\n",
       "      <th>date_account_created</th>\n",
       "      <th>timestamp_first_active</th>\n",
       "      <th>date_first_booking</th>\n",
       "      <th>gender</th>\n",
       "      <th>age</th>\n",
       "      <th>signup_method</th>\n",
       "      <th>signup_flow</th>\n",
       "      <th>language</th>\n",
       "      <th>affiliate_channel</th>\n",
       "      <th>affiliate_provider</th>\n",
       "      <th>first_affiliate_tracked</th>\n",
       "      <th>signup_app</th>\n",
       "      <th>first_device_type</th>\n",
       "      <th>first_browser</th>\n",
       "    </tr>\n",
       "  </thead>\n",
       "  <tbody>\n",
       "    <tr>\n",
       "      <th>0</th>\n",
       "      <td>5uwns89zht</td>\n",
       "      <td>2014-07-01</td>\n",
       "      <td>20140701000006</td>\n",
       "      <td>NaN</td>\n",
       "      <td>FEMALE</td>\n",
       "      <td>35.0</td>\n",
       "      <td>facebook</td>\n",
       "      <td>0</td>\n",
       "      <td>en</td>\n",
       "      <td>direct</td>\n",
       "      <td>direct</td>\n",
       "      <td>untracked</td>\n",
       "      <td>Moweb</td>\n",
       "      <td>iPhone</td>\n",
       "      <td>Mobile Safari</td>\n",
       "    </tr>\n",
       "    <tr>\n",
       "      <th>1</th>\n",
       "      <td>jtl0dijy2j</td>\n",
       "      <td>2014-07-01</td>\n",
       "      <td>20140701000051</td>\n",
       "      <td>NaN</td>\n",
       "      <td>-unknown-</td>\n",
       "      <td>NaN</td>\n",
       "      <td>basic</td>\n",
       "      <td>0</td>\n",
       "      <td>en</td>\n",
       "      <td>direct</td>\n",
       "      <td>direct</td>\n",
       "      <td>untracked</td>\n",
       "      <td>Moweb</td>\n",
       "      <td>iPhone</td>\n",
       "      <td>Mobile Safari</td>\n",
       "    </tr>\n",
       "    <tr>\n",
       "      <th>2</th>\n",
       "      <td>xx0ulgorjt</td>\n",
       "      <td>2014-07-01</td>\n",
       "      <td>20140701000148</td>\n",
       "      <td>NaN</td>\n",
       "      <td>-unknown-</td>\n",
       "      <td>NaN</td>\n",
       "      <td>basic</td>\n",
       "      <td>0</td>\n",
       "      <td>en</td>\n",
       "      <td>direct</td>\n",
       "      <td>direct</td>\n",
       "      <td>linked</td>\n",
       "      <td>Web</td>\n",
       "      <td>Windows Desktop</td>\n",
       "      <td>Chrome</td>\n",
       "    </tr>\n",
       "    <tr>\n",
       "      <th>3</th>\n",
       "      <td>6c6puo6ix0</td>\n",
       "      <td>2014-07-01</td>\n",
       "      <td>20140701000215</td>\n",
       "      <td>NaN</td>\n",
       "      <td>-unknown-</td>\n",
       "      <td>NaN</td>\n",
       "      <td>basic</td>\n",
       "      <td>0</td>\n",
       "      <td>en</td>\n",
       "      <td>direct</td>\n",
       "      <td>direct</td>\n",
       "      <td>linked</td>\n",
       "      <td>Web</td>\n",
       "      <td>Windows Desktop</td>\n",
       "      <td>IE</td>\n",
       "    </tr>\n",
       "    <tr>\n",
       "      <th>4</th>\n",
       "      <td>czqhjk3yfe</td>\n",
       "      <td>2014-07-01</td>\n",
       "      <td>20140701000305</td>\n",
       "      <td>NaN</td>\n",
       "      <td>-unknown-</td>\n",
       "      <td>NaN</td>\n",
       "      <td>basic</td>\n",
       "      <td>0</td>\n",
       "      <td>en</td>\n",
       "      <td>direct</td>\n",
       "      <td>direct</td>\n",
       "      <td>untracked</td>\n",
       "      <td>Web</td>\n",
       "      <td>Mac Desktop</td>\n",
       "      <td>Safari</td>\n",
       "    </tr>\n",
       "  </tbody>\n",
       "</table>\n",
       "</div>"
      ],
      "text/plain": [
       "           id date_account_created  timestamp_first_active  \\\n",
       "0  5uwns89zht           2014-07-01          20140701000006   \n",
       "1  jtl0dijy2j           2014-07-01          20140701000051   \n",
       "2  xx0ulgorjt           2014-07-01          20140701000148   \n",
       "3  6c6puo6ix0           2014-07-01          20140701000215   \n",
       "4  czqhjk3yfe           2014-07-01          20140701000305   \n",
       "\n",
       "   date_first_booking     gender   age signup_method  signup_flow language  \\\n",
       "0                 NaN     FEMALE  35.0      facebook            0       en   \n",
       "1                 NaN  -unknown-   NaN         basic            0       en   \n",
       "2                 NaN  -unknown-   NaN         basic            0       en   \n",
       "3                 NaN  -unknown-   NaN         basic            0       en   \n",
       "4                 NaN  -unknown-   NaN         basic            0       en   \n",
       "\n",
       "  affiliate_channel affiliate_provider first_affiliate_tracked signup_app  \\\n",
       "0            direct             direct               untracked      Moweb   \n",
       "1            direct             direct               untracked      Moweb   \n",
       "2            direct             direct                  linked        Web   \n",
       "3            direct             direct                  linked        Web   \n",
       "4            direct             direct               untracked        Web   \n",
       "\n",
       "  first_device_type  first_browser  \n",
       "0            iPhone  Mobile Safari  \n",
       "1            iPhone  Mobile Safari  \n",
       "2   Windows Desktop         Chrome  \n",
       "3   Windows Desktop             IE  \n",
       "4       Mac Desktop         Safari  "
      ]
     },
     "execution_count": 4,
     "metadata": {},
     "output_type": "execute_result"
    }
   ],
   "source": [
    "test_path = '../../Data/test_users.csv'\n",
    "test_users = pd.read_csv(test_path)\n",
    "print(len(test_users))\n",
    "test_users.head()"
   ]
  },
  {
   "cell_type": "markdown",
   "metadata": {},
   "source": [
    "#### Clean data"
   ]
  },
  {
   "cell_type": "code",
   "execution_count": 212,
   "metadata": {
    "collapsed": true
   },
   "outputs": [],
   "source": [
    "# Users who have NDF\n",
    "train_noPurchase = train_users[train_users['country_destination']=='NDF']\n",
    "noPurchase_users = set(train_noPurchase['id'])\n",
    "\n",
    "# Users who had a booking\n",
    "train_yesPurchase = train_users[train_users['country_destination']!='NDF']\n",
    "yesPurchase_users = set(train_yesPurchase['id'])\n",
    "\n",
    "# Users who had a booking outside of US\n",
    "train_nonUS_purchase = train_yesPurchase[train_yesPurchase['country_destination'] != 'US']\n",
    "train_nonUS_users = set(train_nonUS_purchase ['id'])\n",
    "\n",
    "# If you want to include US\n",
    "#train_nonUS_purchase = train_yesPurchase\n",
    "#train_nonUS_users = set(train_nonUS_purchase ['id'])"
   ]
  },
  {
   "cell_type": "code",
   "execution_count": 213,
   "metadata": {
    "collapsed": false
   },
   "outputs": [
    {
     "data": {
      "text/plain": [
       "{'AU', 'CA', 'DE', 'ES', 'FR', 'GB', 'IT', 'NL', 'PT', 'other'}"
      ]
     },
     "execution_count": 213,
     "metadata": {},
     "output_type": "execute_result"
    }
   ],
   "source": [
    "# Check that US and NDF not included - there should be 9 countries + other\n",
    "set(train_nonUS_purchase['country_destination'])"
   ]
  },
  {
   "cell_type": "code",
   "execution_count": 214,
   "metadata": {
    "collapsed": false
   },
   "outputs": [
    {
     "data": {
      "text/plain": [
       "26532"
      ]
     },
     "execution_count": 214,
     "metadata": {},
     "output_type": "execute_result"
    }
   ],
   "source": [
    "len(train_nonUS_purchase)"
   ]
  },
  {
   "cell_type": "markdown",
   "metadata": {},
   "source": [
    "#### Try without Sessions"
   ]
  },
  {
   "cell_type": "code",
   "execution_count": 215,
   "metadata": {
    "collapsed": true
   },
   "outputs": [],
   "source": [
    "#sessions_noPurchase = sessions[sessions['user_id'].isin(noPurchase_users)]\n",
    "#sessions_yesPurchase = sessions[sessions['user_id'].isin(yesPurchase_users)]\n",
    "#sessions_nonUS_purchase = sessions[sessions['user_id'].isin(train_nonUS_purchase)]"
   ]
  },
  {
   "cell_type": "code",
   "execution_count": 216,
   "metadata": {
    "collapsed": false
   },
   "outputs": [],
   "source": [
    "#final_train_users = train_users[train_users['id'].isin(sessions['user_id'])]\n",
    "#final_train_users = train_users.copy()\n",
    "#final_train_users = train_nonUS_purchase.copy()\n",
    "#final_train_users.head()"
   ]
  },
  {
   "cell_type": "code",
   "execution_count": 217,
   "metadata": {
    "collapsed": false
   },
   "outputs": [
    {
     "data": {
      "text/plain": [
       "['signup_method',\n",
       " 'signup_flow',\n",
       " 'language',\n",
       " 'affiliate_channel',\n",
       " 'affiliate_provider',\n",
       " 'first_affiliate_tracked',\n",
       " 'signup_app',\n",
       " 'first_device_type',\n",
       " 'first_browser']"
      ]
     },
     "execution_count": 217,
     "metadata": {},
     "output_type": "execute_result"
    }
   ],
   "source": [
    "final_train_users = train_nonUS_purchase.copy()\n",
    "final_train_users.head()\n",
    "#sessions_nonUS_purchase = sessions[sessions['user_id'].isin(train_nonUS_purchase)]\n",
    "\n",
    "categories = list(train_users.columns.values)\n",
    "categories = categories[4:len(categories)-1]\n",
    "categories.remove('age')\n",
    "categories.remove('gender')\n",
    "categories\n",
    "#categories = ['language']"
   ]
  },
  {
   "cell_type": "code",
   "execution_count": 218,
   "metadata": {
    "collapsed": false
   },
   "outputs": [
    {
     "data": {
      "text/html": [
       "<div>\n",
       "<table border=\"1\" class=\"dataframe\">\n",
       "  <thead>\n",
       "    <tr style=\"text-align: right;\">\n",
       "      <th></th>\n",
       "      <th>id</th>\n",
       "      <th>date_account_created</th>\n",
       "      <th>timestamp_first_active</th>\n",
       "      <th>date_first_booking</th>\n",
       "      <th>gender</th>\n",
       "      <th>age</th>\n",
       "      <th>signup_method</th>\n",
       "      <th>signup_flow</th>\n",
       "      <th>language</th>\n",
       "      <th>affiliate_channel</th>\n",
       "      <th>...</th>\n",
       "      <th>first_browser_Avant Browser</th>\n",
       "      <th>first_browser_Mobile Firefox</th>\n",
       "      <th>first_browser_IceWeasel</th>\n",
       "      <th>first_browser_TheWorld Browser</th>\n",
       "      <th>first_browser_Iron</th>\n",
       "      <th>first_browser_SiteKiosk</th>\n",
       "      <th>first_browser_wOSBrowser</th>\n",
       "      <th>first_browser_Googlebot</th>\n",
       "      <th>first_browser_CoolNovo</th>\n",
       "      <th>first_browser_Yandex.Browser</th>\n",
       "    </tr>\n",
       "  </thead>\n",
       "  <tbody>\n",
       "    <tr>\n",
       "      <th>3</th>\n",
       "      <td>bjjt8pjhuk</td>\n",
       "      <td>2011-12-05</td>\n",
       "      <td>20091031060129</td>\n",
       "      <td>2012-09-08</td>\n",
       "      <td>FEMALE</td>\n",
       "      <td>42.0</td>\n",
       "      <td>facebook</td>\n",
       "      <td>0</td>\n",
       "      <td>en</td>\n",
       "      <td>direct</td>\n",
       "      <td>...</td>\n",
       "      <td>False</td>\n",
       "      <td>False</td>\n",
       "      <td>False</td>\n",
       "      <td>False</td>\n",
       "      <td>False</td>\n",
       "      <td>False</td>\n",
       "      <td>False</td>\n",
       "      <td>False</td>\n",
       "      <td>False</td>\n",
       "      <td>False</td>\n",
       "    </tr>\n",
       "    <tr>\n",
       "      <th>12</th>\n",
       "      <td>k6np330cm1</td>\n",
       "      <td>2010-01-05</td>\n",
       "      <td>20100105060859</td>\n",
       "      <td>2010-01-18</td>\n",
       "      <td>-unknown-</td>\n",
       "      <td>NaN</td>\n",
       "      <td>basic</td>\n",
       "      <td>0</td>\n",
       "      <td>en</td>\n",
       "      <td>direct</td>\n",
       "      <td>...</td>\n",
       "      <td>False</td>\n",
       "      <td>False</td>\n",
       "      <td>False</td>\n",
       "      <td>False</td>\n",
       "      <td>False</td>\n",
       "      <td>False</td>\n",
       "      <td>False</td>\n",
       "      <td>False</td>\n",
       "      <td>False</td>\n",
       "      <td>False</td>\n",
       "    </tr>\n",
       "    <tr>\n",
       "      <th>15</th>\n",
       "      <td>v4d5rl22px</td>\n",
       "      <td>2010-01-07</td>\n",
       "      <td>20100107204555</td>\n",
       "      <td>2010-01-08</td>\n",
       "      <td>FEMALE</td>\n",
       "      <td>33.0</td>\n",
       "      <td>basic</td>\n",
       "      <td>0</td>\n",
       "      <td>en</td>\n",
       "      <td>direct</td>\n",
       "      <td>...</td>\n",
       "      <td>False</td>\n",
       "      <td>False</td>\n",
       "      <td>False</td>\n",
       "      <td>False</td>\n",
       "      <td>False</td>\n",
       "      <td>False</td>\n",
       "      <td>False</td>\n",
       "      <td>False</td>\n",
       "      <td>False</td>\n",
       "      <td>False</td>\n",
       "    </tr>\n",
       "    <tr>\n",
       "      <th>19</th>\n",
       "      <td>gdka1q5ktd</td>\n",
       "      <td>2010-01-10</td>\n",
       "      <td>20100110010817</td>\n",
       "      <td>2010-01-10</td>\n",
       "      <td>FEMALE</td>\n",
       "      <td>29.0</td>\n",
       "      <td>basic</td>\n",
       "      <td>0</td>\n",
       "      <td>en</td>\n",
       "      <td>direct</td>\n",
       "      <td>...</td>\n",
       "      <td>False</td>\n",
       "      <td>False</td>\n",
       "      <td>False</td>\n",
       "      <td>False</td>\n",
       "      <td>False</td>\n",
       "      <td>False</td>\n",
       "      <td>False</td>\n",
       "      <td>False</td>\n",
       "      <td>False</td>\n",
       "      <td>False</td>\n",
       "    </tr>\n",
       "    <tr>\n",
       "      <th>25</th>\n",
       "      <td>al8bcetz0g</td>\n",
       "      <td>2010-01-12</td>\n",
       "      <td>20100112131444</td>\n",
       "      <td>2010-01-15</td>\n",
       "      <td>FEMALE</td>\n",
       "      <td>26.0</td>\n",
       "      <td>basic</td>\n",
       "      <td>0</td>\n",
       "      <td>en</td>\n",
       "      <td>other</td>\n",
       "      <td>...</td>\n",
       "      <td>False</td>\n",
       "      <td>False</td>\n",
       "      <td>False</td>\n",
       "      <td>False</td>\n",
       "      <td>False</td>\n",
       "      <td>False</td>\n",
       "      <td>False</td>\n",
       "      <td>False</td>\n",
       "      <td>False</td>\n",
       "      <td>False</td>\n",
       "    </tr>\n",
       "  </tbody>\n",
       "</table>\n",
       "<p>5 rows × 129 columns</p>\n",
       "</div>"
      ],
      "text/plain": [
       "            id date_account_created  timestamp_first_active  \\\n",
       "3   bjjt8pjhuk           2011-12-05          20091031060129   \n",
       "12  k6np330cm1           2010-01-05          20100105060859   \n",
       "15  v4d5rl22px           2010-01-07          20100107204555   \n",
       "19  gdka1q5ktd           2010-01-10          20100110010817   \n",
       "25  al8bcetz0g           2010-01-12          20100112131444   \n",
       "\n",
       "   date_first_booking     gender   age signup_method  signup_flow language  \\\n",
       "3          2012-09-08     FEMALE  42.0      facebook            0       en   \n",
       "12         2010-01-18  -unknown-   NaN         basic            0       en   \n",
       "15         2010-01-08     FEMALE  33.0         basic            0       en   \n",
       "19         2010-01-10     FEMALE  29.0         basic            0       en   \n",
       "25         2010-01-15     FEMALE  26.0         basic            0       en   \n",
       "\n",
       "   affiliate_channel             ...              first_browser_Avant Browser  \\\n",
       "3             direct             ...                                    False   \n",
       "12            direct             ...                                    False   \n",
       "15            direct             ...                                    False   \n",
       "19            direct             ...                                    False   \n",
       "25             other             ...                                    False   \n",
       "\n",
       "   first_browser_Mobile Firefox first_browser_IceWeasel  \\\n",
       "3                         False                   False   \n",
       "12                        False                   False   \n",
       "15                        False                   False   \n",
       "19                        False                   False   \n",
       "25                        False                   False   \n",
       "\n",
       "   first_browser_TheWorld Browser first_browser_Iron first_browser_SiteKiosk  \\\n",
       "3                           False              False                   False   \n",
       "12                          False              False                   False   \n",
       "15                          False              False                   False   \n",
       "19                          False              False                   False   \n",
       "25                          False              False                   False   \n",
       "\n",
       "   first_browser_wOSBrowser first_browser_Googlebot first_browser_CoolNovo  \\\n",
       "3                     False                   False                  False   \n",
       "12                    False                   False                  False   \n",
       "15                    False                   False                  False   \n",
       "19                    False                   False                  False   \n",
       "25                    False                   False                  False   \n",
       "\n",
       "   first_browser_Yandex.Browser  \n",
       "3                         False  \n",
       "12                        False  \n",
       "15                        False  \n",
       "19                        False  \n",
       "25                        False  \n",
       "\n",
       "[5 rows x 129 columns]"
      ]
     },
     "execution_count": 218,
     "metadata": {},
     "output_type": "execute_result"
    }
   ],
   "source": [
    "def category_bool(catName, catItem):\n",
    "    user_app = final_train_users[final_train_users[catName] == catItem]\n",
    "    performed = final_train_users['id'].isin(user_app['id'])\n",
    "    colname = str(catName) + '_' + str(catItem)\n",
    "    final_train_users[colname] = performed\n",
    "\n",
    "for category in categories:\n",
    "    items = final_train_users[category].dropna().drop_duplicates()\n",
    "    for item in items:\n",
    "        category_bool(category, item)\n",
    "\n",
    "#print(len(final_train_users[0]))\n",
    "#final_train_users[final_train_users['signup_app_iOS']==True]\n",
    "final_train_users.head()"
   ]
  },
  {
   "cell_type": "code",
   "execution_count": 219,
   "metadata": {
    "collapsed": false
   },
   "outputs": [
    {
     "data": {
      "text/plain": [
       "array(['id', 'date_account_created', 'timestamp_first_active',\n",
       "       'date_first_booking', 'gender', 'age', 'signup_method',\n",
       "       'signup_flow', 'language', 'affiliate_channel',\n",
       "       'affiliate_provider', 'first_affiliate_tracked', 'signup_app',\n",
       "       'first_device_type', 'first_browser', 'country_destination',\n",
       "       'signup_method_facebook', 'signup_method_basic',\n",
       "       'signup_method_google', 'signup_flow_0', 'signup_flow_3',\n",
       "       'signup_flow_2', 'signup_flow_1', 'signup_flow_8', 'signup_flow_6',\n",
       "       'signup_flow_12', 'signup_flow_16', 'signup_flow_15',\n",
       "       'signup_flow_21', 'signup_flow_24', 'signup_flow_25',\n",
       "       'signup_flow_23', 'language_en', 'language_fr', 'language_de',\n",
       "       'language_es', 'language_ko', 'language_ja', 'language_zh',\n",
       "       'language_nl', 'language_ru', 'language_sv', 'language_it',\n",
       "       'language_pt', 'language_fi', 'language_no', 'language_tr',\n",
       "       'language_hu', 'language_pl', 'language_da', 'language_cs',\n",
       "       'language_is', 'language_el', 'language_th',\n",
       "       'affiliate_channel_direct', 'affiliate_channel_other',\n",
       "       'affiliate_channel_sem-non-brand', 'affiliate_channel_seo',\n",
       "       'affiliate_channel_content', 'affiliate_channel_sem-brand',\n",
       "       'affiliate_channel_remarketing', 'affiliate_channel_api',\n",
       "       'affiliate_provider_direct', 'affiliate_provider_craigslist',\n",
       "       'affiliate_provider_other', 'affiliate_provider_google',\n",
       "       'affiliate_provider_vast', 'affiliate_provider_facebook',\n",
       "       'affiliate_provider_bing', 'affiliate_provider_facebook-open-graph',\n",
       "       'affiliate_provider_meetup', 'affiliate_provider_yahoo',\n",
       "       'affiliate_provider_email-marketing',\n",
       "       'affiliate_provider_padmapper', 'affiliate_provider_gsp',\n",
       "       'affiliate_provider_naver', 'affiliate_provider_baidu',\n",
       "       'affiliate_provider_daum', 'first_affiliate_tracked_untracked',\n",
       "       'first_affiliate_tracked_omg', 'first_affiliate_tracked_linked',\n",
       "       'first_affiliate_tracked_tracked-other',\n",
       "       'first_affiliate_tracked_product',\n",
       "       'first_affiliate_tracked_marketing',\n",
       "       'first_affiliate_tracked_local ops', 'signup_app_Web',\n",
       "       'signup_app_iOS', 'signup_app_Moweb', 'signup_app_Android',\n",
       "       'first_device_type_Mac Desktop', 'first_device_type_Other/Unknown',\n",
       "       'first_device_type_Windows Desktop',\n",
       "       'first_device_type_Android Tablet', 'first_device_type_iPhone',\n",
       "       'first_device_type_iPad', 'first_device_type_Desktop (Other)',\n",
       "       'first_device_type_Android Phone',\n",
       "       'first_device_type_SmartPhone (Other)', 'first_browser_Firefox',\n",
       "       'first_browser_-unknown-', 'first_browser_Chrome',\n",
       "       'first_browser_Safari', 'first_browser_IE',\n",
       "       'first_browser_Mobile Safari', 'first_browser_Palm Pre web browser',\n",
       "       'first_browser_AOL Explorer', 'first_browser_Android Browser',\n",
       "       'first_browser_Opera', 'first_browser_Chrome Mobile',\n",
       "       'first_browser_Silk', 'first_browser_SeaMonkey',\n",
       "       'first_browser_RockMelt', 'first_browser_Chromium',\n",
       "       'first_browser_Apple Mail', 'first_browser_TenFourFox',\n",
       "       'first_browser_Kindle Browser', 'first_browser_Sogou Explorer',\n",
       "       'first_browser_BlackBerry Browser', 'first_browser_Maxthon',\n",
       "       'first_browser_Avant Browser', 'first_browser_Mobile Firefox',\n",
       "       'first_browser_IceWeasel', 'first_browser_TheWorld Browser',\n",
       "       'first_browser_Iron', 'first_browser_SiteKiosk',\n",
       "       'first_browser_wOSBrowser', 'first_browser_Googlebot',\n",
       "       'first_browser_CoolNovo', 'first_browser_Yandex.Browser'], dtype=object)"
      ]
     },
     "execution_count": 219,
     "metadata": {},
     "output_type": "execute_result"
    }
   ],
   "source": [
    "final_train_users.columns.values"
   ]
  },
  {
   "cell_type": "code",
   "execution_count": 220,
   "metadata": {
    "collapsed": true
   },
   "outputs": [],
   "source": [
    "#Shuffle Training Set\n",
    "cutoff = int(round(len(final_train_users) * 0.8))\n",
    "trainsh = shuffle(final_train_users,random_state = 42).reset_index()\n",
    "trainsh = trainsh[list(final_train_users)[15:]]\n",
    "trainshX =  trainsh.drop(['country_destination'], axis=1)\n",
    "trainshY = trainsh['country_destination']"
   ]
  },
  {
   "cell_type": "code",
   "execution_count": null,
   "metadata": {
    "collapsed": true
   },
   "outputs": [],
   "source": []
  },
  {
   "cell_type": "code",
   "execution_count": 221,
   "metadata": {
    "collapsed": false
   },
   "outputs": [
    {
     "name": "stdout",
     "output_type": "stream",
     "text": [
      "['AU', 'CA', 'DE', 'ES', 'FR', 'GB', 'IT', 'NL', 'PT', 'other']\n"
     ]
    }
   ],
   "source": [
    "countryList = sorted(list(set(trainsh['country_destination'])))\n",
    "print(countryList)\n",
    "n_classes = len(countryList)\n",
    "d = defaultdict(list)\n",
    "for c in countryList:\n",
    "    d[c] = countryList.index(c)\n",
    "\n",
    "def getLabel(c):\n",
    "    return d[c]\n",
    "    \n",
    "#from sklearn.preprocessing import label_binarize\n",
    "#newtrainshY = label_binarize(trainshY, classes=countryList)\n",
    "\n",
    "newtrainshY = trainshY.apply(getLabel)"
   ]
  },
  {
   "cell_type": "code",
   "execution_count": 222,
   "metadata": {
    "collapsed": false
   },
   "outputs": [
    {
     "name": "stdout",
     "output_type": "stream",
     "text": [
      "21226\n"
     ]
    }
   ],
   "source": [
    "print cutoff"
   ]
  },
  {
   "cell_type": "code",
   "execution_count": 223,
   "metadata": {
    "collapsed": false
   },
   "outputs": [],
   "source": [
    "#Split into Train and Validation\n",
    "X = np.array(trainshX)\n",
    "#y = np.array(trainshY != 'NDF')\n",
    "y = newtrainshY\n",
    "Xtrain = np.array(X[:cutoff], dtype=int)\n",
    "ytrain = np.array(y[:cutoff], dtype=int)\n",
    "Xval = np.array(X[cutoff:], dtype=int)\n",
    "yval = np.array(y[cutoff:], dtype=int)\n",
    "#Xtrain = Xtrain[:, np.newaxis]\n",
    "#Xval = Xval[:, np.newaxis]"
   ]
  },
  {
   "cell_type": "code",
   "execution_count": 224,
   "metadata": {
    "collapsed": false
   },
   "outputs": [],
   "source": [
    "from sklearn.model_selection import KFold, RandomizedSearchCV\n",
    "from sklearn.metrics import accuracy_score, f1_score, make_scorer,  roc_curve, auc\n",
    "from scipy.stats import randint as sp_randint\n",
    "\n",
    "from sklearn.svm import SVC\n",
    "from sklearn.multiclass import OneVsRestClassifier\n",
    "\n",
    "## Random Forest\n",
    "#from sklearn.ensemble import RandomForestClassifier\n",
    "#params = {'n_estimators': 100, 'max_depth': 9, 'verbose':1} \n",
    "#clf = RandomForestClassifier(**params)\n",
    "\n",
    "## Gradient Boosting (sklearn)\n",
    "#from sklearn.ensemble import GradientBoostingClassifier\n",
    "#params = {'n_estimators': 30, 'max_depth': 10, 'learning_rate': 0.1, 'loss':'deviance', 'verbose':1} \n",
    "#clf = GradientBoostingClassifier(**params)\n",
    "\n",
    "## One vs Rest Multiclass with SVC\n",
    "from sklearn.multiclass import OneVsRestClassifier\n",
    "#clf =  OneVsRestClassifier(LinearSVC(random_state=0, probability=True, verbose=True))\n",
    "\n",
    "#params = {'n_estimators': 3, 'max_depth': 10, 'learning_rate': 0.1,  'criterion':'mae', 'verbose':1} \n",
    "#clf =  OneVsRestClassifier(GradientBoostingClassifier(**params))\n",
    "clf =  OneVsRestClassifier(GradientBoostingClassifier(verbose=1))\n",
    "\n",
    "##  Adaboost\n",
    "#from sklearn.ensemble import AdaBoostClassifier\n",
    "#from sklearn.tree import DecisionTreeClassifier\n",
    "#clf = AdaBoostClassifier(\n",
    "#    DecisionTreeClassifier(max_depth=9),\n",
    "#    n_estimators=600,\n",
    "#    learning_rate=0.1)"
   ]
  },
  {
   "cell_type": "code",
   "execution_count": 225,
   "metadata": {
    "collapsed": false
   },
   "outputs": [
    {
     "name": "stdout",
     "output_type": "stream",
     "text": [
      "(21226, 113)\n",
      "(21226,)\n",
      "(5306, 113)\n",
      "(5306,)\n"
     ]
    }
   ],
   "source": [
    "print(np.shape(Xtrain))\n",
    "print(np.shape(ytrain))\n",
    "print(np.shape(Xval))\n",
    "print(np.shape(yval))"
   ]
  },
  {
   "cell_type": "code",
   "execution_count": 226,
   "metadata": {
    "collapsed": false
   },
   "outputs": [
    {
     "name": "stdout",
     "output_type": "stream",
     "text": [
      "      Iter       Train Loss   Remaining Time \n",
      "         1           0.1955            2.93s\n",
      "         2           0.1950            3.17s\n",
      "         3           0.1948            3.26s\n",
      "         4           0.1945            3.88s\n",
      "         5           0.1943            3.83s\n",
      "         6           0.1942            3.79s\n",
      "         7           0.1941            4.02s\n",
      "         8           0.1940            3.87s\n",
      "         9           0.1939            3.89s\n",
      "        10           0.1937            3.86s\n",
      "        20           0.1926            3.51s\n",
      "        30           0.1914            3.02s\n",
      "        40           0.1907            2.53s\n",
      "        50           0.1900            2.08s\n",
      "        60           0.1892            1.65s\n",
      "        70           0.1889            1.22s\n",
      "        80           0.1886            0.81s\n",
      "        90           0.1883            0.40s\n",
      "       100           0.1881            0.00s\n",
      "      Iter       Train Loss   Remaining Time \n",
      "         1           0.4121            3.25s\n",
      "         2           0.4115            3.16s\n",
      "         3           0.4109            3.10s\n",
      "         4           0.4106            3.05s\n",
      "         5           0.4103            3.11s\n",
      "         6           0.4101            3.11s\n",
      "         7           0.4096            3.11s\n",
      "         8           0.4093            3.06s\n",
      "         9           0.4091            3.06s\n",
      "        10           0.4089            3.16s\n",
      "        20           0.4071            3.02s\n",
      "        30           0.4058            2.66s\n",
      "        40           0.4046            2.30s\n",
      "        50           0.4038            1.91s\n",
      "        60           0.4028            1.53s\n",
      "        70           0.4021            1.14s\n",
      "        80           0.4015            0.76s\n",
      "        90           0.4011            0.38s\n",
      "       100           0.4005            0.00s\n",
      "      Iter       Train Loss   Remaining Time \n",
      "         1           0.3291            4.24s\n",
      "         2           0.3283            3.65s\n",
      "         3           0.3278            3.80s\n",
      "         4           0.3274            3.68s\n",
      "         5           0.3271            3.80s\n",
      "         6           0.3269            3.64s\n",
      "         7           0.3267            3.65s\n",
      "         8           0.3265            3.52s\n",
      "         9           0.3263            3.55s\n",
      "        10           0.3262            3.48s\n",
      "        20           0.3241            3.09s\n",
      "        30           0.3231            2.63s\n",
      "        40           0.3215            2.29s\n",
      "        50           0.3205            1.91s\n",
      "        60           0.3195            1.52s\n",
      "        70           0.3188            1.12s\n",
      "        80           0.3184            0.74s\n",
      "        90           0.3177            0.37s\n",
      "       100           0.3173            0.00s\n",
      "      Iter       Train Loss   Remaining Time \n",
      "         1           0.5789            4.56s\n",
      "         2           0.5785            3.89s\n",
      "         3           0.5782            4.26s\n",
      "         4           0.5780            4.06s\n",
      "         5           0.5774            4.00s\n",
      "         6           0.5770            4.19s\n",
      "         7           0.5768            4.01s\n",
      "         8           0.5766            4.04s\n",
      "         9           0.5762            3.99s\n",
      "        10           0.5759            3.83s\n",
      "        20           0.5736            3.34s\n",
      "        30           0.5723            2.80s\n",
      "        40           0.5711            2.35s\n",
      "        50           0.5701            1.95s\n",
      "        60           0.5694            1.53s\n",
      "        70           0.5685            1.14s\n",
      "        80           0.5676            0.75s\n",
      "        90           0.5673            0.37s\n",
      "       100           0.5667            0.00s\n",
      "      Iter       Train Loss   Remaining Time \n",
      "         1           0.9700            3.52s\n",
      "         2           0.9689            3.53s\n",
      "         3           0.9679            3.83s\n",
      "         4           0.9672            3.84s\n",
      "         5           0.9665            3.96s\n",
      "         6           0.9660            4.04s\n",
      "         7           0.9655            3.92s\n",
      "         8           0.9651            3.94s\n",
      "         9           0.9646            4.14s\n",
      "        10           0.9641            4.28s\n",
      "        20           0.9608            4.09s\n",
      "        30           0.9588            3.50s\n",
      "        40           0.9574            2.85s\n",
      "        50           0.9564            2.29s\n",
      "        60           0.9554            1.77s\n",
      "        70           0.9546            1.29s\n",
      "        80           0.9538            0.84s\n",
      "        90           0.9530            0.41s\n",
      "       100           0.9521            0.00s\n",
      "      Iter       Train Loss   Remaining Time \n",
      "         1           0.5949            3.06s\n",
      "         2           0.5946            3.36s\n",
      "         3           0.5944            3.24s\n",
      "         4           0.5942            3.38s\n",
      "         5           0.5941            3.30s\n",
      "         6           0.5938            3.40s\n",
      "         7           0.5935            3.31s\n",
      "         8           0.5933            3.20s\n",
      "         9           0.5931            3.14s\n",
      "        10           0.5928            3.24s\n",
      "        20           0.5914            2.77s\n",
      "        30           0.5901            2.40s\n",
      "        40           0.5889            2.12s\n",
      "        50           0.5879            1.75s\n",
      "        60           0.5872            1.39s\n",
      "        70           0.5864            1.04s\n",
      "        80           0.5856            0.69s\n",
      "        90           0.5849            0.35s\n",
      "       100           0.5842            0.00s\n",
      "      Iter       Train Loss   Remaining Time \n",
      "         1           0.6815            3.61s\n",
      "         2           0.6808            3.79s\n",
      "         3           0.6803            3.72s\n",
      "         4           0.6799            3.71s\n",
      "         5           0.6796            3.72s\n",
      "         6           0.6792            3.72s\n",
      "         7           0.6789            3.67s\n",
      "         8           0.6786            3.65s\n",
      "         9           0.6785            3.53s\n",
      "        10           0.6782            3.46s\n",
      "        20           0.6760            3.20s\n",
      "        30           0.6746            2.77s\n",
      "        40           0.6731            2.35s\n",
      "        50           0.6721            1.91s\n",
      "        60           0.6711            1.52s\n",
      "        70           0.6703            1.13s\n",
      "        80           0.6695            0.75s\n",
      "        90           0.6687            0.37s\n",
      "       100           0.6678            0.00s\n",
      "      Iter       Train Loss   Remaining Time \n",
      "         1           0.2524            3.04s\n",
      "         2           0.2522            3.72s\n",
      "         3           0.2518            3.45s\n",
      "         4           0.2514            3.35s\n",
      "         5           0.2513            3.25s\n",
      "         6           0.2509            3.74s\n",
      "         7           0.2508            3.59s\n",
      "         8           0.2504            3.90s\n",
      "         9           0.2501            3.79s\n",
      "        10           0.2500            3.97s\n",
      "        20           0.2485            3.40s\n",
      "        30           0.2474            2.91s\n",
      "        40           0.2466            2.39s\n",
      "        50           0.2456            1.94s\n",
      "        60           0.2451            1.53s\n",
      "        70           0.2443            1.17s\n",
      "        80           0.2437            0.78s\n",
      "        90           0.2433            0.39s\n",
      "       100           0.2428            0.00s\n",
      "      Iter       Train Loss   Remaining Time \n",
      "         1           0.0934            3.22s\n",
      "         2           0.0929            3.13s\n",
      "         3           0.0926            3.42s\n",
      "         4           0.0924            3.53s\n",
      "         5           0.0923            3.46s\n",
      "         6           0.0922            3.46s\n",
      "         7           0.0920            3.37s\n",
      "         8           0.0919            3.32s\n",
      "         9           0.0919            3.28s\n",
      "        10           0.0918            3.28s\n",
      "        20           0.0907            3.01s\n",
      "        30           0.0901            2.68s\n",
      "        40           0.0896            2.32s\n",
      "        50           0.0886            1.98s\n",
      "        60           0.0883            1.58s\n",
      "        70           0.0881            1.17s\n",
      "        80           0.0878            0.77s\n",
      "        90           0.0875            0.38s\n",
      "       100           0.0873            0.00s\n",
      "      Iter       Train Loss   Remaining Time \n",
      "         1           1.3285            6.80s\n",
      "         2           1.3264            5.97s\n",
      "         3           1.3247            5.95s\n",
      "         4           1.3234            6.07s\n",
      "         5           1.3221            5.81s\n",
      "         6           1.3211            5.68s\n",
      "         7           1.3202            5.56s\n",
      "         8           1.3194            5.23s\n",
      "         9           1.3187            5.13s\n",
      "        10           1.3181            4.87s\n",
      "        20           1.3132            3.61s\n",
      "        30           1.3100            3.02s\n",
      "        40           1.3078            2.49s\n",
      "        50           1.3062            2.05s\n",
      "        60           1.3049            1.61s\n",
      "        70           1.3037            1.18s\n",
      "        80           1.3026            0.78s\n",
      "        90           1.3018            0.38s\n",
      "       100           1.3010            0.00s\n"
     ]
    },
    {
     "data": {
      "text/plain": [
       "OneVsRestClassifier(estimator=GradientBoostingClassifier(criterion='friedman_mse', init=None,\n",
       "              learning_rate=0.1, loss='deviance', max_depth=3,\n",
       "              max_features=None, max_leaf_nodes=None,\n",
       "              min_impurity_split=1e-07, min_samples_leaf=1,\n",
       "              min_samples_split=2, min_weight_fraction_leaf=0.0,\n",
       "              n_estimators=100, presort='auto', random_state=None,\n",
       "              subsample=1.0, verbose=1, warm_start=False),\n",
       "          n_jobs=1)"
      ]
     },
     "execution_count": 226,
     "metadata": {},
     "output_type": "execute_result"
    }
   ],
   "source": [
    "clf.fit(Xtrain, ytrain)\n",
    "#probs = clf.predict_proba(Xval)"
   ]
  },
  {
   "cell_type": "code",
   "execution_count": 208,
   "metadata": {
    "collapsed": false
   },
   "outputs": [],
   "source": [
    "probs = clf.decision_function(Xval)"
   ]
  },
  {
   "cell_type": "code",
   "execution_count": 209,
   "metadata": {
    "collapsed": false
   },
   "outputs": [
    {
     "data": {
      "text/plain": [
       "array([-5.18081147, -3.94080742, -4.47962715, -3.6777033 , -2.68417458,\n",
       "       -3.6156161 , -3.38944344, -4.7375033 , -5.98020365,  0.82344045,\n",
       "       -2.10693816])"
      ]
     },
     "execution_count": 209,
     "metadata": {},
     "output_type": "execute_result"
    }
   ],
   "source": [
    "probs[0]"
   ]
  },
  {
   "cell_type": "code",
   "execution_count": 227,
   "metadata": {
    "collapsed": false
   },
   "outputs": [
    {
     "name": "stdout",
     "output_type": "stream",
     "text": [
      "[0.52614768334549777, 0.54702992715807008, 0.54745607599302615, 0.52990750745852788, 0.54853125470997699, 0.56076516494444206, 0.53125350734988352, 0.48231999900901901, 0.5026195535745136, 0.5687206107566436]\n"
     ]
    }
   ],
   "source": [
    "import sklearn.metrics as metrics\n",
    "\n",
    "score = []\n",
    "fpr = []\n",
    "tpr = []\n",
    "roc_auc = []\n",
    "\n",
    "for i in range(len(countryList)):\n",
    "    \n",
    "    pred_val = clf.predict_proba(Xval)[:,i]\n",
    "    yval_temp = (yval==i)\n",
    "    f,t,_ = metrics.roc_curve(yval_temp,pred_val)\n",
    "\n",
    "    auc = metrics.roc_auc_score(yval_temp,pred_val)\n",
    "    \n",
    "    fpr.append(f)\n",
    "    tpr.append(t)\n",
    "    roc_auc.append(auc)\n",
    "\n",
    "print roc_auc"
   ]
  },
  {
   "cell_type": "code",
   "execution_count": 228,
   "metadata": {
    "collapsed": false
   },
   "outputs": [
    {
     "data": {
      "image/png": "[encoded data removed]",
      "text/plain": [
       "<matplotlib.figure.Figure at 0x11aa8de50>"
      ]
     },
     "metadata": {},
     "output_type": "display_data"
    }
   ],
   "source": [
    "#colors = cycle(['aqua', 'darkorange', 'cornflowerblue'])\n",
    "#for i, color in zip(range(n_classes), colors):\n",
    "\n",
    "fig, ax = plt.subplots(figsize = (8,8))\n",
    "\n",
    "for i in range(n_classes):\n",
    "    plt.plot(fpr[i], tpr[i], \n",
    "             label='ROC curve of class {0} (area = {1:0.2f})'\n",
    "             ''.format(i, roc_auc[i]))\n",
    "    \n",
    "plt.plot([0, 1], [0, 1], 'k--')\n",
    "plt.xlim([0.0, 1.0])\n",
    "plt.ylim([0.0, 1.05])\n",
    "plt.xlabel('False Positive Rate')\n",
    "plt.ylabel('True Positive Rate')\n",
    "plt.title('ROC value for each country of destination')\n",
    "plt.legend(loc=\"lower right\")\n",
    "plt.show()"
   ]
  },
  {
   "cell_type": "code",
   "execution_count": null,
   "metadata": {
    "collapsed": true
   },
   "outputs": [],
   "source": []
  },
  {
   "cell_type": "code",
   "execution_count": null,
   "metadata": {
    "collapsed": true
   },
   "outputs": [],
   "source": []
  },
  {
   "cell_type": "code",
   "execution_count": null,
   "metadata": {
    "collapsed": true
   },
   "outputs": [],
   "source": []
  },
  {
   "cell_type": "code",
   "execution_count": null,
   "metadata": {
    "collapsed": true
   },
   "outputs": [],
   "source": []
  },
  {
   "cell_type": "code",
   "execution_count": null,
   "metadata": {
    "collapsed": true
   },
   "outputs": [],
   "source": []
  },
  {
   "cell_type": "code",
   "execution_count": null,
   "metadata": {
    "collapsed": true
   },
   "outputs": [],
   "source": []
  },
  {
   "cell_type": "code",
   "execution_count": null,
   "metadata": {
    "collapsed": true
   },
   "outputs": [],
   "source": []
  }
 ],
 "metadata": {
  "anaconda-cloud": {},
  "kernelspec": {
   "display_name": "Python [conda env:python2]",
   "language": "python",
   "name": "conda-env-python2-py"
  },
  "language_info": {
   "codemirror_mode": {
    "name": "ipython",
    "version": 2
   },
   "file_extension": ".py",
   "mimetype": "text/x-python",
   "name": "python",
   "nbconvert_exporter": "python",
   "pygments_lexer": "ipython2",
   "version": "2.7.13"
  }
 },
 "nbformat": 4,
 "nbformat_minor": 0
}
