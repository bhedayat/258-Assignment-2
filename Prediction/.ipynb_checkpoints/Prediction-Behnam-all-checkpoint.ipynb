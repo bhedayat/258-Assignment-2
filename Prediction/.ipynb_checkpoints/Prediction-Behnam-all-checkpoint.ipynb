{
 "cells": [
  {
   "cell_type": "markdown",
   "metadata": {},
   "source": [
    "Threshold for Level 1 is 0.36\n",
    "\n",
    "clf = RandomForestClassifier(n_estimators=100)\n",
    "\n",
    "Threshold for Level 2 is 0.69\n",
    "\n",
    "clf = RandomForestClassifier(n_estimators=50,bootstrap= False, criterion = 'gini', max_depth =  3)\n",
    "\n",
    "Threshold for Level 3 \n",
    "\n",
    "['AU', 'CA', 'DE', 'ES', 'FR', 'GB', 'IT', 'NL', 'PT', 'other']\n",
    "[0.013,0.051,0.025,0.078,0.168,0.0761,0.10,0.023,0.002, 0.434]\n",
    "\n",
    "from sklearn.multiclass import OneVsRestClassifier\n",
    "\n",
    "params = {'n_estimators': 100, 'learning_rate': 0.1, 'verbose':1, 'random_state':42} \n",
    "\n",
    "clf =  OneVsRestClassifier(GradientBoostingClassifier(**params))"
   ]
  },
  {
   "cell_type": "code",
   "execution_count": 31,
   "metadata": {
    "collapsed": true
   },
   "outputs": [],
   "source": [
    "import pandas as pd\n",
    "from sklearn.utils import shuffle\n",
    "from collections import defaultdict\n",
    "from datetime import datetime, date \n",
    "import numpy as np"
   ]
  },
  {
   "cell_type": "code",
   "execution_count": 2,
   "metadata": {
    "collapsed": false
   },
   "outputs": [],
   "source": [
    "#Load in Data\n",
    "train_users_path = '../../Data/train_users_2.csv'\n",
    "train_users = pd.read_csv(train_users_path)\n",
    "\n",
    "sessions_path = '../../Data/sessions.csv'\n",
    "sessions = pd.read_csv(sessions_path)\n",
    "\n",
    "test_users_path = '../../Data/test_users.csv'\n",
    "test_users = pd.read_csv(test_users_path)"
   ]
  },
  {
   "cell_type": "code",
   "execution_count": 3,
   "metadata": {
    "collapsed": false
   },
   "outputs": [],
   "source": [
    "final_train_users = train_users[train_users['id'].drop_duplicates().isin(sessions['user_id'].drop_duplicates())]\n",
    "final_train_users = final_train_users.reset_index()\n",
    "actions = sessions['action'].dropna().drop_duplicates()\n",
    "\n",
    "def action_bool(action):\n",
    "    user_action = sessions[sessions['action'] == action]\n",
    "    performed = final_train_users['id'].isin(user_action['user_id'])\n",
    "    colname = 'b_' + action\n",
    "    final_train_users[colname] = performed\n",
    "\n",
    "    \n",
    "for action in actions:\n",
    "    action_bool(action)\n",
    "feats = map(lambda x: 'b_' + x,actions)\n",
    "X = final_train_users[feats + ['country_destination']]\n",
    "Xsh = shuffle(X,random_state = 42).reset_index()\n",
    "Xsh = Xsh.as_matrix()[:,1:]\t\n",
    "ntrain = len(Xsh)\n",
    "\n",
    "Xtrain1 = Xsh[:ntrain,:-1]\n",
    "ytrain1 = np.ravel(Xsh[:ntrain,-1:] != 'NDF')\n"
   ]
  },
  {
   "cell_type": "code",
   "execution_count": 4,
   "metadata": {
    "collapsed": false
   },
   "outputs": [
    {
     "name": "stdout",
     "output_type": "stream",
     "text": [
      "(73815, 359)\n",
      "(73815,)\n"
     ]
    }
   ],
   "source": [
    "print Xtrain1.shape\n",
    "print ytrain1.shape"
   ]
  },
  {
   "cell_type": "code",
   "execution_count": 5,
   "metadata": {
    "collapsed": false
   },
   "outputs": [],
   "source": [
    "final_test_users = test_users[test_users['id'].drop_duplicates().isin(sessions['user_id'].drop_duplicates())]\n",
    "final_test_users = final_test_users.reset_index()\n",
    "\n",
    "def action_bool(action):\n",
    "    user_action = sessions[sessions['action'] == action]\n",
    "    performed = final_test_users['id'].isin(user_action['user_id'])\n",
    "    colname = 'b_' + action\n",
    "    final_test_users[colname] = performed\n",
    "\n",
    "    \n",
    "for action in actions:\n",
    "    action_bool(action)\n",
    "feats = map(lambda x: 'b_' + x,actions)\n",
    "X = final_test_users[feats]\n",
    "Xtest1 = X.as_matrix()\n"
   ]
  },
  {
   "cell_type": "code",
   "execution_count": 30,
   "metadata": {
    "collapsed": false
   },
   "outputs": [
    {
     "name": "stdout",
     "output_type": "stream",
     "text": [
      "(61668, 359)\n"
     ]
    }
   ],
   "source": [
    "print Xtest1.shape"
   ]
  },
  {
   "cell_type": "code",
   "execution_count": 8,
   "metadata": {
    "collapsed": true
   },
   "outputs": [],
   "source": [
    "from sklearn.ensemble import RandomForestClassifier"
   ]
  },
  {
   "cell_type": "code",
   "execution_count": 9,
   "metadata": {
    "collapsed": false
   },
   "outputs": [
    {
     "data": {
      "text/plain": [
       "RandomForestClassifier(bootstrap=True, class_weight=None, criterion='gini',\n",
       "            max_depth=None, max_features='auto', max_leaf_nodes=None,\n",
       "            min_impurity_split=1e-07, min_samples_leaf=1,\n",
       "            min_samples_split=2, min_weight_fraction_leaf=0.0,\n",
       "            n_estimators=100, n_jobs=1, oob_score=False, random_state=None,\n",
       "            verbose=0, warm_start=False)"
      ]
     },
     "execution_count": 9,
     "metadata": {},
     "output_type": "execute_result"
    }
   ],
   "source": [
    "clf1 = RandomForestClassifier(n_estimators=100)\n",
    "\n",
    "clf1.fit(Xtrain1,ytrain1)"
   ]
  },
  {
   "cell_type": "code",
   "execution_count": 11,
   "metadata": {
    "collapsed": false
   },
   "outputs": [],
   "source": [
    "pred1 = np.array([True]*len(test_users))"
   ]
  },
  {
   "cell_type": "code",
   "execution_count": 18,
   "metadata": {
    "collapsed": true
   },
   "outputs": [],
   "source": [
    "thresh = 0.36\n",
    "tempPred = clf1.predict_proba(Xtest1)[:,1] >= thresh"
   ]
  },
  {
   "cell_type": "code",
   "execution_count": 19,
   "metadata": {
    "collapsed": true
   },
   "outputs": [],
   "source": [
    "j = 0\n",
    "for i in final_test_users['index']:\n",
    "    pred1[i] = tempPred[j]\n",
    "    j += 1"
   ]
  },
  {
   "cell_type": "code",
   "execution_count": 24,
   "metadata": {
    "collapsed": false
   },
   "outputs": [
    {
     "name": "stdout",
     "output_type": "stream",
     "text": [
      "23954\n",
      "62096\n"
     ]
    }
   ],
   "source": [
    "print sum(pred1)\n",
    "print len(pred1)"
   ]
  },
  {
   "cell_type": "code",
   "execution_count": 41,
   "metadata": {
    "collapsed": true
   },
   "outputs": [],
   "source": [
    "predNDF = []\n",
    "for i in pred1:\n",
    "    if i == True:\n",
    "        predNDF.append('NDF')\n",
    "    else:\n",
    "        predNDF.append('NonNDF')\n",
    "predNDF = np.array(predNDF)"
   ]
  },
  {
   "cell_type": "code",
   "execution_count": 43,
   "metadata": {
    "collapsed": false
   },
   "outputs": [],
   "source": [
    "test_users['bNDF'] = predNDF"
   ]
  },
  {
   "cell_type": "markdown",
   "metadata": {},
   "source": [
    "### Level 2"
   ]
  },
  {
   "cell_type": "code",
   "execution_count": 102,
   "metadata": {
    "collapsed": true
   },
   "outputs": [],
   "source": [
    "booked_train_users = train_users[train_users['country_destination'] != 'NDF']\n"
   ]
  },
  {
   "cell_type": "code",
   "execution_count": 152,
   "metadata": {
    "collapsed": true
   },
   "outputs": [],
   "source": [
    "from sklearn.preprocessing import OneHotEncoder\n",
    "encdemall = []\n",
    "Dall = []\n",
    "def makeFeature(column):\n",
    "    encdem = OneHotEncoder()\n",
    "\n",
    "    temp = (booked_train_users[column]).as_matrix()\n",
    "\n",
    "    D = defaultdict(int)\n",
    "    count = 1\n",
    "    for i in np.unique(temp):\n",
    "        D[i] = count\n",
    "        count += 1\n",
    "    \n",
    "\n",
    "    newX = np.zeros((temp.shape))\n",
    "    for i in range(temp.shape[0]):\n",
    "        lang = temp[i]\n",
    "        newX[i] = D[lang]\n",
    "    newX = newX[:,np.newaxis]\n",
    "    \n",
    "    newX = encdem.fit_transform(newX)\n",
    "    \n",
    "    newX = newX.toarray()\n",
    "    \n",
    "    return newX,encdem,D\n"
   ]
  },
  {
   "cell_type": "code",
   "execution_count": 153,
   "metadata": {
    "collapsed": false
   },
   "outputs": [
    {
     "name": "stdout",
     "output_type": "stream",
     "text": [
      "(88908, 109)\n"
     ]
    }
   ],
   "source": [
    "columns = ['signup_method', 'signup_flow', 'affiliate_channel', 'affiliate_provider', 'first_affiliate_tracked', 'signup_app', 'first_device_type', 'first_browser']\n",
    "\n",
    "X1tr,encdem,D = makeFeature('gender')\n",
    "encdemall.append(encdem)\n",
    "Dall.append(D)\n",
    "for c in columns:\n",
    "    tempX,encdem,D = makeFeature(c)\n",
    "    encdemall.append(encdem)\n",
    "    Dall.append(D)\n",
    "    X1tr = np.concatenate((X1tr,tempX),axis=1)\n",
    "print X1tr.shape"
   ]
  },
  {
   "cell_type": "code",
   "execution_count": 106,
   "metadata": {
    "collapsed": false
   },
   "outputs": [
    {
     "name": "stderr",
     "output_type": "stream",
     "text": [
      "/home/behnam/anaconda2/lib/python2.7/site-packages/ipykernel/__main__.py:5: SettingWithCopyWarning: \n",
      "A value is trying to be set on a copy of a slice from a DataFrame.\n",
      "Try using .loc[row_indexer,col_indexer] = value instead\n",
      "\n",
      "See the caveats in the documentation: http://pandas.pydata.org/pandas-docs/stable/indexing.html#indexing-view-versus-copy\n"
     ]
    }
   ],
   "source": [
    "def action_bool(action):\n",
    "    user_action = sessions[sessions['action'] == action]\n",
    "    performed = booked_train_users['id'].isin(user_action['user_id'])\n",
    "    colname = 'b_' + action\n",
    "    booked_train_users[colname] = performed\n",
    "\n",
    "actions = sessions['action'].dropna().drop_duplicates()\n",
    "\n",
    "for action in actions:\n",
    "    action_bool(action)\n",
    "\n",
    "col_name = ['b_' + action for action in actions]\n",
    "\n",
    "actXtr = booked_train_users[col_name].as_matrix().astype(int)"
   ]
  },
  {
   "cell_type": "code",
   "execution_count": 107,
   "metadata": {
    "collapsed": false
   },
   "outputs": [
    {
     "name": "stdout",
     "output_type": "stream",
     "text": [
      "(88908, 359)\n"
     ]
    }
   ],
   "source": [
    "print actXtr.shape"
   ]
  },
  {
   "cell_type": "code",
   "execution_count": 108,
   "metadata": {
    "collapsed": false
   },
   "outputs": [
    {
     "name": "stdout",
     "output_type": "stream",
     "text": [
      "(88908, 1)\n"
     ]
    }
   ],
   "source": [
    "Xtr = (booked_train_users['language'] == 'en').as_matrix().astype(int)\n",
    "Xtr = Xtr[:,np.newaxis]\n",
    "print Xtr.shape"
   ]
  },
  {
   "cell_type": "code",
   "execution_count": 109,
   "metadata": {
    "collapsed": false
   },
   "outputs": [],
   "source": [
    "Y = 2000 # dummy leap year to allow input X-02-29 (leap day)\n",
    "seasons = [(0, (date(Y,  1,  1),  date(Y,  3, 20))),  #'winter'\n",
    "           (1, (date(Y,  3, 21),  date(Y,  6, 20))),  #'spring'\n",
    "           (2, (date(Y,  6, 21),  date(Y,  9, 22))),  #'summer'\n",
    "           (3, (date(Y,  9, 23),  date(Y, 12, 20))),  #'autumn'\n",
    "           (0, (date(Y, 12, 21),  date(Y, 12, 31)))]  #'winter'\n",
    "def get_season(now):\n",
    "    date_format = \"%Y-%m-%d\"\n",
    "    d1 = now\n",
    "    now = datetime.strptime(d1, date_format)\n",
    "    \n",
    "    if isinstance(now, datetime):\n",
    "        now = now.date()\n",
    "    now = now.replace(year=Y)\n",
    "    return next(season for season, (start, end) in seasons\n",
    "                if start <= now <= end)"
   ]
  },
  {
   "cell_type": "code",
   "execution_count": 110,
   "metadata": {
    "collapsed": false
   },
   "outputs": [
    {
     "name": "stdout",
     "output_type": "stream",
     "text": [
      "(88908, 4)\n"
     ]
    }
   ],
   "source": [
    "encdate = OneHotEncoder()\n",
    "a = np.array(booked_train_users['date_account_created'].apply(get_season))\n",
    "a = a[:,np.newaxis]\n",
    "dateFeattr = encdate.fit_transform(a)\n",
    "dateFeattr = dateFeattr.toarray()\n",
    "print dateFeattr.shape"
   ]
  },
  {
   "cell_type": "code",
   "execution_count": 111,
   "metadata": {
    "collapsed": false
   },
   "outputs": [
    {
     "name": "stdout",
     "output_type": "stream",
     "text": [
      "(88908, 473)\n"
     ]
    }
   ],
   "source": [
    "Xtrain2 = np.concatenate((actXtr,Xtr,dateFeattr,X1tr),axis=1)\n",
    "ytrain2 = (booked_train_users['country_destination'] == 'US').as_matrix().astype(int)\n",
    "print Xtrain2.shape"
   ]
  },
  {
   "cell_type": "code",
   "execution_count": 112,
   "metadata": {
    "collapsed": false
   },
   "outputs": [],
   "source": [
    "booked_test_users = test_users[test_users['bNDF'] != 'NDF']"
   ]
  },
  {
   "cell_type": "code",
   "execution_count": 157,
   "metadata": {
    "collapsed": true
   },
   "outputs": [],
   "source": [
    "\n",
    "def makeFeature(column,encdem,D):\n",
    "    temp = (booked_test_users[column]).as_matrix()\n",
    "\n",
    "    newX = np.zeros((temp.shape))\n",
    "    for i in range(temp.shape[0]):\n",
    "        lang = temp[i]\n",
    "        newX[i] = D[lang]\n",
    "    newX = newX[:,np.newaxis]\n",
    "    \n",
    "    newX = encdem.transform(newX)\n",
    "    newX = newX.toarray()\n",
    "    \n",
    "    return newX"
   ]
  },
  {
   "cell_type": "code",
   "execution_count": 158,
   "metadata": {
    "collapsed": false
   },
   "outputs": [
    {
     "name": "stdout",
     "output_type": "stream",
     "text": [
      "(38142, 109)\n"
     ]
    }
   ],
   "source": [
    "columns = ['signup_method', 'signup_flow', 'affiliate_channel', 'affiliate_provider', 'first_affiliate_tracked', 'signup_app', 'first_device_type', 'first_browser']\n",
    "\n",
    "j = 0\n",
    "\n",
    "X1 = makeFeature('gender',encdemall[j],Dall[j])\n",
    "j += 1\n",
    "for c in columns:\n",
    "    encdem = encdemall[j]\n",
    "    D = Dall[j]\n",
    "    tempX = makeFeature(c,encdem,D)\n",
    "    X1 = np.concatenate((X1,tempX),axis=1)\n",
    "    j += 1\n",
    "print X1.shape"
   ]
  },
  {
   "cell_type": "code",
   "execution_count": 113,
   "metadata": {
    "collapsed": false
   },
   "outputs": [
    {
     "name": "stderr",
     "output_type": "stream",
     "text": [
      "/home/behnam/anaconda2/lib/python2.7/site-packages/ipykernel/__main__.py:5: SettingWithCopyWarning: \n",
      "A value is trying to be set on a copy of a slice from a DataFrame.\n",
      "Try using .loc[row_indexer,col_indexer] = value instead\n",
      "\n",
      "See the caveats in the documentation: http://pandas.pydata.org/pandas-docs/stable/indexing.html#indexing-view-versus-copy\n"
     ]
    },
    {
     "name": "stdout",
     "output_type": "stream",
     "text": [
      "(38142, 359)\n"
     ]
    }
   ],
   "source": [
    "def action_bool(action):\n",
    "    user_action = sessions[sessions['action'] == action]\n",
    "    performed = booked_test_users['id'].isin(user_action['user_id'])\n",
    "    colname = 'b_' + action\n",
    "    booked_test_users[colname] = performed\n",
    "\n",
    "actions = sessions['action'].dropna().drop_duplicates()\n",
    "\n",
    "for action in actions:\n",
    "    action_bool(action)\n",
    "\n",
    "col_name = ['b_' + action for action in actions]\n",
    "\n",
    "actX = booked_test_users[col_name].as_matrix().astype(int)\n",
    "print actX.shape"
   ]
  },
  {
   "cell_type": "code",
   "execution_count": 114,
   "metadata": {
    "collapsed": false
   },
   "outputs": [
    {
     "name": "stdout",
     "output_type": "stream",
     "text": [
      "(38142, 1)\n"
     ]
    }
   ],
   "source": [
    "X = (booked_test_users['language'] == 'en').as_matrix().astype(int)\n",
    "X = X[:,np.newaxis]\n",
    "print X.shape"
   ]
  },
  {
   "cell_type": "code",
   "execution_count": 115,
   "metadata": {
    "collapsed": false
   },
   "outputs": [
    {
     "name": "stdout",
     "output_type": "stream",
     "text": [
      "(38142, 4)\n"
     ]
    }
   ],
   "source": [
    "a = np.array(booked_test_users['date_account_created'].apply(get_season))\n",
    "a = a[:,np.newaxis]\n",
    "dateFeat = encdate.transform(a)\n",
    "dateFeat = dateFeat.toarray()\n",
    "print dateFeat.shape"
   ]
  },
  {
   "cell_type": "code",
   "execution_count": 159,
   "metadata": {
    "collapsed": true
   },
   "outputs": [],
   "source": [
    "Xtest2 = np.concatenate((actX,X,dateFeat,X1),axis=1)\n"
   ]
  },
  {
   "cell_type": "code",
   "execution_count": 161,
   "metadata": {
    "collapsed": false
   },
   "outputs": [
    {
     "name": "stdout",
     "output_type": "stream",
     "text": [
      "(38142, 473)\n",
      "(88908, 473)\n"
     ]
    }
   ],
   "source": [
    "print Xtest2.shape\n",
    "print Xtrain2.shape"
   ]
  },
  {
   "cell_type": "code",
   "execution_count": 162,
   "metadata": {
    "collapsed": false
   },
   "outputs": [
    {
     "data": {
      "text/plain": [
       "RandomForestClassifier(bootstrap=False, class_weight=None, criterion='gini',\n",
       "            max_depth=3, max_features='auto', max_leaf_nodes=None,\n",
       "            min_impurity_split=1e-07, min_samples_leaf=1,\n",
       "            min_samples_split=2, min_weight_fraction_leaf=0.0,\n",
       "            n_estimators=50, n_jobs=1, oob_score=False, random_state=None,\n",
       "            verbose=0, warm_start=False)"
      ]
     },
     "execution_count": 162,
     "metadata": {},
     "output_type": "execute_result"
    }
   ],
   "source": [
    "clf2 = RandomForestClassifier(n_estimators=50,bootstrap= False, criterion = 'gini', max_depth =  3)\n",
    "\n",
    "clf2.fit(Xtrain2,ytrain2)"
   ]
  },
  {
   "cell_type": "code",
   "execution_count": 170,
   "metadata": {
    "collapsed": false
   },
   "outputs": [],
   "source": [
    "#Predict for Level 2\n",
    "thresh = 0.69\n",
    "pred2 = clf2.predict_proba(Xtest2)[:,1] >= thresh"
   ]
  },
  {
   "cell_type": "code",
   "execution_count": 171,
   "metadata": {
    "collapsed": false
   },
   "outputs": [],
   "source": [
    "predUS = []\n",
    "for i in pred2:\n",
    "    if i == True:\n",
    "        predUS.append('US')\n",
    "    else:\n",
    "        predUS.append('NonUS')\n",
    "predUS = np.array(predUS)"
   ]
  },
  {
   "cell_type": "code",
   "execution_count": 172,
   "metadata": {
    "collapsed": false
   },
   "outputs": [
    {
     "name": "stderr",
     "output_type": "stream",
     "text": [
      "/home/behnam/anaconda2/lib/python2.7/site-packages/ipykernel/__main__.py:1: SettingWithCopyWarning: \n",
      "A value is trying to be set on a copy of a slice from a DataFrame.\n",
      "Try using .loc[row_indexer,col_indexer] = value instead\n",
      "\n",
      "See the caveats in the documentation: http://pandas.pydata.org/pandas-docs/stable/indexing.html#indexing-view-versus-copy\n",
      "  if __name__ == '__main__':\n"
     ]
    }
   ],
   "source": [
    "booked_test_users['bUS'] = predUS"
   ]
  },
  {
   "cell_type": "markdown",
   "metadata": {},
   "source": [
    "### Level 3"
   ]
  },
  {
   "cell_type": "code",
   "execution_count": 175,
   "metadata": {
    "collapsed": true
   },
   "outputs": [],
   "source": [
    "# Users who had a booking\n",
    "train_yesPurchase = train_users[train_users['country_destination']!='NDF']\n",
    "yesPurchase_users = set(train_yesPurchase['id'])\n",
    "\n",
    "# Users who had a booking outside of US\n",
    "train_nonUS_purchase = train_yesPurchase[train_yesPurchase['country_destination'] != 'US']\n",
    "#train_nonUS_purchase = train_nonUS_purchase[train_nonUS_purchase['country_destination'] != 'other']\n",
    "train_nonUS_users = set(train_nonUS_purchase ['id'])\n"
   ]
  },
  {
   "cell_type": "code",
   "execution_count": 176,
   "metadata": {
    "collapsed": true
   },
   "outputs": [],
   "source": [
    "count_train_users = train_nonUS_purchase.copy()\n",
    "count_train_users = count_train_users[count_train_users['id'].isin(sessions['user_id'])]\n",
    "\n"
   ]
  },
  {
   "cell_type": "code",
   "execution_count": 179,
   "metadata": {
    "collapsed": false
   },
   "outputs": [],
   "source": [
    "categories = list(train_users.columns.values)\n",
    "categories = categories[4:len(categories)-1]\n",
    "categories.remove('age')\n",
    "categories.remove('gender')"
   ]
  },
  {
   "cell_type": "code",
   "execution_count": 180,
   "metadata": {
    "collapsed": true
   },
   "outputs": [],
   "source": [
    "count_train_users = count_train_users.ix[np.logical_and(count_train_users['age'] > 10, count_train_users['age'] < 80)]\n",
    "\n"
   ]
  },
  {
   "cell_type": "code",
   "execution_count": 181,
   "metadata": {
    "collapsed": true
   },
   "outputs": [],
   "source": [
    "def category_bool(catName, catItem):\n",
    "    user_app = count_train_users[count_train_users[catName] == catItem]\n",
    "    performed = count_train_users['id'].isin(user_app['id'])\n",
    "    colname = str(catName) + '_' + str(catItem)\n",
    "    count_train_users[colname] = performed\n",
    "\n",
    "for category in categories:\n",
    "    items = count_train_users[category].dropna().drop_duplicates()\n",
    "    for item in items:\n",
    "        category_bool(category, item)\n",
    "\n"
   ]
  },
  {
   "cell_type": "code",
   "execution_count": 182,
   "metadata": {
    "collapsed": true
   },
   "outputs": [],
   "source": [
    "genders = count_train_users['gender'].dropna().drop_duplicates()\n",
    "for item in items:\n",
    "    if (item != '-unknown-'):\n",
    "        category_bool('gender', item)\n",
    "        \n",
    "        "
   ]
  },
  {
   "cell_type": "code",
   "execution_count": 183,
   "metadata": {
    "collapsed": true
   },
   "outputs": [],
   "source": [
    "#### Get the Date\n",
    "Y = 2000 # dummy leap year to allow input X-02-29 (leap day)\n",
    "seasons = [(0, (date(Y,  1,  1),  date(Y,  3, 20))),  #'winter'\n",
    "           (1, (date(Y,  3, 21),  date(Y,  6, 20))),  #'spring'\n",
    "           (2, (date(Y,  6, 21),  date(Y,  9, 22))),  #'summer'\n",
    "           (3, (date(Y,  9, 23),  date(Y, 12, 20))),  #'autumn'\n",
    "           (0, (date(Y, 12, 21),  date(Y, 12, 31)))]  #'winter'\n",
    "\n",
    "def get_season(now):\n",
    "    date_format = \"%Y-%m-%d\"\n",
    "    d1 = now\n",
    "    now = datetime.strptime(d1, date_format)\n",
    "    \n",
    "    if isinstance(now, datetime):\n",
    "        now = now.date()\n",
    "    now = now.replace(year=Y)\n",
    "    return next(season for season, (start, end) in seasons\n",
    "                if start <= now <= end)\n",
    "\n",
    "encdate = OneHotEncoder()\n",
    "a = np.array(count_train_users['date_account_created'].apply(get_season))\n",
    "a = a[:,np.newaxis]\n",
    "dateFeat = encdate.fit_transform(a)\n",
    "dateFeat = dateFeat.toarray()\n",
    "\n",
    "for i in range(len(dateFeat[0])):\n",
    "    category = 'season_' + str(i)\n",
    "    count_train_users[category] = dateFeat[:,i]"
   ]
  },
  {
   "cell_type": "code",
   "execution_count": 184,
   "metadata": {
    "collapsed": true
   },
   "outputs": [],
   "source": [
    "## Append Month\n",
    "def get_month(now):\n",
    "    return now[5:7]\n",
    "\n",
    "encmonth = OneHotEncoder()\n",
    "a = np.array(count_train_users['date_account_created'].apply(get_month))\n",
    "a = a[:,np.newaxis]\n",
    "dateFeat = encmonth.fit_transform(a)\n",
    "dateFeat = dateFeat.toarray()\n",
    "\n",
    "for i in range(len(dateFeat[0])):\n",
    "    category = 'month_' + str(i)\n",
    "    count_train_users[category] = dateFeat[:,i]"
   ]
  },
  {
   "cell_type": "code",
   "execution_count": 186,
   "metadata": {
    "collapsed": false
   },
   "outputs": [],
   "source": [
    "## Append Year\n",
    "def get_year(now):\n",
    "    return now[:4]\n",
    "\n",
    "encyear = OneHotEncoder()\n",
    "\n",
    "a = np.array(count_train_users['date_account_created'].apply(get_year))\n",
    "a = a[:,np.newaxis]\n",
    "dateFeat = encyear.fit_transform(a)\n",
    "dateFeat = dateFeat.toarray()\n",
    "\n",
    "for i in range(len(dateFeat[0])):\n",
    "    category = 'year_' + str(i)\n",
    "    count_train_users[category] = dateFeat[:,i]"
   ]
  },
  {
   "cell_type": "code",
   "execution_count": 187,
   "metadata": {
    "collapsed": true
   },
   "outputs": [],
   "source": [
    "## Append TFA - DAC\n",
    "import datetime\n",
    "\n",
    "count_train_users['tfa-dac'] = count_train_users.apply(lambda x: (datetime.datetime.strptime(x['date_account_created'], '%Y-%m-%d') \\\n",
    "                     - datetime.datetime.strptime(str(x['timestamp_first_active'])[:-6], '%Y%m%d')).total_seconds()\\\n",
    "          /(60*60*24.0) \\\n",
    "          ,axis=1)"
   ]
  },
  {
   "cell_type": "code",
   "execution_count": 188,
   "metadata": {
    "collapsed": true
   },
   "outputs": [],
   "source": [
    "def action_bool(action):\n",
    "    user_action = sessions[sessions['action'] == action]\n",
    "    performed = count_train_users['id'].isin(user_action['user_id'])\n",
    "    colname = 'b_' + action\n",
    "    count_train_users[colname] = performed\n",
    "\n",
    "#all actions\n",
    "actions = sessions['action'].dropna().drop_duplicates()\n",
    "for action in actions:\n",
    "    action_bool(action)\n",
    "    "
   ]
  },
  {
   "cell_type": "code",
   "execution_count": 189,
   "metadata": {
    "collapsed": true
   },
   "outputs": [],
   "source": [
    "trainsh = pd.concat([ count_train_users[list(count_train_users)[15:]], count_train_users['age'] ], axis=1)\n",
    "\n",
    "trainsh = trainsh.dropna()\n",
    "trainshX = trainsh.drop(['country_destination'], axis=1)\n",
    "trainshY = trainsh['country_destination']\n",
    "\n"
   ]
  },
  {
   "cell_type": "code",
   "execution_count": 191,
   "metadata": {
    "collapsed": true
   },
   "outputs": [],
   "source": [
    "## Convert country label y to integer format\n",
    "countryList = sorted(list(set(trainsh['country_destination'])))\n",
    "n_classes = len(countryList)\n",
    "d = defaultdict(list)\n",
    "for c in countryList:\n",
    "    d[c] = countryList.index(c)\n",
    "\n",
    "def getLabel(c):\n",
    "    return d[c]\n",
    "    \n",
    "\n",
    "newtrainshY = trainshY.apply(getLabel)"
   ]
  },
  {
   "cell_type": "code",
   "execution_count": 192,
   "metadata": {
    "collapsed": true
   },
   "outputs": [],
   "source": [
    "Xtrain3 = np.array(trainshX)\n",
    "ytrain3 = newtrainshY"
   ]
  },
  {
   "cell_type": "code",
   "execution_count": 193,
   "metadata": {
    "collapsed": false
   },
   "outputs": [
    {
     "name": "stdout",
     "output_type": "stream",
     "text": [
      "(6258, 475)\n"
     ]
    }
   ],
   "source": [
    "print Xtrain3.shape"
   ]
  },
  {
   "cell_type": "code",
   "execution_count": 198,
   "metadata": {
    "collapsed": true
   },
   "outputs": [],
   "source": [
    "count_test_users = booked_test_users[booked_test_users['bUS'] == 'NonUS']"
   ]
  },
  {
   "cell_type": "code",
   "execution_count": 199,
   "metadata": {
    "collapsed": false
   },
   "outputs": [
    {
     "name": "stderr",
     "output_type": "stream",
     "text": [
      "/home/behnam/anaconda2/lib/python2.7/site-packages/ipykernel/__main__.py:5: SettingWithCopyWarning: \n",
      "A value is trying to be set on a copy of a slice from a DataFrame.\n",
      "Try using .loc[row_indexer,col_indexer] = value instead\n",
      "\n",
      "See the caveats in the documentation: http://pandas.pydata.org/pandas-docs/stable/indexing.html#indexing-view-versus-copy\n"
     ]
    }
   ],
   "source": [
    "def category_bool(catName, catItem):\n",
    "    user_app = count_test_users[count_test_users[catName] == catItem]\n",
    "    performed = count_test_users['id'].isin(user_app['id'])\n",
    "    colname = str(catName) + '_' + str(catItem)\n",
    "    count_test_users[colname] = performed\n",
    "\n",
    "for category in categories:\n",
    "    items = count_test_users[category].dropna().drop_duplicates()\n",
    "    for item in items:\n",
    "        category_bool(category, item)\n"
   ]
  },
  {
   "cell_type": "code",
   "execution_count": 200,
   "metadata": {
    "collapsed": false
   },
   "outputs": [
    {
     "name": "stderr",
     "output_type": "stream",
     "text": [
      "/home/behnam/anaconda2/lib/python2.7/site-packages/ipykernel/__main__.py:5: SettingWithCopyWarning: \n",
      "A value is trying to be set on a copy of a slice from a DataFrame.\n",
      "Try using .loc[row_indexer,col_indexer] = value instead\n",
      "\n",
      "See the caveats in the documentation: http://pandas.pydata.org/pandas-docs/stable/indexing.html#indexing-view-versus-copy\n"
     ]
    }
   ],
   "source": [
    "genders = count_test_users['gender'].dropna().drop_duplicates()\n",
    "for item in items:\n",
    "    if (item != '-unknown-'):\n",
    "        category_bool('gender', item)\n",
    "        \n",
    "        "
   ]
  },
  {
   "cell_type": "code",
   "execution_count": null,
   "metadata": {
    "collapsed": false
   },
   "outputs": [],
   "source": []
  },
  {
   "cell_type": "code",
   "execution_count": 203,
   "metadata": {
    "collapsed": false
   },
   "outputs": [
    {
     "ename": "ValueError",
     "evalue": "unknown categorical feature present [3 3 3 3 3 3 3 3 3 3 3 3 3 3 3 3 3 3 3 3 3 3 3 3 3 3 3 3 3 3 3 3 3 3 3 3 3\n 3 3 3 3 3 3 3 3 3 3 3 3 3 3 3 3 3 3 3 3 3 3 3 3 3 3 3 3 3 3 3 3 3 3 3 3 3\n 3 3 3 3 3 3 3 3 3 3 3 3 3 3 3 3 3 3 3 3 3 3 3 3 3 3 3 3 3 3 3 3 3 3 3 3 3\n 3 3 3 3 3 3 3 3 3 3 3 3 3 3 3 3 3 3 3 3 3 3 3 3 3 3 3 3 3 3 3 3 3 3 3 3 3\n 3 3 3 3 3 3 3 3 3 3 3 3 3 3 3 3 3 3 3 3 3 3 3 3 3 3 3 3 3 3 3 3 3 3 3 3 3\n 3 3 3 3 3 3 3 3 3 3 3 3 3 3 3 3 3 3 3 3 3 3 3 3 3 3 3 3 3 3 3 3 3 3 3 3 3\n 3 3 3 3 3 3 3 3 3 3 3 3 3 3 3 3 3 3 3 3 3 3 3 3 3 3 3 3 3 3 3 3 3 3 3 3 3\n 3 3 3 3 3 3 3 3 3 3 3 3 3 3 3 3 3 3 3 3 3 3 3 3 3 3 3 3 3 3 3 3 3 3 3 3 3\n 3 3] during transform.",
     "output_type": "error",
     "traceback": [
      "\u001b[1;31m---------------------------------------------------------------------------\u001b[0m",
      "\u001b[1;31mValueError\u001b[0m                                Traceback (most recent call last)",
      "\u001b[1;32m<ipython-input-203-8eb453e68cdf>\u001b[0m in \u001b[0;36m<module>\u001b[1;34m()\u001b[0m\n\u001b[0;32m      2\u001b[0m \u001b[0ma\u001b[0m \u001b[1;33m=\u001b[0m \u001b[0mnp\u001b[0m\u001b[1;33m.\u001b[0m\u001b[0marray\u001b[0m\u001b[1;33m(\u001b[0m\u001b[0mcount_test_users\u001b[0m\u001b[1;33m[\u001b[0m\u001b[1;34m'date_account_created'\u001b[0m\u001b[1;33m]\u001b[0m\u001b[1;33m.\u001b[0m\u001b[0mapply\u001b[0m\u001b[1;33m(\u001b[0m\u001b[0mget_season\u001b[0m\u001b[1;33m)\u001b[0m\u001b[1;33m)\u001b[0m\u001b[1;33m\u001b[0m\u001b[0m\n\u001b[0;32m      3\u001b[0m \u001b[0ma\u001b[0m \u001b[1;33m=\u001b[0m \u001b[0ma\u001b[0m\u001b[1;33m[\u001b[0m\u001b[1;33m:\u001b[0m\u001b[1;33m,\u001b[0m\u001b[0mnp\u001b[0m\u001b[1;33m.\u001b[0m\u001b[0mnewaxis\u001b[0m\u001b[1;33m]\u001b[0m\u001b[1;33m\u001b[0m\u001b[0m\n\u001b[1;32m----> 4\u001b[1;33m \u001b[0mdateFeat\u001b[0m \u001b[1;33m=\u001b[0m \u001b[0mencdate\u001b[0m\u001b[1;33m.\u001b[0m\u001b[0mtransform\u001b[0m\u001b[1;33m(\u001b[0m\u001b[0ma\u001b[0m\u001b[1;33m)\u001b[0m\u001b[1;33m\u001b[0m\u001b[0m\n\u001b[0m\u001b[0;32m      5\u001b[0m \u001b[0mdateFeat\u001b[0m \u001b[1;33m=\u001b[0m \u001b[0mdateFeat\u001b[0m\u001b[1;33m.\u001b[0m\u001b[0mtoarray\u001b[0m\u001b[1;33m(\u001b[0m\u001b[1;33m)\u001b[0m\u001b[1;33m\u001b[0m\u001b[0m\n\u001b[0;32m      6\u001b[0m \u001b[1;33m\u001b[0m\u001b[0m\n",
      "\u001b[1;32m/home/behnam/anaconda2/lib/python2.7/site-packages/sklearn/preprocessing/data.pyc\u001b[0m in \u001b[0;36mtransform\u001b[1;34m(self, X)\u001b[0m\n\u001b[0;32m   1956\u001b[0m         \"\"\"\n\u001b[0;32m   1957\u001b[0m         return _transform_selected(X, self._transform,\n\u001b[1;32m-> 1958\u001b[1;33m                                    self.categorical_features, copy=True)\n\u001b[0m",
      "\u001b[1;32m/home/behnam/anaconda2/lib/python2.7/site-packages/sklearn/preprocessing/data.pyc\u001b[0m in \u001b[0;36m_transform_selected\u001b[1;34m(X, transform, selected, copy)\u001b[0m\n\u001b[0;32m   1698\u001b[0m \u001b[1;33m\u001b[0m\u001b[0m\n\u001b[0;32m   1699\u001b[0m     \u001b[1;32mif\u001b[0m \u001b[0misinstance\u001b[0m\u001b[1;33m(\u001b[0m\u001b[0mselected\u001b[0m\u001b[1;33m,\u001b[0m \u001b[0msix\u001b[0m\u001b[1;33m.\u001b[0m\u001b[0mstring_types\u001b[0m\u001b[1;33m)\u001b[0m \u001b[1;32mand\u001b[0m \u001b[0mselected\u001b[0m \u001b[1;33m==\u001b[0m \u001b[1;34m\"all\"\u001b[0m\u001b[1;33m:\u001b[0m\u001b[1;33m\u001b[0m\u001b[0m\n\u001b[1;32m-> 1700\u001b[1;33m         \u001b[1;32mreturn\u001b[0m \u001b[0mtransform\u001b[0m\u001b[1;33m(\u001b[0m\u001b[0mX\u001b[0m\u001b[1;33m)\u001b[0m\u001b[1;33m\u001b[0m\u001b[0m\n\u001b[0m\u001b[0;32m   1701\u001b[0m \u001b[1;33m\u001b[0m\u001b[0m\n\u001b[0;32m   1702\u001b[0m     \u001b[1;32mif\u001b[0m \u001b[0mlen\u001b[0m\u001b[1;33m(\u001b[0m\u001b[0mselected\u001b[0m\u001b[1;33m)\u001b[0m \u001b[1;33m==\u001b[0m \u001b[1;36m0\u001b[0m\u001b[1;33m:\u001b[0m\u001b[1;33m\u001b[0m\u001b[0m\n",
      "\u001b[1;32m/home/behnam/anaconda2/lib/python2.7/site-packages/sklearn/preprocessing/data.pyc\u001b[0m in \u001b[0;36m_transform\u001b[1;34m(self, X)\u001b[0m\n\u001b[0;32m   1927\u001b[0m             \u001b[1;32mif\u001b[0m \u001b[0mself\u001b[0m\u001b[1;33m.\u001b[0m\u001b[0mhandle_unknown\u001b[0m \u001b[1;33m==\u001b[0m \u001b[1;34m'error'\u001b[0m\u001b[1;33m:\u001b[0m\u001b[1;33m\u001b[0m\u001b[0m\n\u001b[0;32m   1928\u001b[0m                 raise ValueError(\"unknown categorical feature present %s \"\n\u001b[1;32m-> 1929\u001b[1;33m                                  \"during transform.\" % X.ravel()[~mask])\n\u001b[0m\u001b[0;32m   1930\u001b[0m \u001b[1;33m\u001b[0m\u001b[0m\n\u001b[0;32m   1931\u001b[0m         \u001b[0mcolumn_indices\u001b[0m \u001b[1;33m=\u001b[0m \u001b[1;33m(\u001b[0m\u001b[0mX\u001b[0m \u001b[1;33m+\u001b[0m \u001b[0mindices\u001b[0m\u001b[1;33m[\u001b[0m\u001b[1;33m:\u001b[0m\u001b[1;33m-\u001b[0m\u001b[1;36m1\u001b[0m\u001b[1;33m]\u001b[0m\u001b[1;33m)\u001b[0m\u001b[1;33m.\u001b[0m\u001b[0mravel\u001b[0m\u001b[1;33m(\u001b[0m\u001b[1;33m)\u001b[0m\u001b[1;33m[\u001b[0m\u001b[0mmask\u001b[0m\u001b[1;33m]\u001b[0m\u001b[1;33m\u001b[0m\u001b[0m\n",
      "\u001b[1;31mValueError\u001b[0m: unknown categorical feature present [3 3 3 3 3 3 3 3 3 3 3 3 3 3 3 3 3 3 3 3 3 3 3 3 3 3 3 3 3 3 3 3 3 3 3 3 3\n 3 3 3 3 3 3 3 3 3 3 3 3 3 3 3 3 3 3 3 3 3 3 3 3 3 3 3 3 3 3 3 3 3 3 3 3 3\n 3 3 3 3 3 3 3 3 3 3 3 3 3 3 3 3 3 3 3 3 3 3 3 3 3 3 3 3 3 3 3 3 3 3 3 3 3\n 3 3 3 3 3 3 3 3 3 3 3 3 3 3 3 3 3 3 3 3 3 3 3 3 3 3 3 3 3 3 3 3 3 3 3 3 3\n 3 3 3 3 3 3 3 3 3 3 3 3 3 3 3 3 3 3 3 3 3 3 3 3 3 3 3 3 3 3 3 3 3 3 3 3 3\n 3 3 3 3 3 3 3 3 3 3 3 3 3 3 3 3 3 3 3 3 3 3 3 3 3 3 3 3 3 3 3 3 3 3 3 3 3\n 3 3 3 3 3 3 3 3 3 3 3 3 3 3 3 3 3 3 3 3 3 3 3 3 3 3 3 3 3 3 3 3 3 3 3 3 3\n 3 3 3 3 3 3 3 3 3 3 3 3 3 3 3 3 3 3 3 3 3 3 3 3 3 3 3 3 3 3 3 3 3 3 3 3 3\n 3 3] during transform."
     ]
    }
   ],
   "source": [
    "from datetime import datetime, date \n",
    "a = np.array(count_test_users['date_account_created'].apply(get_season))\n",
    "a = a[:,np.newaxis]\n",
    "dateFeat = encdate.transform(a)\n",
    "dateFeat = dateFeat.toarray()\n",
    "\n",
    "for i in range(len(dateFeat[0])):\n",
    "    category = 'season_' + str(i)\n",
    "    count_test_users[category] = dateFeat[:,i]"
   ]
  },
  {
   "cell_type": "code",
   "execution_count": null,
   "metadata": {
    "collapsed": true
   },
   "outputs": [],
   "source": [
    "## Gradient Boosting (sklearn)\n",
    "from sklearn.ensemble import GradientBoostingClassifier\n",
    "from sklearn.multiclass import OneVsRestClassifier\n",
    "\n",
    "\n",
    "params = {'n_estimators': 100, 'learning_rate': 0.1, 'verbose':1, 'random_state':42} \n",
    "clf3 =  OneVsRestClassifier(GradientBoostingClassifier(**params))"
   ]
  },
  {
   "cell_type": "code",
   "execution_count": null,
   "metadata": {
    "collapsed": true
   },
   "outputs": [],
   "source": [
    "clf3.fit(Xtrain3, ytrain3)"
   ]
  },
  {
   "cell_type": "code",
   "execution_count": 239,
   "metadata": {
    "collapsed": false
   },
   "outputs": [],
   "source": [
    "f = open('test.txt','w')\n",
    "f.write('id,country\\n')\n",
    "\n",
    "for user in test_users['id']:\n",
    "    u = test_users[test_users['id'] == user]\n",
    "    \n",
    "    if u['bNDF'].values[0] == 'NDF':\n",
    "        f.write(u['id'].values[0]+','+'NDF\\n')\n",
    "    else:\n",
    "        f.write(u['id'].values[0]+','+'US\\n')\n",
    "f.close()    "
   ]
  }
 ],
 "metadata": {
  "kernelspec": {
   "display_name": "Python 2",
   "language": "python",
   "name": "python2"
  },
  "language_info": {
   "codemirror_mode": {
    "name": "ipython",
    "version": 2
   },
   "file_extension": ".py",
   "mimetype": "text/x-python",
   "name": "python",
   "nbconvert_exporter": "python",
   "pygments_lexer": "ipython2",
   "version": "2.7.11"
  }
 },
 "nbformat": 4,
 "nbformat_minor": 0
}
