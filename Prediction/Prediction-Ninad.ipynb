{
 "cells": [
  {
   "cell_type": "code",
   "execution_count": 53,
   "metadata": {
    "collapsed": false
   },
   "outputs": [],
   "source": [
    "import numpy as np\n",
    "import pandas as pd\n",
    "from sklearn.utils import shuffle\n",
    "import datetime\n",
    "import sklearn.metrics as metrics\n",
    "import matplotlib.pyplot as plt\n",
    "from sklearn.model_selection import KFold, RandomizedSearchCV\n",
    "from sklearn.ensemble import RandomForestClassifier\n",
    "from sklearn.metrics import accuracy_score, f1_score, make_scorer\n",
    "from scipy.stats import randint as sp_randint"
   ]
  },
  {
   "cell_type": "code",
   "execution_count": 54,
   "metadata": {
    "collapsed": true
   },
   "outputs": [],
   "source": [
    "%matplotlib inline"
   ]
  },
  {
   "cell_type": "code",
   "execution_count": 3,
   "metadata": {
    "collapsed": false
   },
   "outputs": [
    {
     "data": {
      "text/html": [
       "<div>\n",
       "<table border=\"1\" class=\"dataframe\">\n",
       "  <thead>\n",
       "    <tr style=\"text-align: right;\">\n",
       "      <th></th>\n",
       "      <th>index</th>\n",
       "      <th>id</th>\n",
       "      <th>date_account_created</th>\n",
       "      <th>timestamp_first_active</th>\n",
       "      <th>date_first_booking</th>\n",
       "      <th>gender</th>\n",
       "      <th>age</th>\n",
       "      <th>signup_method</th>\n",
       "      <th>signup_flow</th>\n",
       "      <th>language</th>\n",
       "      <th>affiliate_channel</th>\n",
       "      <th>affiliate_provider</th>\n",
       "      <th>first_affiliate_tracked</th>\n",
       "      <th>signup_app</th>\n",
       "      <th>first_device_type</th>\n",
       "      <th>first_browser</th>\n",
       "      <th>country_destination</th>\n",
       "    </tr>\n",
       "  </thead>\n",
       "  <tbody>\n",
       "    <tr>\n",
       "      <th>0</th>\n",
       "      <td>137021</td>\n",
       "      <td>d1mm9tcy42</td>\n",
       "      <td>2014-01-01</td>\n",
       "      <td>20140101000936</td>\n",
       "      <td>2014-01-04</td>\n",
       "      <td>MALE</td>\n",
       "      <td>62.0</td>\n",
       "      <td>basic</td>\n",
       "      <td>0</td>\n",
       "      <td>en</td>\n",
       "      <td>sem-non-brand</td>\n",
       "      <td>google</td>\n",
       "      <td>omg</td>\n",
       "      <td>Web</td>\n",
       "      <td>Windows Desktop</td>\n",
       "      <td>Chrome</td>\n",
       "      <td>other</td>\n",
       "    </tr>\n",
       "    <tr>\n",
       "      <th>1</th>\n",
       "      <td>137022</td>\n",
       "      <td>yo8nz8bqcq</td>\n",
       "      <td>2014-01-01</td>\n",
       "      <td>20140101001558</td>\n",
       "      <td>NaN</td>\n",
       "      <td>-unknown-</td>\n",
       "      <td>NaN</td>\n",
       "      <td>basic</td>\n",
       "      <td>0</td>\n",
       "      <td>en</td>\n",
       "      <td>direct</td>\n",
       "      <td>direct</td>\n",
       "      <td>untracked</td>\n",
       "      <td>Web</td>\n",
       "      <td>Mac Desktop</td>\n",
       "      <td>Firefox</td>\n",
       "      <td>NDF</td>\n",
       "    </tr>\n",
       "    <tr>\n",
       "      <th>2</th>\n",
       "      <td>137023</td>\n",
       "      <td>4grx6yxeby</td>\n",
       "      <td>2014-01-01</td>\n",
       "      <td>20140101001639</td>\n",
       "      <td>NaN</td>\n",
       "      <td>-unknown-</td>\n",
       "      <td>NaN</td>\n",
       "      <td>basic</td>\n",
       "      <td>0</td>\n",
       "      <td>en</td>\n",
       "      <td>sem-brand</td>\n",
       "      <td>google</td>\n",
       "      <td>omg</td>\n",
       "      <td>Web</td>\n",
       "      <td>Windows Desktop</td>\n",
       "      <td>Firefox</td>\n",
       "      <td>NDF</td>\n",
       "    </tr>\n",
       "    <tr>\n",
       "      <th>3</th>\n",
       "      <td>137024</td>\n",
       "      <td>ncf87guaf0</td>\n",
       "      <td>2014-01-01</td>\n",
       "      <td>20140101002146</td>\n",
       "      <td>NaN</td>\n",
       "      <td>-unknown-</td>\n",
       "      <td>NaN</td>\n",
       "      <td>basic</td>\n",
       "      <td>0</td>\n",
       "      <td>en</td>\n",
       "      <td>direct</td>\n",
       "      <td>direct</td>\n",
       "      <td>linked</td>\n",
       "      <td>Web</td>\n",
       "      <td>Windows Desktop</td>\n",
       "      <td>Chrome</td>\n",
       "      <td>NDF</td>\n",
       "    </tr>\n",
       "    <tr>\n",
       "      <th>4</th>\n",
       "      <td>137025</td>\n",
       "      <td>4rvqpxoh3h</td>\n",
       "      <td>2014-01-01</td>\n",
       "      <td>20140101002619</td>\n",
       "      <td>2014-01-02</td>\n",
       "      <td>-unknown-</td>\n",
       "      <td>NaN</td>\n",
       "      <td>basic</td>\n",
       "      <td>25</td>\n",
       "      <td>en</td>\n",
       "      <td>direct</td>\n",
       "      <td>direct</td>\n",
       "      <td>untracked</td>\n",
       "      <td>iOS</td>\n",
       "      <td>iPhone</td>\n",
       "      <td>-unknown-</td>\n",
       "      <td>GB</td>\n",
       "    </tr>\n",
       "  </tbody>\n",
       "</table>\n",
       "</div>"
      ],
      "text/plain": [
       "    index          id date_account_created  timestamp_first_active  \\\n",
       "0  137021  d1mm9tcy42           2014-01-01          20140101000936   \n",
       "1  137022  yo8nz8bqcq           2014-01-01          20140101001558   \n",
       "2  137023  4grx6yxeby           2014-01-01          20140101001639   \n",
       "3  137024  ncf87guaf0           2014-01-01          20140101002146   \n",
       "4  137025  4rvqpxoh3h           2014-01-01          20140101002619   \n",
       "\n",
       "  date_first_booking     gender   age signup_method  signup_flow language  \\\n",
       "0         2014-01-04       MALE  62.0         basic            0       en   \n",
       "1                NaN  -unknown-   NaN         basic            0       en   \n",
       "2                NaN  -unknown-   NaN         basic            0       en   \n",
       "3                NaN  -unknown-   NaN         basic            0       en   \n",
       "4         2014-01-02  -unknown-   NaN         basic           25       en   \n",
       "\n",
       "  affiliate_channel affiliate_provider first_affiliate_tracked signup_app  \\\n",
       "0     sem-non-brand             google                     omg        Web   \n",
       "1            direct             direct               untracked        Web   \n",
       "2         sem-brand             google                     omg        Web   \n",
       "3            direct             direct                  linked        Web   \n",
       "4            direct             direct               untracked        iOS   \n",
       "\n",
       "  first_device_type first_browser country_destination  \n",
       "0   Windows Desktop        Chrome               other  \n",
       "1       Mac Desktop       Firefox                 NDF  \n",
       "2   Windows Desktop       Firefox                 NDF  \n",
       "3   Windows Desktop        Chrome                 NDF  \n",
       "4            iPhone     -unknown-                  GB  "
      ]
     },
     "execution_count": 3,
     "metadata": {},
     "output_type": "execute_result"
    }
   ],
   "source": [
    "#final_train_users_path = '../../Data/final_train_users.csv'\n",
    "#final_train_users = pd.read_csv(final_train_users_path)\n",
    "#final_train_users.head()\n",
    "\n",
    "train_users_path = '../../Data/train_users_2.csv'\n",
    "train_users = pd.read_csv(train_users_path)\n",
    "sessions = pd.read_csv('../../Data/sessions.csv')\n",
    "\n",
    "#Drop train users that are not in sessions\n",
    "final_train_users = train_users[train_users['id'].drop_duplicates().isin(sessions['user_id'].drop_duplicates())]\n",
    "final_train_users = final_train_users.reset_index()\n",
    "final_train_users.head()"
   ]
  },
  {
   "cell_type": "code",
   "execution_count": 4,
   "metadata": {
    "collapsed": false
   },
   "outputs": [
    {
     "data": {
      "text/html": [
       "<div>\n",
       "<table border=\"1\" class=\"dataframe\">\n",
       "  <thead>\n",
       "    <tr style=\"text-align: right;\">\n",
       "      <th></th>\n",
       "      <th>user_id</th>\n",
       "      <th>action</th>\n",
       "      <th>action_type</th>\n",
       "      <th>action_detail</th>\n",
       "      <th>device_type</th>\n",
       "      <th>secs_elapsed</th>\n",
       "    </tr>\n",
       "  </thead>\n",
       "  <tbody>\n",
       "    <tr>\n",
       "      <th>0</th>\n",
       "      <td>d1mm9tcy42</td>\n",
       "      <td>lookup</td>\n",
       "      <td>NaN</td>\n",
       "      <td>NaN</td>\n",
       "      <td>Windows Desktop</td>\n",
       "      <td>319.0</td>\n",
       "    </tr>\n",
       "    <tr>\n",
       "      <th>1</th>\n",
       "      <td>d1mm9tcy42</td>\n",
       "      <td>search_results</td>\n",
       "      <td>click</td>\n",
       "      <td>view_search_results</td>\n",
       "      <td>Windows Desktop</td>\n",
       "      <td>67753.0</td>\n",
       "    </tr>\n",
       "    <tr>\n",
       "      <th>2</th>\n",
       "      <td>d1mm9tcy42</td>\n",
       "      <td>lookup</td>\n",
       "      <td>NaN</td>\n",
       "      <td>NaN</td>\n",
       "      <td>Windows Desktop</td>\n",
       "      <td>301.0</td>\n",
       "    </tr>\n",
       "    <tr>\n",
       "      <th>3</th>\n",
       "      <td>d1mm9tcy42</td>\n",
       "      <td>search_results</td>\n",
       "      <td>click</td>\n",
       "      <td>view_search_results</td>\n",
       "      <td>Windows Desktop</td>\n",
       "      <td>22141.0</td>\n",
       "    </tr>\n",
       "    <tr>\n",
       "      <th>4</th>\n",
       "      <td>d1mm9tcy42</td>\n",
       "      <td>lookup</td>\n",
       "      <td>NaN</td>\n",
       "      <td>NaN</td>\n",
       "      <td>Windows Desktop</td>\n",
       "      <td>435.0</td>\n",
       "    </tr>\n",
       "  </tbody>\n",
       "</table>\n",
       "</div>"
      ],
      "text/plain": [
       "      user_id          action action_type        action_detail  \\\n",
       "0  d1mm9tcy42          lookup         NaN                  NaN   \n",
       "1  d1mm9tcy42  search_results       click  view_search_results   \n",
       "2  d1mm9tcy42          lookup         NaN                  NaN   \n",
       "3  d1mm9tcy42  search_results       click  view_search_results   \n",
       "4  d1mm9tcy42          lookup         NaN                  NaN   \n",
       "\n",
       "       device_type  secs_elapsed  \n",
       "0  Windows Desktop         319.0  \n",
       "1  Windows Desktop       67753.0  \n",
       "2  Windows Desktop         301.0  \n",
       "3  Windows Desktop       22141.0  \n",
       "4  Windows Desktop         435.0  "
      ]
     },
     "execution_count": 4,
     "metadata": {},
     "output_type": "execute_result"
    }
   ],
   "source": [
    "sessions_path = '../../Data/sessions.csv'\n",
    "sessions = pd.read_csv(sessions_path)\n",
    "sessions.head()"
   ]
  },
  {
   "cell_type": "code",
   "execution_count": 19,
   "metadata": {
    "collapsed": true
   },
   "outputs": [],
   "source": [
    "def action_bool(action):\n",
    "    user_action = sessions[sessions['action'] == action]\n",
    "    performed = final_train_users['id'].isin(user_action['user_id'])\n",
    "    colname = 'b_' + action\n",
    "    final_train_users[colname] = performed"
   ]
  },
  {
   "cell_type": "code",
   "execution_count": 65,
   "metadata": {
    "collapsed": false,
    "scrolled": true
   },
   "outputs": [
    {
     "data": {
      "text/plain": [
       "0                                    lookup\n",
       "1                            search_results\n",
       "7                               personalize\n",
       "8                                     index\n",
       "14                         similar_listings\n",
       "15                    ajax_refresh_subtotal\n",
       "18                                     show\n",
       "42                           header_userpic\n",
       "44                             ask_question\n",
       "78              other_hosting_reviews_first\n",
       "103                    hosting_social_proof\n",
       "117                           decision_tree\n",
       "118                     recent_reservations\n",
       "119                      faq_experiment_ids\n",
       "120                                   multi\n",
       "121                                  active\n",
       "127                               dashboard\n",
       "128                                  create\n",
       "129                           confirm_email\n",
       "131                        show_personalize\n",
       "136                                  verify\n",
       "139                                 pending\n",
       "140                               requested\n",
       "142                               concierge\n",
       "146                                     faq\n",
       "149                       clear_reservation\n",
       "184                   cancellation_policies\n",
       "191                         track_page_view\n",
       "267                                  update\n",
       "289                                      my\n",
       "                         ...               \n",
       "5540088                              airbrb\n",
       "5540126                               desks\n",
       "5633784                               sandy\n",
       "5704330                         unsubscribe\n",
       "5862996                         host_cancel\n",
       "5891092           acculynk_bin_check_failed\n",
       "6151835              acculynk_pin_pad_error\n",
       "6251364     custom_recommended_destinations\n",
       "6291590           this_hosting_reviews_3000\n",
       "6351751                      reset_calendar\n",
       "6352414                              events\n",
       "7066018                     business_travel\n",
       "7169419                  add_guest_colorbox\n",
       "7194908                hard_fallback_submit\n",
       "7457902       add_business_address_colorbox\n",
       "7560642                     my_reservations\n",
       "7936458                              report\n",
       "8003039                                book\n",
       "8039412                     revert_to_admin\n",
       "8268048            acculynk_pin_pad_success\n",
       "8712683                       south-america\n",
       "8785833              braintree_client_token\n",
       "8846813                                view\n",
       "8867796                               stpcv\n",
       "8914329           set_minimum_payout_amount\n",
       "8956377               support_phone_numbers\n",
       "9658590           refund_guest_cancellation\n",
       "9658674                      accept_decline\n",
       "9824423                         deactivated\n",
       "10075931                      rest-of-world\n",
       "Name: action, dtype: object"
      ]
     },
     "execution_count": 65,
     "metadata": {},
     "output_type": "execute_result"
    }
   ],
   "source": []
  },
  {
   "cell_type": "code",
   "execution_count": 66,
   "metadata": {
    "collapsed": false
   },
   "outputs": [
    {
     "data": {
      "text/html": [
       "<div>\n",
       "<table border=\"1\" class=\"dataframe\">\n",
       "  <thead>\n",
       "    <tr style=\"text-align: right;\">\n",
       "      <th></th>\n",
       "      <th>index</th>\n",
       "      <th>id</th>\n",
       "      <th>date_account_created</th>\n",
       "      <th>timestamp_first_active</th>\n",
       "      <th>date_first_booking</th>\n",
       "      <th>gender</th>\n",
       "      <th>age</th>\n",
       "      <th>signup_method</th>\n",
       "      <th>signup_flow</th>\n",
       "      <th>language</th>\n",
       "      <th>...</th>\n",
       "      <th>b_south-america</th>\n",
       "      <th>b_braintree_client_token</th>\n",
       "      <th>b_view</th>\n",
       "      <th>b_stpcv</th>\n",
       "      <th>b_set_minimum_payout_amount</th>\n",
       "      <th>b_support_phone_numbers</th>\n",
       "      <th>b_refund_guest_cancellation</th>\n",
       "      <th>b_accept_decline</th>\n",
       "      <th>b_deactivated</th>\n",
       "      <th>b_rest-of-world</th>\n",
       "    </tr>\n",
       "  </thead>\n",
       "  <tbody>\n",
       "    <tr>\n",
       "      <th>0</th>\n",
       "      <td>137021</td>\n",
       "      <td>d1mm9tcy42</td>\n",
       "      <td>2014-01-01</td>\n",
       "      <td>20140101000936</td>\n",
       "      <td>2014-01-04</td>\n",
       "      <td>MALE</td>\n",
       "      <td>62.0</td>\n",
       "      <td>basic</td>\n",
       "      <td>0</td>\n",
       "      <td>en</td>\n",
       "      <td>...</td>\n",
       "      <td>False</td>\n",
       "      <td>False</td>\n",
       "      <td>False</td>\n",
       "      <td>False</td>\n",
       "      <td>False</td>\n",
       "      <td>False</td>\n",
       "      <td>False</td>\n",
       "      <td>False</td>\n",
       "      <td>False</td>\n",
       "      <td>False</td>\n",
       "    </tr>\n",
       "    <tr>\n",
       "      <th>1</th>\n",
       "      <td>137022</td>\n",
       "      <td>yo8nz8bqcq</td>\n",
       "      <td>2014-01-01</td>\n",
       "      <td>20140101001558</td>\n",
       "      <td>NaN</td>\n",
       "      <td>-unknown-</td>\n",
       "      <td>NaN</td>\n",
       "      <td>basic</td>\n",
       "      <td>0</td>\n",
       "      <td>en</td>\n",
       "      <td>...</td>\n",
       "      <td>False</td>\n",
       "      <td>False</td>\n",
       "      <td>False</td>\n",
       "      <td>False</td>\n",
       "      <td>False</td>\n",
       "      <td>False</td>\n",
       "      <td>False</td>\n",
       "      <td>False</td>\n",
       "      <td>False</td>\n",
       "      <td>False</td>\n",
       "    </tr>\n",
       "    <tr>\n",
       "      <th>2</th>\n",
       "      <td>137023</td>\n",
       "      <td>4grx6yxeby</td>\n",
       "      <td>2014-01-01</td>\n",
       "      <td>20140101001639</td>\n",
       "      <td>NaN</td>\n",
       "      <td>-unknown-</td>\n",
       "      <td>NaN</td>\n",
       "      <td>basic</td>\n",
       "      <td>0</td>\n",
       "      <td>en</td>\n",
       "      <td>...</td>\n",
       "      <td>False</td>\n",
       "      <td>False</td>\n",
       "      <td>False</td>\n",
       "      <td>False</td>\n",
       "      <td>False</td>\n",
       "      <td>False</td>\n",
       "      <td>False</td>\n",
       "      <td>False</td>\n",
       "      <td>False</td>\n",
       "      <td>False</td>\n",
       "    </tr>\n",
       "    <tr>\n",
       "      <th>3</th>\n",
       "      <td>137024</td>\n",
       "      <td>ncf87guaf0</td>\n",
       "      <td>2014-01-01</td>\n",
       "      <td>20140101002146</td>\n",
       "      <td>NaN</td>\n",
       "      <td>-unknown-</td>\n",
       "      <td>NaN</td>\n",
       "      <td>basic</td>\n",
       "      <td>0</td>\n",
       "      <td>en</td>\n",
       "      <td>...</td>\n",
       "      <td>False</td>\n",
       "      <td>False</td>\n",
       "      <td>False</td>\n",
       "      <td>False</td>\n",
       "      <td>False</td>\n",
       "      <td>False</td>\n",
       "      <td>False</td>\n",
       "      <td>False</td>\n",
       "      <td>False</td>\n",
       "      <td>False</td>\n",
       "    </tr>\n",
       "    <tr>\n",
       "      <th>4</th>\n",
       "      <td>137025</td>\n",
       "      <td>4rvqpxoh3h</td>\n",
       "      <td>2014-01-01</td>\n",
       "      <td>20140101002619</td>\n",
       "      <td>2014-01-02</td>\n",
       "      <td>-unknown-</td>\n",
       "      <td>NaN</td>\n",
       "      <td>basic</td>\n",
       "      <td>25</td>\n",
       "      <td>en</td>\n",
       "      <td>...</td>\n",
       "      <td>False</td>\n",
       "      <td>False</td>\n",
       "      <td>False</td>\n",
       "      <td>False</td>\n",
       "      <td>False</td>\n",
       "      <td>False</td>\n",
       "      <td>False</td>\n",
       "      <td>False</td>\n",
       "      <td>False</td>\n",
       "      <td>False</td>\n",
       "    </tr>\n",
       "  </tbody>\n",
       "</table>\n",
       "<p>5 rows × 376 columns</p>\n",
       "</div>"
      ],
      "text/plain": [
       "    index          id date_account_created  timestamp_first_active  \\\n",
       "0  137021  d1mm9tcy42           2014-01-01          20140101000936   \n",
       "1  137022  yo8nz8bqcq           2014-01-01          20140101001558   \n",
       "2  137023  4grx6yxeby           2014-01-01          20140101001639   \n",
       "3  137024  ncf87guaf0           2014-01-01          20140101002146   \n",
       "4  137025  4rvqpxoh3h           2014-01-01          20140101002619   \n",
       "\n",
       "  date_first_booking     gender   age signup_method  signup_flow language  \\\n",
       "0         2014-01-04       MALE  62.0         basic            0       en   \n",
       "1                NaN  -unknown-   NaN         basic            0       en   \n",
       "2                NaN  -unknown-   NaN         basic            0       en   \n",
       "3                NaN  -unknown-   NaN         basic            0       en   \n",
       "4         2014-01-02  -unknown-   NaN         basic           25       en   \n",
       "\n",
       "        ...       b_south-america b_braintree_client_token b_view b_stpcv  \\\n",
       "0       ...                 False                    False  False   False   \n",
       "1       ...                 False                    False  False   False   \n",
       "2       ...                 False                    False  False   False   \n",
       "3       ...                 False                    False  False   False   \n",
       "4       ...                 False                    False  False   False   \n",
       "\n",
       "  b_set_minimum_payout_amount b_support_phone_numbers  \\\n",
       "0                       False                   False   \n",
       "1                       False                   False   \n",
       "2                       False                   False   \n",
       "3                       False                   False   \n",
       "4                       False                   False   \n",
       "\n",
       "  b_refund_guest_cancellation b_accept_decline b_deactivated b_rest-of-world  \n",
       "0                       False            False         False           False  \n",
       "1                       False            False         False           False  \n",
       "2                       False            False         False           False  \n",
       "3                       False            False         False           False  \n",
       "4                       False            False         False           False  \n",
       "\n",
       "[5 rows x 376 columns]"
      ]
     },
     "execution_count": 66,
     "metadata": {},
     "output_type": "execute_result"
    }
   ],
   "source": [
    "#actions = ['header_userpic','similar_listings','active']\n",
    "actions = sessions['action'].dropna().drop_duplicates()\n",
    "for action in actions:\n",
    "    action_bool(action)\n",
    "    \n",
    "final_train_users.head()"
   ]
  },
  {
   "cell_type": "code",
   "execution_count": 67,
   "metadata": {
    "collapsed": false
   },
   "outputs": [
    {
     "name": "stdout",
     "output_type": "stream",
     "text": [
      "(50000, 359) (50000,) (23815, 359) (23815,)\n",
      "Non NDF in train: 19441\n",
      "Non NDF in val: 9333\n"
     ]
    }
   ],
   "source": [
    "feats = map(lambda x: 'b_' + x,actions)\n",
    "X = final_train_users[feats + ['country_destination']]\n",
    "Xsh = shuffle(X,random_state = 42).reset_index()\n",
    "Xsh = Xsh.as_matrix()[:,1:]\n",
    "ntrain = 50000\n",
    "\n",
    "Xtrain = Xsh[:ntrain,:-1]\n",
    "ytrain = np.ravel(Xsh[:ntrain,-1:] != 'NDF')\n",
    "\n",
    "Xval = Xsh[ntrain:,:-1]\n",
    "yval = np.ravel(Xsh[ntrain:,-1:] != 'NDF')\n",
    "\n",
    "print Xtrain.shape, ytrain.shape, Xval.shape, yval.shape\n",
    "\n",
    "print 'Non NDF in train: {0}'.format(sum(ytrain))\n",
    "print 'Non NDF in val: {0}'.format(sum(yval))"
   ]
  },
  {
   "cell_type": "code",
   "execution_count": 91,
   "metadata": {
    "collapsed": true
   },
   "outputs": [],
   "source": [
    "labels = np.ravel(Xsh[:,-1:] != 'NDF')"
   ]
  },
  {
   "cell_type": "code",
   "execution_count": 118,
   "metadata": {
    "collapsed": false
   },
   "outputs": [
    {
     "name": "stdout",
     "output_type": "stream",
     "text": [
      "AUC ROC curve: 0.710804996542\n",
      "Train accuracy 0.88656\n",
      "Test accuracy 0.692756665967\n",
      "Number of Actions 359\n"
     ]
    },
    {
     "data": {
      "image/png": "[encoded data removed]",
      "text/plain": [
       "<matplotlib.figure.Figure at 0x7f8668c10f10>"
      ]
     },
     "metadata": {},
     "output_type": "display_data"
    }
   ],
   "source": [
    "clf = RandomForestClassifier(n_estimators=100)\n",
    "clf.fit(Xtrain,ytrain)\n",
    "pred_train = clf.predict(Xtrain)\n",
    "pred_val = clf.predict(Xval)\n",
    "\n",
    "fpr,tpr,_ = metrics.roc_curve(yval,pred_val)\n",
    "auc_roc = metrics.roc_auc_score(yval,clf.predict_proba(Xval)[:,1])\n",
    "\n",
    "print 'AUC ROC curve: {0}'.format(auc_roc)\n",
    "print 'Train accuracy {0}'.format(np.mean(pred_train == ytrain))\n",
    "print 'Test accuracy {0}'.format(np.mean(pred_val == yval))\n",
    "print 'Number of Actions {0}'.format(len(actions))\n",
    "\n",
    "plt.plot(fpr,tpr)\n",
    "plt.title('ROC Validation AUC: {0}'.format(auc_roc))\n",
    "plt.ylabel('fpr')\n",
    "plt.xlabel('tpr')\n",
    "plt.show()"
   ]
  },
  {
   "cell_type": "code",
   "execution_count": 92,
   "metadata": {
    "collapsed": true
   },
   "outputs": [],
   "source": [
    "param_dist = {\"max_depth\": [3, None],\n",
    "              \"bootstrap\": [True, False],\n",
    "              \"criterion\": [\"gini\", \"entropy\"]}\n",
    "\n",
    "# run randomized search\n",
    "n_iter_search = 8\n",
    "ftwo_scorer = make_scorer(f1_score)\n",
    "clf = RandomForestClassifier()\n",
    "random_search = RandomizedSearchCV(clf, param_distributions=param_dist,\n",
    "                                   n_iter=n_iter_search,scoring = ftwo_scorer)"
   ]
  },
  {
   "cell_type": "code",
   "execution_count": 93,
   "metadata": {
    "collapsed": true
   },
   "outputs": [],
   "source": [
    "kf = KFold(n_splits=5,shuffle=True, random_state=42)"
   ]
  },
  {
   "cell_type": "code",
   "execution_count": 98,
   "metadata": {
    "collapsed": false
   },
   "outputs": [
    {
     "data": {
      "text/plain": [
       "array([False, False, False, ..., False,  True, False], dtype=bool)"
      ]
     },
     "execution_count": 98,
     "metadata": {},
     "output_type": "execute_result"
    }
   ],
   "source": [
    "[:ntrain,:-1]"
   ]
  },
  {
   "cell_type": "code",
   "execution_count": 119,
   "metadata": {
    "collapsed": false
   },
   "outputs": [],
   "source": [
    "labels = np.ravel(Xsh[:,-1:] != 'NDF')\n",
    "score = []\n",
    "fpr = []\n",
    "tpr = []\n",
    "roc_auc = []\n",
    "for train_index, val_index in kf.split(Xsh):\n",
    "    X_train, X_val = Xsh[train_index,:-1], Xsh[val_index,:-1]\n",
    "    y_train, y_val = labels[train_index], labels[val_index]\n",
    "    \n",
    "    random_search.fit(X_train, y_train)\n",
    "    rs = random_search.best_params_\n",
    "\n",
    "    clf = RandomForestClassifier(bootstrap=rs['bootstrap'],criterion=rs['criterion'],max_depth=rs['max_depth'])\n",
    "    clf.fit(X_train,y_train)\n",
    "    \n",
    "    #ROC \n",
    "    scores = clf.predict_proba(X_val)\n",
    "    #prob = np.max((scores),axis=1)\n",
    "    prob = scores[:,1]\n",
    "\n",
    "    f, t, thresholds = metrics.roc_curve(y_val, prob)\n",
    "    fpr.append(f)\n",
    "    tpr.append(t)\n",
    "    roc_auc.append(metrics.auc(f,t))"
   ]
  },
  {
   "cell_type": "code",
   "execution_count": 109,
   "metadata": {
    "collapsed": false
   },
   "outputs": [
    {
     "name": "stdout",
     "output_type": "stream",
     "text": [
      "[0.5068151251134837, 0.49004604997828377, 0.4953868568515935, 0.48785737765686943, 0.49389525705805115]\n"
     ]
    }
   ],
   "source": [
    "print roc_auc"
   ]
  },
  {
   "cell_type": "code",
   "execution_count": 113,
   "metadata": {
    "collapsed": false
   },
   "outputs": [
    {
     "data": {
      "text/plain": [
       "(59052, 359)"
      ]
     },
     "execution_count": 113,
     "metadata": {},
     "output_type": "execute_result"
    }
   ],
   "source": [
    "X_train.shape"
   ]
  },
  {
   "cell_type": "code",
   "execution_count": 114,
   "metadata": {
    "collapsed": false
   },
   "outputs": [
    {
     "data": {
      "text/plain": [
       "array([False, False,  True, ..., False,  True, False], dtype=bool)"
      ]
     },
     "execution_count": 114,
     "metadata": {},
     "output_type": "execute_result"
    }
   ],
   "source": [
    "y_train"
   ]
  },
  {
   "cell_type": "code",
   "execution_count": null,
   "metadata": {
    "collapsed": true
   },
   "outputs": [],
   "source": []
  },
  {
   "cell_type": "code",
   "execution_count": null,
   "metadata": {
    "collapsed": true
   },
   "outputs": [],
   "source": []
  },
  {
   "cell_type": "code",
   "execution_count": null,
   "metadata": {
    "collapsed": true
   },
   "outputs": [],
   "source": []
  },
  {
   "cell_type": "code",
   "execution_count": null,
   "metadata": {
    "collapsed": false,
    "scrolled": true
   },
   "outputs": [],
   "source": []
  },
  {
   "cell_type": "markdown",
   "metadata": {},
   "source": [
    "# Make a classifier that only classifies between country destination and no country destination based on the difference in days between date account created and July 2014 (Because this was the date that showed the sharpest dropoff according to Arvind's graph"
   ]
  },
  {
   "cell_type": "code",
   "execution_count": 6,
   "metadata": {
    "collapsed": false
   },
   "outputs": [],
   "source": [
    "final_sessions = sessions[sessions['user_id'].isin(final_train_users['id'])]\n",
    "users_sesh = final_sessions[final_sessions['action'] == 'header_userpic']['user_id']\n",
    "\n",
    "dfact = final_train_users[final_train_users['id'].isin(users_sesh)]\n",
    "dfnonact = final_train_users[~final_train_users['id'].isin(users_sesh)]"
   ]
  },
  {
   "cell_type": "code",
   "execution_count": 7,
   "metadata": {
    "collapsed": false
   },
   "outputs": [],
   "source": [
    "a = np.array(dfact['country_destination'] == 'NDF')\n",
    "b = np.array(dfnonact['country_destination'] == 'NDF')\n",
    "\n",
    "X = np.array([1.0]*len(dfact) + [0.0]*len(dfnonact))\n",
    "labels = np.concatenate((a,b))\n",
    "\n",
    "X = X[:, np.newaxis]"
   ]
  },
  {
   "cell_type": "code",
   "execution_count": 32,
   "metadata": {
    "collapsed": false,
    "scrolled": true
   },
   "outputs": [
    {
     "name": "stdout",
     "output_type": "stream",
     "text": [
      "(73815, 1) (73815,)\n"
     ]
    }
   ],
   "source": [
    "print X.shape, labels.shape"
   ]
  },
  {
   "cell_type": "markdown",
   "metadata": {
    "collapsed": false
   },
   "source": [
    "train = train_users[['date_account_created','country_destination']].dropna()\n",
    "\n",
    "#Function to get the number of days between account created date and Baseline date July 2014\n",
    "def basedate(d1):\n",
    "    date_format = \"%Y-%m-%d\"\n",
    "    d2 = '2014-7-1'\n",
    "    a = datetime.datetime.strptime(d1, date_format)\n",
    "    b = datetime.datetime.strptime(d2, date_format)\n",
    "    delta = b - a\n",
    "    \n",
    "    return delta.days\n",
    "\n",
    "#Shuffle Training Set\n",
    "trainsh = shuffle(train,random_state = 42).reset_index()\n",
    "\n",
    "#Split into Train and Validation\n",
    "Xtrain = np.array(trainsh['date_account_created'][:170000].apply(basedate))\n",
    "ytrain = trainsh['country_destination'][:170000] != 'NDF'\n",
    "\n",
    "Xval = np.array(trainsh['date_account_created'][170000:].apply(basedate))\n",
    "yval = trainsh['country_destination'][170000:] != 'NDF'\n",
    "\n",
    "Xtrain = Xtrain[:, np.newaxis]\n",
    "Xval = Xval[:, np.newaxis]"
   ]
  },
  {
   "cell_type": "code",
   "execution_count": 34,
   "metadata": {
    "collapsed": false
   },
   "outputs": [],
   "source": [
    "ntrain = 50000\n",
    "Xtrain = X[:ntrain]\n",
    "ytrain = labels[:ntrain]\n",
    "Xval = X[ntrain:]\n",
    "yval = labels[ntrain:]"
   ]
  },
  {
   "cell_type": "code",
   "execution_count": 35,
   "metadata": {
    "collapsed": false
   },
   "outputs": [],
   "source": [
    "kf = KFold(n_splits=5,shuffle=True, random_state=42)\n",
    "\n",
    "\n",
    "param_dist = {\"max_depth\": [100, 50, 30, 10, 3, None],\n",
    "              \"bootstrap\": [True, False],\n",
    "              \"criterion\": [\"gini\", \"entropy\"]}\n",
    "\n",
    "# run randomized search\n",
    "clf = RandomForestClassifier()\n",
    "n_iter_search = 8\n",
    "ftwo_scorer = make_scorer(f1_score)\n",
    "random_search = RandomizedSearchCV(clf, param_distributions=param_dist,\n",
    "                                   n_iter=n_iter_search,scoring = ftwo_scorer)\n"
   ]
  },
  {
   "cell_type": "code",
   "execution_count": 40,
   "metadata": {
    "collapsed": false
   },
   "outputs": [
    {
     "name": "stdout",
     "output_type": "stream",
     "text": [
      "(59052, 1) (14763, 1)\n",
      "(59052, 1) (14763, 1)\n",
      "(59052, 1) (14763, 1)\n",
      "(59052, 1) (14763, 1)\n",
      "(59052, 1) (14763, 1)\n",
      "[0.61261261261261257, 0.61362866626024526, 0.6102418207681366, 0.60638081690713275, 0.60807423965318708]\n"
     ]
    }
   ],
   "source": [
    "score = []\n",
    "for train_index, val_index in kf.split(X):\n",
    "    X_train, X_val = X[train_index], X[val_index]\n",
    "    y_train, y_val = labels[train_index], labels[val_index]\n",
    "    \n",
    "    random_search.fit(X_train, y_train)\n",
    "    rs = random_search.best_params_\n",
    "    clf = RandomForestClassifier(bootstrap=rs['bootstrap'],criterion=rs['criterion'],max_depth=rs['max_depth'])\n",
    "    clf.fit(X_train,y_train)\n",
    "    \n",
    "    predictions = clf.predict(X_val)\n",
    "    f = accuracy_score(predictions,y_val)\n",
    "    score.append(f)\n",
    "\n",
    "    print X_train.shape, X_val.shape\n",
    "\n",
    "print score    "
   ]
  },
  {
   "cell_type": "code",
   "execution_count": 38,
   "metadata": {
    "collapsed": false
   },
   "outputs": [
    {
     "data": {
      "text/plain": [
       "<generator object split at 0x7f26fb0770f0>"
      ]
     },
     "execution_count": 38,
     "metadata": {},
     "output_type": "execute_result"
    }
   ],
   "source": []
  }
 ],
 "metadata": {
  "kernelspec": {
   "display_name": "Python 2",
   "language": "python",
   "name": "python2"
  },
  "language_info": {
   "codemirror_mode": {
    "name": "ipython",
    "version": 2
   },
   "file_extension": ".py",
   "mimetype": "text/x-python",
   "name": "python",
   "nbconvert_exporter": "python",
   "pygments_lexer": "ipython2",
   "version": "2.7.13"
  }
 },
 "nbformat": 4,
 "nbformat_minor": 0
}
