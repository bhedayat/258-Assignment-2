{
 "cells": [
  {
   "cell_type": "markdown",
   "metadata": {},
   "source": [
    "# Prediction for NDF | Not NDF\n",
    "## Top Level Prediction"
   ]
  },
  {
   "cell_type": "code",
   "execution_count": 1,
   "metadata": {
    "collapsed": true
   },
   "outputs": [],
   "source": [
    "import numpy as np\n",
    "import pandas as pd\n",
    "from sklearn.utils import shuffle\n",
    "import datetime\n",
    "import sklearn.metrics as metrics\n",
    "import sklearn.svm as svm\n",
    "import matplotlib.pyplot as plt\n",
    "from sklearn.model_selection import KFold, RandomizedSearchCV\n",
    "from sklearn.ensemble import RandomForestClassifier\n",
    "from sklearn.metrics import accuracy_score, f1_score, make_scorer\n",
    "from scipy.stats import randint as sp_randint\n",
    "from sklearn.preprocessing import OneHotEncoder\n",
    "from datetime import datetime, date\n",
    "\n",
    "%matplotlib inline"
   ]
  },
  {
   "cell_type": "code",
   "execution_count": 2,
   "metadata": {
    "collapsed": false
   },
   "outputs": [
    {
     "data": {
      "text/html": [
       "<div>\n",
       "<table border=\"1\" class=\"dataframe\">\n",
       "  <thead>\n",
       "    <tr style=\"text-align: right;\">\n",
       "      <th></th>\n",
       "      <th>index</th>\n",
       "      <th>id</th>\n",
       "      <th>date_account_created</th>\n",
       "      <th>timestamp_first_active</th>\n",
       "      <th>date_first_booking</th>\n",
       "      <th>gender</th>\n",
       "      <th>age</th>\n",
       "      <th>signup_method</th>\n",
       "      <th>signup_flow</th>\n",
       "      <th>language</th>\n",
       "      <th>affiliate_channel</th>\n",
       "      <th>affiliate_provider</th>\n",
       "      <th>first_affiliate_tracked</th>\n",
       "      <th>signup_app</th>\n",
       "      <th>first_device_type</th>\n",
       "      <th>first_browser</th>\n",
       "      <th>country_destination</th>\n",
       "    </tr>\n",
       "  </thead>\n",
       "  <tbody>\n",
       "    <tr>\n",
       "      <th>0</th>\n",
       "      <td>137021</td>\n",
       "      <td>d1mm9tcy42</td>\n",
       "      <td>2014-01-01</td>\n",
       "      <td>20140101000936</td>\n",
       "      <td>2014-01-04</td>\n",
       "      <td>MALE</td>\n",
       "      <td>62.0</td>\n",
       "      <td>basic</td>\n",
       "      <td>0</td>\n",
       "      <td>en</td>\n",
       "      <td>sem-non-brand</td>\n",
       "      <td>google</td>\n",
       "      <td>omg</td>\n",
       "      <td>Web</td>\n",
       "      <td>Windows Desktop</td>\n",
       "      <td>Chrome</td>\n",
       "      <td>other</td>\n",
       "    </tr>\n",
       "    <tr>\n",
       "      <th>1</th>\n",
       "      <td>137022</td>\n",
       "      <td>yo8nz8bqcq</td>\n",
       "      <td>2014-01-01</td>\n",
       "      <td>20140101001558</td>\n",
       "      <td>NaN</td>\n",
       "      <td>-unknown-</td>\n",
       "      <td>NaN</td>\n",
       "      <td>basic</td>\n",
       "      <td>0</td>\n",
       "      <td>en</td>\n",
       "      <td>direct</td>\n",
       "      <td>direct</td>\n",
       "      <td>untracked</td>\n",
       "      <td>Web</td>\n",
       "      <td>Mac Desktop</td>\n",
       "      <td>Firefox</td>\n",
       "      <td>NDF</td>\n",
       "    </tr>\n",
       "    <tr>\n",
       "      <th>2</th>\n",
       "      <td>137023</td>\n",
       "      <td>4grx6yxeby</td>\n",
       "      <td>2014-01-01</td>\n",
       "      <td>20140101001639</td>\n",
       "      <td>NaN</td>\n",
       "      <td>-unknown-</td>\n",
       "      <td>NaN</td>\n",
       "      <td>basic</td>\n",
       "      <td>0</td>\n",
       "      <td>en</td>\n",
       "      <td>sem-brand</td>\n",
       "      <td>google</td>\n",
       "      <td>omg</td>\n",
       "      <td>Web</td>\n",
       "      <td>Windows Desktop</td>\n",
       "      <td>Firefox</td>\n",
       "      <td>NDF</td>\n",
       "    </tr>\n",
       "    <tr>\n",
       "      <th>3</th>\n",
       "      <td>137024</td>\n",
       "      <td>ncf87guaf0</td>\n",
       "      <td>2014-01-01</td>\n",
       "      <td>20140101002146</td>\n",
       "      <td>NaN</td>\n",
       "      <td>-unknown-</td>\n",
       "      <td>NaN</td>\n",
       "      <td>basic</td>\n",
       "      <td>0</td>\n",
       "      <td>en</td>\n",
       "      <td>direct</td>\n",
       "      <td>direct</td>\n",
       "      <td>linked</td>\n",
       "      <td>Web</td>\n",
       "      <td>Windows Desktop</td>\n",
       "      <td>Chrome</td>\n",
       "      <td>NDF</td>\n",
       "    </tr>\n",
       "    <tr>\n",
       "      <th>4</th>\n",
       "      <td>137025</td>\n",
       "      <td>4rvqpxoh3h</td>\n",
       "      <td>2014-01-01</td>\n",
       "      <td>20140101002619</td>\n",
       "      <td>2014-01-02</td>\n",
       "      <td>-unknown-</td>\n",
       "      <td>NaN</td>\n",
       "      <td>basic</td>\n",
       "      <td>25</td>\n",
       "      <td>en</td>\n",
       "      <td>direct</td>\n",
       "      <td>direct</td>\n",
       "      <td>untracked</td>\n",
       "      <td>iOS</td>\n",
       "      <td>iPhone</td>\n",
       "      <td>-unknown-</td>\n",
       "      <td>GB</td>\n",
       "    </tr>\n",
       "  </tbody>\n",
       "</table>\n",
       "</div>"
      ],
      "text/plain": [
       "    index          id date_account_created  timestamp_first_active  \\\n",
       "0  137021  d1mm9tcy42           2014-01-01          20140101000936   \n",
       "1  137022  yo8nz8bqcq           2014-01-01          20140101001558   \n",
       "2  137023  4grx6yxeby           2014-01-01          20140101001639   \n",
       "3  137024  ncf87guaf0           2014-01-01          20140101002146   \n",
       "4  137025  4rvqpxoh3h           2014-01-01          20140101002619   \n",
       "\n",
       "  date_first_booking     gender   age signup_method  signup_flow language  \\\n",
       "0         2014-01-04       MALE  62.0         basic            0       en   \n",
       "1                NaN  -unknown-   NaN         basic            0       en   \n",
       "2                NaN  -unknown-   NaN         basic            0       en   \n",
       "3                NaN  -unknown-   NaN         basic            0       en   \n",
       "4         2014-01-02  -unknown-   NaN         basic           25       en   \n",
       "\n",
       "  affiliate_channel affiliate_provider first_affiliate_tracked signup_app  \\\n",
       "0     sem-non-brand             google                     omg        Web   \n",
       "1            direct             direct               untracked        Web   \n",
       "2         sem-brand             google                     omg        Web   \n",
       "3            direct             direct                  linked        Web   \n",
       "4            direct             direct               untracked        iOS   \n",
       "\n",
       "  first_device_type first_browser country_destination  \n",
       "0   Windows Desktop        Chrome               other  \n",
       "1       Mac Desktop       Firefox                 NDF  \n",
       "2   Windows Desktop       Firefox                 NDF  \n",
       "3   Windows Desktop        Chrome                 NDF  \n",
       "4            iPhone     -unknown-                  GB  "
      ]
     },
     "execution_count": 2,
     "metadata": {},
     "output_type": "execute_result"
    }
   ],
   "source": [
    "train_users_path = '../../Data/train_users_2.csv'\n",
    "train_users = pd.read_csv(train_users_path)\n",
    "sessions = pd.read_csv('../../Data/sessions.csv')\n",
    "\n",
    "#Drop train users that are not in sessions\n",
    "final_train_users = train_users[train_users['id'].drop_duplicates().isin(sessions['user_id'].drop_duplicates())]\n",
    "final_train_users = final_train_users.reset_index()\n",
    "final_train_users.head()"
   ]
  },
  {
   "cell_type": "code",
   "execution_count": 3,
   "metadata": {
    "collapsed": false
   },
   "outputs": [
    {
     "data": {
      "text/html": [
       "<div>\n",
       "<table border=\"1\" class=\"dataframe\">\n",
       "  <thead>\n",
       "    <tr style=\"text-align: right;\">\n",
       "      <th></th>\n",
       "      <th>user_id</th>\n",
       "      <th>action</th>\n",
       "      <th>action_type</th>\n",
       "      <th>action_detail</th>\n",
       "      <th>device_type</th>\n",
       "      <th>secs_elapsed</th>\n",
       "    </tr>\n",
       "  </thead>\n",
       "  <tbody>\n",
       "    <tr>\n",
       "      <th>0</th>\n",
       "      <td>d1mm9tcy42</td>\n",
       "      <td>lookup</td>\n",
       "      <td>NaN</td>\n",
       "      <td>NaN</td>\n",
       "      <td>Windows Desktop</td>\n",
       "      <td>319.0</td>\n",
       "    </tr>\n",
       "    <tr>\n",
       "      <th>1</th>\n",
       "      <td>d1mm9tcy42</td>\n",
       "      <td>search_results</td>\n",
       "      <td>click</td>\n",
       "      <td>view_search_results</td>\n",
       "      <td>Windows Desktop</td>\n",
       "      <td>67753.0</td>\n",
       "    </tr>\n",
       "    <tr>\n",
       "      <th>2</th>\n",
       "      <td>d1mm9tcy42</td>\n",
       "      <td>lookup</td>\n",
       "      <td>NaN</td>\n",
       "      <td>NaN</td>\n",
       "      <td>Windows Desktop</td>\n",
       "      <td>301.0</td>\n",
       "    </tr>\n",
       "    <tr>\n",
       "      <th>3</th>\n",
       "      <td>d1mm9tcy42</td>\n",
       "      <td>search_results</td>\n",
       "      <td>click</td>\n",
       "      <td>view_search_results</td>\n",
       "      <td>Windows Desktop</td>\n",
       "      <td>22141.0</td>\n",
       "    </tr>\n",
       "    <tr>\n",
       "      <th>4</th>\n",
       "      <td>d1mm9tcy42</td>\n",
       "      <td>lookup</td>\n",
       "      <td>NaN</td>\n",
       "      <td>NaN</td>\n",
       "      <td>Windows Desktop</td>\n",
       "      <td>435.0</td>\n",
       "    </tr>\n",
       "  </tbody>\n",
       "</table>\n",
       "</div>"
      ],
      "text/plain": [
       "      user_id          action action_type        action_detail  \\\n",
       "0  d1mm9tcy42          lookup         NaN                  NaN   \n",
       "1  d1mm9tcy42  search_results       click  view_search_results   \n",
       "2  d1mm9tcy42          lookup         NaN                  NaN   \n",
       "3  d1mm9tcy42  search_results       click  view_search_results   \n",
       "4  d1mm9tcy42          lookup         NaN                  NaN   \n",
       "\n",
       "       device_type  secs_elapsed  \n",
       "0  Windows Desktop         319.0  \n",
       "1  Windows Desktop       67753.0  \n",
       "2  Windows Desktop         301.0  \n",
       "3  Windows Desktop       22141.0  \n",
       "4  Windows Desktop         435.0  "
      ]
     },
     "execution_count": 3,
     "metadata": {},
     "output_type": "execute_result"
    }
   ],
   "source": [
    "sessions_path = '../../Data/sessions.csv'\n",
    "sessions = pd.read_csv(sessions_path)\n",
    "sessions.head()"
   ]
  },
  {
   "cell_type": "markdown",
   "metadata": {},
   "source": [
    "# Season (not used)"
   ]
  },
  {
   "cell_type": "code",
   "execution_count": 26,
   "metadata": {
    "collapsed": false
   },
   "outputs": [],
   "source": [
    "Y = 2000 # dummy leap year to allow input X-02-29 (leap day)\n",
    "seasons = [(0, (date(Y,  1,  1),  date(Y,  3, 20))),  #'winter'\n",
    "           (1, (date(Y,  3, 21),  date(Y,  6, 20))),  #'spring'\n",
    "           (2, (date(Y,  6, 21),  date(Y,  9, 22))),  #'summer'\n",
    "           (3, (date(Y,  9, 23),  date(Y, 12, 20))),  #'autumn'\n",
    "           (0, (date(Y, 12, 21),  date(Y, 12, 31)))]  #'winter'\n",
    "def get_season(now):\n",
    "    date_format = \"%Y-%m-%d\"\n",
    "    d1 = now\n",
    "    now = datetime.strptime(d1, date_format)\n",
    "    \n",
    "    if isinstance(now, datetime):\n",
    "        now = now.date()\n",
    "    now = now.replace(year=Y)\n",
    "    return next(season for season, (start, end) in seasons\n",
    "                if start <= now <= end)\n",
    "\n",
    "enc = OneHotEncoder()\n",
    "a = np.array(final_train_users['date_account_created'].apply(get_season))\n",
    "a = a[:,np.newaxis]\n",
    "dateFeat = enc.fit_transform(a)\n",
    "dateFeat = dateFeat.toarray()"
   ]
  },
  {
   "cell_type": "markdown",
   "metadata": {},
   "source": [
    "# Actions"
   ]
  },
  {
   "cell_type": "code",
   "execution_count": 5,
   "metadata": {
    "collapsed": false
   },
   "outputs": [
    {
     "data": {
      "text/html": [
       "<div>\n",
       "<table border=\"1\" class=\"dataframe\">\n",
       "  <thead>\n",
       "    <tr style=\"text-align: right;\">\n",
       "      <th></th>\n",
       "      <th>index</th>\n",
       "      <th>id</th>\n",
       "      <th>date_account_created</th>\n",
       "      <th>timestamp_first_active</th>\n",
       "      <th>date_first_booking</th>\n",
       "      <th>gender</th>\n",
       "      <th>age</th>\n",
       "      <th>signup_method</th>\n",
       "      <th>signup_flow</th>\n",
       "      <th>language</th>\n",
       "      <th>...</th>\n",
       "      <th>b_south-america</th>\n",
       "      <th>b_braintree_client_token</th>\n",
       "      <th>b_view</th>\n",
       "      <th>b_stpcv</th>\n",
       "      <th>b_set_minimum_payout_amount</th>\n",
       "      <th>b_support_phone_numbers</th>\n",
       "      <th>b_refund_guest_cancellation</th>\n",
       "      <th>b_accept_decline</th>\n",
       "      <th>b_deactivated</th>\n",
       "      <th>b_rest-of-world</th>\n",
       "    </tr>\n",
       "  </thead>\n",
       "  <tbody>\n",
       "    <tr>\n",
       "      <th>0</th>\n",
       "      <td>137021</td>\n",
       "      <td>d1mm9tcy42</td>\n",
       "      <td>2014-01-01</td>\n",
       "      <td>20140101000936</td>\n",
       "      <td>2014-01-04</td>\n",
       "      <td>MALE</td>\n",
       "      <td>62.0</td>\n",
       "      <td>basic</td>\n",
       "      <td>0</td>\n",
       "      <td>en</td>\n",
       "      <td>...</td>\n",
       "      <td>False</td>\n",
       "      <td>False</td>\n",
       "      <td>False</td>\n",
       "      <td>False</td>\n",
       "      <td>False</td>\n",
       "      <td>False</td>\n",
       "      <td>False</td>\n",
       "      <td>False</td>\n",
       "      <td>False</td>\n",
       "      <td>False</td>\n",
       "    </tr>\n",
       "    <tr>\n",
       "      <th>1</th>\n",
       "      <td>137022</td>\n",
       "      <td>yo8nz8bqcq</td>\n",
       "      <td>2014-01-01</td>\n",
       "      <td>20140101001558</td>\n",
       "      <td>NaN</td>\n",
       "      <td>-unknown-</td>\n",
       "      <td>NaN</td>\n",
       "      <td>basic</td>\n",
       "      <td>0</td>\n",
       "      <td>en</td>\n",
       "      <td>...</td>\n",
       "      <td>False</td>\n",
       "      <td>False</td>\n",
       "      <td>False</td>\n",
       "      <td>False</td>\n",
       "      <td>False</td>\n",
       "      <td>False</td>\n",
       "      <td>False</td>\n",
       "      <td>False</td>\n",
       "      <td>False</td>\n",
       "      <td>False</td>\n",
       "    </tr>\n",
       "    <tr>\n",
       "      <th>2</th>\n",
       "      <td>137023</td>\n",
       "      <td>4grx6yxeby</td>\n",
       "      <td>2014-01-01</td>\n",
       "      <td>20140101001639</td>\n",
       "      <td>NaN</td>\n",
       "      <td>-unknown-</td>\n",
       "      <td>NaN</td>\n",
       "      <td>basic</td>\n",
       "      <td>0</td>\n",
       "      <td>en</td>\n",
       "      <td>...</td>\n",
       "      <td>False</td>\n",
       "      <td>False</td>\n",
       "      <td>False</td>\n",
       "      <td>False</td>\n",
       "      <td>False</td>\n",
       "      <td>False</td>\n",
       "      <td>False</td>\n",
       "      <td>False</td>\n",
       "      <td>False</td>\n",
       "      <td>False</td>\n",
       "    </tr>\n",
       "    <tr>\n",
       "      <th>3</th>\n",
       "      <td>137024</td>\n",
       "      <td>ncf87guaf0</td>\n",
       "      <td>2014-01-01</td>\n",
       "      <td>20140101002146</td>\n",
       "      <td>NaN</td>\n",
       "      <td>-unknown-</td>\n",
       "      <td>NaN</td>\n",
       "      <td>basic</td>\n",
       "      <td>0</td>\n",
       "      <td>en</td>\n",
       "      <td>...</td>\n",
       "      <td>False</td>\n",
       "      <td>False</td>\n",
       "      <td>False</td>\n",
       "      <td>False</td>\n",
       "      <td>False</td>\n",
       "      <td>False</td>\n",
       "      <td>False</td>\n",
       "      <td>False</td>\n",
       "      <td>False</td>\n",
       "      <td>False</td>\n",
       "    </tr>\n",
       "    <tr>\n",
       "      <th>4</th>\n",
       "      <td>137025</td>\n",
       "      <td>4rvqpxoh3h</td>\n",
       "      <td>2014-01-01</td>\n",
       "      <td>20140101002619</td>\n",
       "      <td>2014-01-02</td>\n",
       "      <td>-unknown-</td>\n",
       "      <td>NaN</td>\n",
       "      <td>basic</td>\n",
       "      <td>25</td>\n",
       "      <td>en</td>\n",
       "      <td>...</td>\n",
       "      <td>False</td>\n",
       "      <td>False</td>\n",
       "      <td>False</td>\n",
       "      <td>False</td>\n",
       "      <td>False</td>\n",
       "      <td>False</td>\n",
       "      <td>False</td>\n",
       "      <td>False</td>\n",
       "      <td>False</td>\n",
       "      <td>False</td>\n",
       "    </tr>\n",
       "  </tbody>\n",
       "</table>\n",
       "<p>5 rows × 376 columns</p>\n",
       "</div>"
      ],
      "text/plain": [
       "    index          id date_account_created  timestamp_first_active  \\\n",
       "0  137021  d1mm9tcy42           2014-01-01          20140101000936   \n",
       "1  137022  yo8nz8bqcq           2014-01-01          20140101001558   \n",
       "2  137023  4grx6yxeby           2014-01-01          20140101001639   \n",
       "3  137024  ncf87guaf0           2014-01-01          20140101002146   \n",
       "4  137025  4rvqpxoh3h           2014-01-01          20140101002619   \n",
       "\n",
       "  date_first_booking     gender   age signup_method  signup_flow language  \\\n",
       "0         2014-01-04       MALE  62.0         basic            0       en   \n",
       "1                NaN  -unknown-   NaN         basic            0       en   \n",
       "2                NaN  -unknown-   NaN         basic            0       en   \n",
       "3                NaN  -unknown-   NaN         basic            0       en   \n",
       "4         2014-01-02  -unknown-   NaN         basic           25       en   \n",
       "\n",
       "        ...       b_south-america b_braintree_client_token b_view b_stpcv  \\\n",
       "0       ...                 False                    False  False   False   \n",
       "1       ...                 False                    False  False   False   \n",
       "2       ...                 False                    False  False   False   \n",
       "3       ...                 False                    False  False   False   \n",
       "4       ...                 False                    False  False   False   \n",
       "\n",
       "  b_set_minimum_payout_amount b_support_phone_numbers  \\\n",
       "0                       False                   False   \n",
       "1                       False                   False   \n",
       "2                       False                   False   \n",
       "3                       False                   False   \n",
       "4                       False                   False   \n",
       "\n",
       "  b_refund_guest_cancellation b_accept_decline b_deactivated b_rest-of-world  \n",
       "0                       False            False         False           False  \n",
       "1                       False            False         False           False  \n",
       "2                       False            False         False           False  \n",
       "3                       False            False         False           False  \n",
       "4                       False            False         False           False  \n",
       "\n",
       "[5 rows x 376 columns]"
      ]
     },
     "execution_count": 5,
     "metadata": {},
     "output_type": "execute_result"
    }
   ],
   "source": [
    "def action_bool(action):\n",
    "    user_action = sessions[sessions['action'] == action]\n",
    "    performed = final_train_users['id'].isin(user_action['user_id'])\n",
    "    colname = 'b_' + action\n",
    "    final_train_users[colname] = performed\n",
    "\n",
    "#all actions\n",
    "actions = sessions['action'].dropna().drop_duplicates()\n",
    "for action in actions:\n",
    "    action_bool(action)\n",
    "    \n",
    "final_train_users.head()"
   ]
  },
  {
   "cell_type": "markdown",
   "metadata": {},
   "source": [
    "# Set up Data"
   ]
  },
  {
   "cell_type": "code",
   "execution_count": 6,
   "metadata": {
    "collapsed": false
   },
   "outputs": [
    {
     "name": "stdout",
     "output_type": "stream",
     "text": [
      "(50000, 359) (50000,) (23815, 359) (23815,)\n",
      "Non NDF in train: 19441\n",
      "Non NDF in val: 9333\n"
     ]
    }
   ],
   "source": [
    "feats = map(lambda x: 'b_' + x,actions)\n",
    "X = final_train_users[feats + ['country_destination']]\n",
    "Xsh = shuffle(X,random_state = 42).reset_index()\n",
    "Xsh = Xsh.as_matrix()[:,1:]\n",
    "#Xsh = np.concatenate((dateFeat,Xsh),axis=1)\n",
    "ntrain = 50000\n",
    "\n",
    "Xtrain = Xsh[:ntrain,:-1]\n",
    "ytrain = np.ravel(Xsh[:ntrain,-1:] != 'NDF')\n",
    "\n",
    "Xval = Xsh[ntrain:,:-1]\n",
    "yval = np.ravel(Xsh[ntrain:,-1:] != 'NDF')\n",
    "\n",
    "print Xtrain.shape, ytrain.shape, Xval.shape, yval.shape\n",
    "\n",
    "print 'Non NDF in train: {0}'.format(sum(ytrain))\n",
    "print 'Non NDF in val: {0}'.format(sum(yval))"
   ]
  },
  {
   "cell_type": "markdown",
   "metadata": {},
   "source": [
    "# Random Forest"
   ]
  },
  {
   "cell_type": "code",
   "execution_count": 7,
   "metadata": {
    "collapsed": false
   },
   "outputs": [
    {
     "name": "stdout",
     "output_type": "stream",
     "text": [
      "AUC ROC curve: 0.711666860732\n",
      "Valid accuracy 0.88658\n",
      "Val accuracy 0.694310308629\n",
      "Number of Actions 359\n"
     ]
    },
    {
     "data": {
      "image/png": "[encoded data removed]",
      "text/plain": [
       "<matplotlib.figure.Figure at 0x7f6f7a336e50>"
      ]
     },
     "metadata": {},
     "output_type": "display_data"
    }
   ],
   "source": [
    "clf = RandomForestClassifier(n_estimators=200)\n",
    "clf.fit(Xtrain,ytrain)\n",
    "pred_train = clf.predict(Xtrain)\n",
    "pred_val = clf.predict(Xval)\n",
    "\n",
    "fpr,tpr,_ = metrics.roc_curve(yval,pred_val)\n",
    "auc_roc = metrics.roc_auc_score(yval,clf.predict_proba(Xval)[:,1])\n",
    "\n",
    "print 'AUC ROC curve: {0}'.format(auc_roc)\n",
    "print 'Valid accuracy {0}'.format(np.mean(pred_train == ytrain))\n",
    "print 'Val accuracy {0}'.format(np.mean(pred_val == yval))\n",
    "print 'Number of Actions {0}'.format(len(actions))\n",
    "\n",
    "plt.plot(fpr,tpr)\n",
    "plt.title('ROC Validation AUC: {0}'.format(auc_roc))\n",
    "plt.ylabel('fpr')\n",
    "plt.xlabel('tpr')\n",
    "plt.show()"
   ]
  },
  {
   "cell_type": "markdown",
   "metadata": {},
   "source": [
    "# K fold"
   ]
  },
  {
   "cell_type": "code",
   "execution_count": 8,
   "metadata": {
    "collapsed": false
   },
   "outputs": [
    {
     "name": "stdout",
     "output_type": "stream",
     "text": [
      "[0.70523951376841021, 0.70303799947260659, 0.70714613897921486, 0.71452588962513985, 0.71014785816063641]\n"
     ]
    }
   ],
   "source": [
    "kf = KFold(n_splits=5,shuffle=True, random_state=42)\n",
    "\n",
    "score = []\n",
    "fpr = []\n",
    "tpr = []\n",
    "roc_auc = []\n",
    "for train_index, val_index in kf.split(Xsh):\n",
    "    X_train, X_val = Xsh[train_index,:-1], Xsh[val_index,:-1]\n",
    "    y_train, y_val = np.ravel(Xsh[train_index,-1:] != 'NDF'), np.ravel(Xsh[val_index,-1:] != 'NDF')\n",
    "    \n",
    "    clf = RandomForestClassifier(n_estimators=100)\n",
    "    clf.fit(X_train,y_train)\n",
    "    \n",
    "    pred_val = clf.predict_proba(X_val)[:,1]\n",
    "\n",
    "    f,t,_ = metrics.roc_curve(y_val,pred_val)\n",
    "    auc = metrics.roc_auc_score(y_val,pred_val)\n",
    "    \n",
    "    fpr.append(f)\n",
    "    tpr.append(t)\n",
    "    roc_auc.append(auc)\n",
    "    \n",
    "print roc_auc"
   ]
  },
  {
   "cell_type": "code",
   "execution_count": 42,
   "metadata": {
    "collapsed": false
   },
   "outputs": [
    {
     "data": {
      "image/png": "[encoded data removed]",
      "text/plain": [
       "<matplotlib.figure.Figure at 0x7f6f47febe10>"
      ]
     },
     "metadata": {},
     "output_type": "display_data"
    }
   ],
   "source": [
    "plt.rc('xtick', labelsize=10) \n",
    "plt.rc('ytick', labelsize=10) \n",
    "\n",
    "plt.hold\n",
    "plt.grid()\n",
    "for i in range(len(fpr)):\n",
    "    plt.plot(fpr[i],tpr[i],label='ROC={0:.5f}'.format(roc_auc[i]))\n",
    "\n",
    "plt.plot([0,1],[0,1],linestyle='--',color='r')\n",
    "    \n",
    "plt.ylabel('fpr',fontsize=20)\n",
    "plt.xlabel('tpr',fontsize=20)\n",
    "plt.title('ROC Curves for K=5 CV using Random Forest',fontsize=15)\n",
    "plt.legend(loc=4)\n",
    "plt.show()"
   ]
  },
  {
   "cell_type": "code",
   "execution_count": null,
   "metadata": {
    "collapsed": true
   },
   "outputs": [],
   "source": []
  },
  {
   "cell_type": "code",
   "execution_count": null,
   "metadata": {
    "collapsed": true
   },
   "outputs": [],
   "source": []
  },
  {
   "cell_type": "code",
   "execution_count": null,
   "metadata": {
    "collapsed": true
   },
   "outputs": [],
   "source": []
  },
  {
   "cell_type": "code",
   "execution_count": null,
   "metadata": {
    "collapsed": true
   },
   "outputs": [],
   "source": []
  }
 ],
 "metadata": {
  "kernelspec": {
   "display_name": "Python 2",
   "language": "python",
   "name": "python2"
  },
  "language_info": {
   "codemirror_mode": {
    "name": "ipython",
    "version": 2
   },
   "file_extension": ".py",
   "mimetype": "text/x-python",
   "name": "python",
   "nbconvert_exporter": "python",
   "pygments_lexer": "ipython2",
   "version": "2.7.13"
  }
 },
 "nbformat": 4,
 "nbformat_minor": 0
}
